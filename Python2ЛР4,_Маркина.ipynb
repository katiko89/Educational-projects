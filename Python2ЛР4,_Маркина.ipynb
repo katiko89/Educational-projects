{
  "nbformat": 4,
  "nbformat_minor": 0,
  "metadata": {
    "colab": {
      "provenance": [],
      "authorship_tag": "ABX9TyPd8VAJ2yggOh+0QTNXvmmr",
      "include_colab_link": true
    },
    "kernelspec": {
      "name": "python3",
      "display_name": "Python 3"
    },
    "language_info": {
      "name": "python"
    }
  },
  "cells": [
    {
      "cell_type": "markdown",
      "metadata": {
        "id": "view-in-github",
        "colab_type": "text"
      },
      "source": [
        "<a href=\"https://colab.research.google.com/github/katiko89/Educational-projects/blob/main/Python2%D0%9B%D0%A04%2C_%D0%9C%D0%B0%D1%80%D0%BA%D0%B8%D0%BD%D0%B0.ipynb\" target=\"_parent\"><img src=\"https://colab.research.google.com/assets/colab-badge.svg\" alt=\"Open In Colab\"/></a>"
      ]
    },
    {
      "cell_type": "markdown",
      "source": [
        "# Загрузка данных\n",
        "Загрузим данные из модуля torchvision"
      ],
      "metadata": {
        "id": "2DixXkMC73ua"
      }
    },
    {
      "cell_type": "code",
      "source": [
        "import torch\n",
        "from torchvision import datasets, transforms, models\n",
        "import torch.nn as nn\n",
        "import tqdm\n",
        "from tqdm.auto import tqdm\n",
        "import torch.optim as optim\n",
        "import numpy as np"
      ],
      "metadata": {
        "id": "G6dzfVPP6HOH"
      },
      "execution_count": null,
      "outputs": []
    },
    {
      "cell_type": "code",
      "source": [
        "transforms = transforms.Compose([\n",
        "        transforms.ToTensor(),\n",
        "        transforms.Normalize((0.5,), (0.5,))\n",
        "    ])"
      ],
      "metadata": {
        "id": "EJycAR8SE74h"
      },
      "execution_count": null,
      "outputs": []
    },
    {
      "cell_type": "code",
      "source": [
        "train_data = datasets.MNIST(root=\"./mnist_data\", train=True, download=True, transform=transforms)\n",
        "test_data = datasets.MNIST(root=\"./mnist_data\", train=False, download=True, transform=transforms)\n",
        "\n",
        "train_loader = torch.utils.data.DataLoader(train_data, batch_size=64, shuffle=True)\n",
        "test_loader = torch.utils.data.DataLoader(test_data, batch_size=64, shuffle=True)"
      ],
      "metadata": {
        "id": "byRV75yJ_AB0",
        "colab": {
          "base_uri": "https://localhost:8080/"
        },
        "outputId": "9820cede-7d65-4043-fbfc-247a39a11f7e"
      },
      "execution_count": null,
      "outputs": [
        {
          "output_type": "stream",
          "name": "stdout",
          "text": [
            "Downloading http://yann.lecun.com/exdb/mnist/train-images-idx3-ubyte.gz\n",
            "Failed to download (trying next):\n",
            "HTTP Error 403: Forbidden\n",
            "\n",
            "Downloading https://ossci-datasets.s3.amazonaws.com/mnist/train-images-idx3-ubyte.gz\n",
            "Downloading https://ossci-datasets.s3.amazonaws.com/mnist/train-images-idx3-ubyte.gz to ./mnist_data/MNIST/raw/train-images-idx3-ubyte.gz\n"
          ]
        },
        {
          "output_type": "stream",
          "name": "stderr",
          "text": [
            "100%|██████████| 9912422/9912422 [00:01<00:00, 5464210.23it/s]\n"
          ]
        },
        {
          "output_type": "stream",
          "name": "stdout",
          "text": [
            "Extracting ./mnist_data/MNIST/raw/train-images-idx3-ubyte.gz to ./mnist_data/MNIST/raw\n",
            "\n",
            "Downloading http://yann.lecun.com/exdb/mnist/train-labels-idx1-ubyte.gz\n",
            "Failed to download (trying next):\n",
            "HTTP Error 403: Forbidden\n",
            "\n",
            "Downloading https://ossci-datasets.s3.amazonaws.com/mnist/train-labels-idx1-ubyte.gz\n",
            "Downloading https://ossci-datasets.s3.amazonaws.com/mnist/train-labels-idx1-ubyte.gz to ./mnist_data/MNIST/raw/train-labels-idx1-ubyte.gz\n"
          ]
        },
        {
          "output_type": "stream",
          "name": "stderr",
          "text": [
            "100%|██████████| 28881/28881 [00:00<00:00, 485638.38it/s]\n"
          ]
        },
        {
          "output_type": "stream",
          "name": "stdout",
          "text": [
            "Extracting ./mnist_data/MNIST/raw/train-labels-idx1-ubyte.gz to ./mnist_data/MNIST/raw\n",
            "\n",
            "Downloading http://yann.lecun.com/exdb/mnist/t10k-images-idx3-ubyte.gz\n",
            "Failed to download (trying next):\n",
            "HTTP Error 403: Forbidden\n",
            "\n",
            "Downloading https://ossci-datasets.s3.amazonaws.com/mnist/t10k-images-idx3-ubyte.gz\n",
            "Downloading https://ossci-datasets.s3.amazonaws.com/mnist/t10k-images-idx3-ubyte.gz to ./mnist_data/MNIST/raw/t10k-images-idx3-ubyte.gz\n"
          ]
        },
        {
          "output_type": "stream",
          "name": "stderr",
          "text": [
            "100%|██████████| 1648877/1648877 [00:01<00:00, 932927.50it/s] \n"
          ]
        },
        {
          "output_type": "stream",
          "name": "stdout",
          "text": [
            "Extracting ./mnist_data/MNIST/raw/t10k-images-idx3-ubyte.gz to ./mnist_data/MNIST/raw\n",
            "\n",
            "Downloading http://yann.lecun.com/exdb/mnist/t10k-labels-idx1-ubyte.gz\n",
            "Failed to download (trying next):\n",
            "HTTP Error 403: Forbidden\n",
            "\n",
            "Downloading https://ossci-datasets.s3.amazonaws.com/mnist/t10k-labels-idx1-ubyte.gz\n",
            "Downloading https://ossci-datasets.s3.amazonaws.com/mnist/t10k-labels-idx1-ubyte.gz to ./mnist_data/MNIST/raw/t10k-labels-idx1-ubyte.gz\n"
          ]
        },
        {
          "output_type": "stream",
          "name": "stderr",
          "text": [
            "100%|██████████| 4542/4542 [00:00<00:00, 4477210.05it/s]"
          ]
        },
        {
          "output_type": "stream",
          "name": "stdout",
          "text": [
            "Extracting ./mnist_data/MNIST/raw/t10k-labels-idx1-ubyte.gz to ./mnist_data/MNIST/raw\n",
            "\n"
          ]
        },
        {
          "output_type": "stream",
          "name": "stderr",
          "text": [
            "\n"
          ]
        }
      ]
    },
    {
      "cell_type": "markdown",
      "source": [
        "# I. Построение полносвязной нейронной сети\n",
        "В этом раздеое реализуем свою архитектуру полносвязной нейронной сети с самостоятельно выбранным количеством слоев, нейронов в них и функций активации."
      ],
      "metadata": {
        "id": "SF84jS-Z8GS0"
      }
    },
    {
      "cell_type": "code",
      "source": [
        "class FullyConnected(nn.Module):\n",
        "    def __init__(self):\n",
        "        super(FullyConnected, self).__init__()\n",
        "        self.fc1 = nn.Linear(28*28, 128)\n",
        "        self.fc2 = nn.Linear(128, 64)\n",
        "        self.fc3 = nn.Linear(64, 10)\n",
        "\n",
        "    def forward(self, x):\n",
        "        x = x.view(-1, 28*28)\n",
        "        x = nn.functional.relu(self.fc1(x))\n",
        "        x = nn.functional.relu(self.fc2(x))\n",
        "        x = self.fc3(x)\n",
        "        return x\n",
        "\n"
      ],
      "metadata": {
        "id": "WfQKyqCUGEdR"
      },
      "execution_count": null,
      "outputs": []
    },
    {
      "cell_type": "markdown",
      "source": [
        "#II. Построение свёрточной нейронной сети"
      ],
      "metadata": {
        "id": "I-dDXfYc8NPK"
      }
    },
    {
      "cell_type": "code",
      "source": [
        "class ConvNet(nn.Module):\n",
        "    def __init__(self):\n",
        "        super().__init__()\n",
        "        #28x28\n",
        "        self.conv1 = nn.Conv2d(in_channels=1, out_channels=32, kernel_size=(3,3)) #26x26\n",
        "        self.conv2 = nn.Conv2d(in_channels=32, out_channels=16, kernel_size=(3,3)) #24x24\n",
        "        self.pool2=nn.MaxPool2d(kernel_size=(2,2))#12x12\n",
        "        self.conv3=nn.Conv2d(in_channels=16, out_channels=8, kernel_size=(3, 3)) #10x10\n",
        "        # flatten\n",
        "        self.flatten = nn.Flatten()\n",
        "\n",
        "        self.fc1 = nn.Linear(10*10*8, 512)\n",
        "        self.fc2 = nn.Linear(512, 128)\n",
        "        self.fc3 = nn.Linear(128, 10)\n",
        "\n",
        "\n",
        "    def forward(self, x):\n",
        "        x = nn.functional.relu(self.conv1(x))\n",
        "        x = nn.functional.relu(self.conv2(x))\n",
        "        x = nn.functional.relu(self.pool2(x))\n",
        "        x = nn.functional.relu(self.conv3(x))\n",
        "\n",
        "        x = self.flatten(x)\n",
        "\n",
        "        x = nn.functional.relu(self.fc1(x))\n",
        "        x = nn.functional.relu(self.fc2(x))\n",
        "        x = self.fc3(x)\n",
        "\n",
        "        return x"
      ],
      "metadata": {
        "id": "i420HGMWNmzb"
      },
      "execution_count": null,
      "outputs": []
    },
    {
      "cell_type": "markdown",
      "source": [
        "#III. Обучение сетей и применение существующих моделей для классификации изображений"
      ],
      "metadata": {
        "id": "QOyjqyaJ8fCX"
      }
    },
    {
      "cell_type": "code",
      "source": [
        "fc_model = FullyConnected()\n",
        "cnn_model = ConvNet()\n",
        "\n",
        "criterion = nn.CrossEntropyLoss()\n",
        "optimizer_fc = optim.Adam(fc_model.parameters(), lr=0.001)\n",
        "optimizer_cnn = optim.Adam(cnn_model.parameters(), lr=0.001)"
      ],
      "metadata": {
        "id": "_4kVf7SjPMcU"
      },
      "execution_count": null,
      "outputs": []
    },
    {
      "cell_type": "code",
      "source": [
        "def train(model, optimizer, criterion, train_loader, epochs=10):\n",
        "    for epoch in range(epochs):\n",
        "        model.train()\n",
        "        running_loss = 0.0\n",
        "        for i, data in enumerate(train_loader):\n",
        "            inputs, labels = data\n",
        "            optimizer.zero_grad()\n",
        "            outputs = model(inputs)\n",
        "            loss = criterion(outputs, labels)\n",
        "            loss.backward()\n",
        "            optimizer.step()\n",
        "            running_loss += loss.item()\n",
        "        print(f'For epoch {epoch+1} loss={running_loss/len(train_loader)}')"
      ],
      "metadata": {
        "id": "TExnqyaLVpF8"
      },
      "execution_count": null,
      "outputs": []
    },
    {
      "cell_type": "code",
      "source": [
        "train(fc_model, optimizer_fc, criterion, train_loader)"
      ],
      "metadata": {
        "id": "XvvAbxtv-2PE",
        "colab": {
          "base_uri": "https://localhost:8080/"
        },
        "outputId": "1e7aa16b-24db-4f21-d7cb-e27626038ba3"
      },
      "execution_count": null,
      "outputs": [
        {
          "output_type": "stream",
          "name": "stdout",
          "text": [
            "For epoch 1 loss=0.39627754677936977\n",
            "For epoch 2 loss=0.19243448521933956\n",
            "For epoch 3 loss=0.13774710511173138\n",
            "For epoch 4 loss=0.11291494192992414\n",
            "For epoch 5 loss=0.0943255129032957\n",
            "For epoch 6 loss=0.08368378780982785\n",
            "For epoch 7 loss=0.07413431728032352\n",
            "For epoch 8 loss=0.06481606472553665\n",
            "For epoch 9 loss=0.05994339001864921\n",
            "For epoch 10 loss=0.05450525402073075\n"
          ]
        }
      ]
    },
    {
      "cell_type": "code",
      "source": [
        "train(cnn_model, optimizer_cnn, criterion, train_loader)"
      ],
      "metadata": {
        "id": "LtRvmo8HNrI5",
        "colab": {
          "base_uri": "https://localhost:8080/"
        },
        "outputId": "6bbee4c6-f5ea-42ca-d936-5905cb3dd76c"
      },
      "execution_count": null,
      "outputs": [
        {
          "output_type": "stream",
          "name": "stdout",
          "text": [
            "For epoch 1 loss=0.1902702399253992\n",
            "For epoch 2 loss=0.05304972097027683\n",
            "For epoch 3 loss=0.03530874703951212\n",
            "For epoch 4 loss=0.027246409532675982\n",
            "For epoch 5 loss=0.02060897485809933\n",
            "For epoch 6 loss=0.017518146910886278\n",
            "For epoch 7 loss=0.014222606642098849\n",
            "For epoch 8 loss=0.011948412961102828\n",
            "For epoch 9 loss=0.011608019800596614\n",
            "For epoch 10 loss=0.010412381672140638\n"
          ]
        }
      ]
    },
    {
      "cell_type": "code",
      "source": [
        "from sklearn.metrics import accuracy_score\n",
        "\n",
        "def evaluate(model, test_loader):\n",
        "\n",
        "    true_labels = []\n",
        "    predicted_labels = []\n",
        "\n",
        "    with torch.no_grad():\n",
        "        for images, labels in test_loader:\n",
        "            X_test, y_test = images, labels\n",
        "            outputs = model(X_test)\n",
        "            _, pred = torch.max(outputs.data, 1)\n",
        "\n",
        "            true_labels.extend(y_test.tolist())\n",
        "            predicted_labels.extend(pred.tolist())\n",
        "\n",
        "    accuracy = accuracy_score(true_labels, predicted_labels)\n",
        "    print(f'Accuracy: {accuracy}')\n",
        "\n",
        "evaluate(fc_model, test_loader)\n",
        "evaluate(cnn_model, test_loader)"
      ],
      "metadata": {
        "id": "ENq93piPsDxd",
        "colab": {
          "base_uri": "https://localhost:8080/"
        },
        "outputId": "e3a0b83d-97ab-467a-e86c-a446a62eab77"
      },
      "execution_count": null,
      "outputs": [
        {
          "output_type": "stream",
          "name": "stdout",
          "text": [
            "Accuracy: 0.975\n",
            "Accuracy: 0.9896\n"
          ]
        }
      ]
    }
  ]
}