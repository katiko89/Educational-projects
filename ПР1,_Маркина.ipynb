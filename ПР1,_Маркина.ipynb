{
  "nbformat": 4,
  "nbformat_minor": 0,
  "metadata": {
    "colab": {
      "provenance": [],
      "include_colab_link": true
    },
    "kernelspec": {
      "name": "python3",
      "display_name": "Python 3"
    },
    "language_info": {
      "name": "python"
    }
  },
  "cells": [
    {
      "cell_type": "markdown",
      "metadata": {
        "id": "view-in-github",
        "colab_type": "text"
      },
      "source": [
        "<a href=\"https://colab.research.google.com/github/katiko89/Educational-projects/blob/main/%D0%9F%D0%A01%2C_%D0%9C%D0%B0%D1%80%D0%BA%D0%B8%D0%BD%D0%B0.ipynb\" target=\"_parent\"><img src=\"https://colab.research.google.com/assets/colab-badge.svg\" alt=\"Open In Colab\"/></a>"
      ]
    },
    {
      "cell_type": "markdown",
      "source": [
        "# Программирование на языке Python.\n",
        "\n",
        "Преподаватель: Горохов Олег Евгеньевич.\n",
        "\n",
        "e-mail: gorokhov-oe@cs.msu.ru\n",
        "\n",
        "\n"
      ],
      "metadata": {
        "id": "hd4GAd_in_L_"
      }
    },
    {
      "cell_type": "markdown",
      "source": [
        "# Практическая работа № 1. Разведочный анализ данных. Pandas."
      ],
      "metadata": {
        "id": "6QZ_fBSroeIn"
      }
    },
    {
      "cell_type": "markdown",
      "source": [
        "В рамках данной практической работы мы предлагаем вам провести первые этапы разведочного анализа для набора данных (датасета), содержащего информацию о 1992 различных аниме. Подробное описание набора данных приведено на сайте [Kaggle](https://www.kaggle.com/datasets/chanoncharuchinda/top-anime). Нам потребуется лишь файл `anime.csv`.\n",
        "\n",
        "Ваша цель - познакомиться с этими данными и провести разведочный анализ. Для этого необходимо вставить в пропущенные ячейки ниже необходимый код и запустить его. В качестве отчёта по заданию вам нужно будет сдать ноутбук с выполненным кодом (необходимо сохранить ноутбук, поделиться ссылкой на комментирование и приложить её в задание Яндекс. Контест)."
      ],
      "metadata": {
        "id": "as_mM0cmhqzY"
      }
    },
    {
      "cell_type": "markdown",
      "source": [
        "## 1. Считывание данных"
      ],
      "metadata": {
        "id": "6elofER5j-HR"
      }
    },
    {
      "cell_type": "markdown",
      "source": [
        "Скачайте данные и сохраните их в Google Colab в файл с именем `anime.csv`"
      ],
      "metadata": {
        "id": "5TKoR_PtkBMc"
      }
    },
    {
      "cell_type": "code",
      "source": [
        "# Этот код менять не нужно. Его достаточно просто запустить!\n",
        "!wget -O \"anime.csv\" \"https://raw.githubusercontent.com/legas377/TestRepository/main/anime.csv\""
      ],
      "metadata": {
        "id": "ypeOITKmlYZ9",
        "colab": {
          "base_uri": "https://localhost:8080/"
        },
        "outputId": "e719c0d8-c47a-4fe6-da81-f83486e85d34"
      },
      "execution_count": null,
      "outputs": [
        {
          "output_type": "stream",
          "name": "stdout",
          "text": [
            "--2023-10-19 21:40:57--  https://raw.githubusercontent.com/legas377/TestRepository/main/anime.csv\n",
            "Resolving raw.githubusercontent.com (raw.githubusercontent.com)... 185.199.108.133, 185.199.109.133, 185.199.110.133, ...\n",
            "Connecting to raw.githubusercontent.com (raw.githubusercontent.com)|185.199.108.133|:443... connected.\n",
            "HTTP request sent, awaiting response... 200 OK\n",
            "Length: 230544 (225K) [text/plain]\n",
            "Saving to: ‘anime.csv’\n",
            "\n",
            "\ranime.csv             0%[                    ]       0  --.-KB/s               \ranime.csv           100%[===================>] 225.14K  --.-KB/s    in 0.02s   \n",
            "\n",
            "2023-10-19 21:40:57 (11.3 MB/s) - ‘anime.csv’ saved [230544/230544]\n",
            "\n"
          ]
        }
      ]
    },
    {
      "cell_type": "markdown",
      "source": [
        "Импортируйте библиотеку `pandas` под именем `pd`:"
      ],
      "metadata": {
        "id": "qh5HD-IxmlKP"
      }
    },
    {
      "cell_type": "code",
      "source": [
        "import pandas as pd"
      ],
      "metadata": {
        "id": "SWAKqMcQmvf7"
      },
      "execution_count": null,
      "outputs": []
    },
    {
      "cell_type": "markdown",
      "source": [
        "Считайте файл с именем `anime.csv` в датафрейм с именем `df` (с помощью `pd.read_csv()`):"
      ],
      "metadata": {
        "id": "-GU4Fnajm-gU"
      }
    },
    {
      "cell_type": "code",
      "source": [
        "df=pd.read_csv('anime.csv')"
      ],
      "metadata": {
        "id": "jFdAcgKFnTAw"
      },
      "execution_count": null,
      "outputs": []
    },
    {
      "cell_type": "markdown",
      "source": [
        "## 2. Знакомство с данными"
      ],
      "metadata": {
        "id": "b--g9-SynXnB"
      }
    },
    {
      "cell_type": "markdown",
      "source": [
        "Выведите на экран первые 5 строк датафрейма `df`. Это можно сделать с помощью `print()`, как мы делали на семинаре. Но в этом случае часть данных может не поместиться на экран (как было на занятии).\n",
        "\n",
        "Google Colab умеет работать с данными более хитро. Для вывода первых 5 строк в виде красивой таблицы можно просто написать в ячейке с кодом вызов нужного метода.\n",
        "\n",
        "Запустите код ниже (без изменений) и изучите полученную таблицу:"
      ],
      "metadata": {
        "id": "mCEIwN82nhMe"
      }
    },
    {
      "cell_type": "code",
      "source": [
        "df.head(5)"
      ],
      "metadata": {
        "id": "nN48Cojmoshm",
        "colab": {
          "base_uri": "https://localhost:8080/",
          "height": 486
        },
        "outputId": "0e231e93-4566-43b0-9fa3-5d4e190db7f7"
      },
      "execution_count": null,
      "outputs": [
        {
          "output_type": "execute_result",
          "data": {
            "text/plain": [
              "                              Title    Production Episodes       Source  \\\n",
              "0                Shingeki no Kyojin    Wit Studio       25        Manga   \n",
              "1  Fullmetal Alchemist: Brotherhood         Bones       64        Manga   \n",
              "2                  Sword Art Online  A-1 Pictures       25  Light novel   \n",
              "3                     One Punch Man      Madhouse       12    Web manga   \n",
              "4             Boku no Hero Academia         Bones       13        Manga   \n",
              "\n",
              "                                   Genre                   Airdate  Rating  \\\n",
              "0           Action,Drama,Fantasy,Mystery  Apr 7, 2013, 01:58 (JST)    8.52   \n",
              "1  Action,Adventure,Comedy,Drama,Fantasy  Apr 5, 2009, 17:00 (JST)    9.16   \n",
              "2       Action,Adventure,Fantasy,Romance  Jul 8, 2012, 00:00 (JST)    7.20   \n",
              "3      Action,Comedy,Sci-Fi,Supernatural  Oct 5, 2015, 01:05 (JST)    8.52   \n",
              "4                          Action,Comedy  Apr 3, 2016, 17:00 (JST)    7.98   \n",
              "\n",
              "      Voters                 Theme  \n",
              "0  3,142,121  Military,Super Power  \n",
              "1  2,676,911              Military  \n",
              "2  2,586,628                  Game  \n",
              "3  2,583,068    Parody,Super Power  \n",
              "4  2,426,309    School,Super Power  "
            ],
            "text/html": [
              "\n",
              "  <div id=\"df-19a61f7f-6fea-4f30-a17d-224617ddb1bb\" class=\"colab-df-container\">\n",
              "    <div>\n",
              "<style scoped>\n",
              "    .dataframe tbody tr th:only-of-type {\n",
              "        vertical-align: middle;\n",
              "    }\n",
              "\n",
              "    .dataframe tbody tr th {\n",
              "        vertical-align: top;\n",
              "    }\n",
              "\n",
              "    .dataframe thead th {\n",
              "        text-align: right;\n",
              "    }\n",
              "</style>\n",
              "<table border=\"1\" class=\"dataframe\">\n",
              "  <thead>\n",
              "    <tr style=\"text-align: right;\">\n",
              "      <th></th>\n",
              "      <th>Title</th>\n",
              "      <th>Production</th>\n",
              "      <th>Episodes</th>\n",
              "      <th>Source</th>\n",
              "      <th>Genre</th>\n",
              "      <th>Airdate</th>\n",
              "      <th>Rating</th>\n",
              "      <th>Voters</th>\n",
              "      <th>Theme</th>\n",
              "    </tr>\n",
              "  </thead>\n",
              "  <tbody>\n",
              "    <tr>\n",
              "      <th>0</th>\n",
              "      <td>Shingeki no Kyojin</td>\n",
              "      <td>Wit Studio</td>\n",
              "      <td>25</td>\n",
              "      <td>Manga</td>\n",
              "      <td>Action,Drama,Fantasy,Mystery</td>\n",
              "      <td>Apr 7, 2013, 01:58 (JST)</td>\n",
              "      <td>8.52</td>\n",
              "      <td>3,142,121</td>\n",
              "      <td>Military,Super Power</td>\n",
              "    </tr>\n",
              "    <tr>\n",
              "      <th>1</th>\n",
              "      <td>Fullmetal Alchemist: Brotherhood</td>\n",
              "      <td>Bones</td>\n",
              "      <td>64</td>\n",
              "      <td>Manga</td>\n",
              "      <td>Action,Adventure,Comedy,Drama,Fantasy</td>\n",
              "      <td>Apr 5, 2009, 17:00 (JST)</td>\n",
              "      <td>9.16</td>\n",
              "      <td>2,676,911</td>\n",
              "      <td>Military</td>\n",
              "    </tr>\n",
              "    <tr>\n",
              "      <th>2</th>\n",
              "      <td>Sword Art Online</td>\n",
              "      <td>A-1 Pictures</td>\n",
              "      <td>25</td>\n",
              "      <td>Light novel</td>\n",
              "      <td>Action,Adventure,Fantasy,Romance</td>\n",
              "      <td>Jul 8, 2012, 00:00 (JST)</td>\n",
              "      <td>7.20</td>\n",
              "      <td>2,586,628</td>\n",
              "      <td>Game</td>\n",
              "    </tr>\n",
              "    <tr>\n",
              "      <th>3</th>\n",
              "      <td>One Punch Man</td>\n",
              "      <td>Madhouse</td>\n",
              "      <td>12</td>\n",
              "      <td>Web manga</td>\n",
              "      <td>Action,Comedy,Sci-Fi,Supernatural</td>\n",
              "      <td>Oct 5, 2015, 01:05 (JST)</td>\n",
              "      <td>8.52</td>\n",
              "      <td>2,583,068</td>\n",
              "      <td>Parody,Super Power</td>\n",
              "    </tr>\n",
              "    <tr>\n",
              "      <th>4</th>\n",
              "      <td>Boku no Hero Academia</td>\n",
              "      <td>Bones</td>\n",
              "      <td>13</td>\n",
              "      <td>Manga</td>\n",
              "      <td>Action,Comedy</td>\n",
              "      <td>Apr 3, 2016, 17:00 (JST)</td>\n",
              "      <td>7.98</td>\n",
              "      <td>2,426,309</td>\n",
              "      <td>School,Super Power</td>\n",
              "    </tr>\n",
              "  </tbody>\n",
              "</table>\n",
              "</div>\n",
              "    <div class=\"colab-df-buttons\">\n",
              "\n",
              "  <div class=\"colab-df-container\">\n",
              "    <button class=\"colab-df-convert\" onclick=\"convertToInteractive('df-19a61f7f-6fea-4f30-a17d-224617ddb1bb')\"\n",
              "            title=\"Convert this dataframe to an interactive table.\"\n",
              "            style=\"display:none;\">\n",
              "\n",
              "  <svg xmlns=\"http://www.w3.org/2000/svg\" height=\"24px\" viewBox=\"0 -960 960 960\">\n",
              "    <path d=\"M120-120v-720h720v720H120Zm60-500h600v-160H180v160Zm220 220h160v-160H400v160Zm0 220h160v-160H400v160ZM180-400h160v-160H180v160Zm440 0h160v-160H620v160ZM180-180h160v-160H180v160Zm440 0h160v-160H620v160Z\"/>\n",
              "  </svg>\n",
              "    </button>\n",
              "\n",
              "  <style>\n",
              "    .colab-df-container {\n",
              "      display:flex;\n",
              "      gap: 12px;\n",
              "    }\n",
              "\n",
              "    .colab-df-convert {\n",
              "      background-color: #E8F0FE;\n",
              "      border: none;\n",
              "      border-radius: 50%;\n",
              "      cursor: pointer;\n",
              "      display: none;\n",
              "      fill: #1967D2;\n",
              "      height: 32px;\n",
              "      padding: 0 0 0 0;\n",
              "      width: 32px;\n",
              "    }\n",
              "\n",
              "    .colab-df-convert:hover {\n",
              "      background-color: #E2EBFA;\n",
              "      box-shadow: 0px 1px 2px rgba(60, 64, 67, 0.3), 0px 1px 3px 1px rgba(60, 64, 67, 0.15);\n",
              "      fill: #174EA6;\n",
              "    }\n",
              "\n",
              "    .colab-df-buttons div {\n",
              "      margin-bottom: 4px;\n",
              "    }\n",
              "\n",
              "    [theme=dark] .colab-df-convert {\n",
              "      background-color: #3B4455;\n",
              "      fill: #D2E3FC;\n",
              "    }\n",
              "\n",
              "    [theme=dark] .colab-df-convert:hover {\n",
              "      background-color: #434B5C;\n",
              "      box-shadow: 0px 1px 3px 1px rgba(0, 0, 0, 0.15);\n",
              "      filter: drop-shadow(0px 1px 2px rgba(0, 0, 0, 0.3));\n",
              "      fill: #FFFFFF;\n",
              "    }\n",
              "  </style>\n",
              "\n",
              "    <script>\n",
              "      const buttonEl =\n",
              "        document.querySelector('#df-19a61f7f-6fea-4f30-a17d-224617ddb1bb button.colab-df-convert');\n",
              "      buttonEl.style.display =\n",
              "        google.colab.kernel.accessAllowed ? 'block' : 'none';\n",
              "\n",
              "      async function convertToInteractive(key) {\n",
              "        const element = document.querySelector('#df-19a61f7f-6fea-4f30-a17d-224617ddb1bb');\n",
              "        const dataTable =\n",
              "          await google.colab.kernel.invokeFunction('convertToInteractive',\n",
              "                                                    [key], {});\n",
              "        if (!dataTable) return;\n",
              "\n",
              "        const docLinkHtml = 'Like what you see? Visit the ' +\n",
              "          '<a target=\"_blank\" href=https://colab.research.google.com/notebooks/data_table.ipynb>data table notebook</a>'\n",
              "          + ' to learn more about interactive tables.';\n",
              "        element.innerHTML = '';\n",
              "        dataTable['output_type'] = 'display_data';\n",
              "        await google.colab.output.renderOutput(dataTable, element);\n",
              "        const docLink = document.createElement('div');\n",
              "        docLink.innerHTML = docLinkHtml;\n",
              "        element.appendChild(docLink);\n",
              "      }\n",
              "    </script>\n",
              "  </div>\n",
              "\n",
              "\n",
              "<div id=\"df-fcff82eb-a40d-407d-914e-700b75797138\">\n",
              "  <button class=\"colab-df-quickchart\" onclick=\"quickchart('df-fcff82eb-a40d-407d-914e-700b75797138')\"\n",
              "            title=\"Suggest charts.\"\n",
              "            style=\"display:none;\">\n",
              "\n",
              "<svg xmlns=\"http://www.w3.org/2000/svg\" height=\"24px\"viewBox=\"0 0 24 24\"\n",
              "     width=\"24px\">\n",
              "    <g>\n",
              "        <path d=\"M19 3H5c-1.1 0-2 .9-2 2v14c0 1.1.9 2 2 2h14c1.1 0 2-.9 2-2V5c0-1.1-.9-2-2-2zM9 17H7v-7h2v7zm4 0h-2V7h2v10zm4 0h-2v-4h2v4z\"/>\n",
              "    </g>\n",
              "</svg>\n",
              "  </button>\n",
              "\n",
              "<style>\n",
              "  .colab-df-quickchart {\n",
              "      --bg-color: #E8F0FE;\n",
              "      --fill-color: #1967D2;\n",
              "      --hover-bg-color: #E2EBFA;\n",
              "      --hover-fill-color: #174EA6;\n",
              "      --disabled-fill-color: #AAA;\n",
              "      --disabled-bg-color: #DDD;\n",
              "  }\n",
              "\n",
              "  [theme=dark] .colab-df-quickchart {\n",
              "      --bg-color: #3B4455;\n",
              "      --fill-color: #D2E3FC;\n",
              "      --hover-bg-color: #434B5C;\n",
              "      --hover-fill-color: #FFFFFF;\n",
              "      --disabled-bg-color: #3B4455;\n",
              "      --disabled-fill-color: #666;\n",
              "  }\n",
              "\n",
              "  .colab-df-quickchart {\n",
              "    background-color: var(--bg-color);\n",
              "    border: none;\n",
              "    border-radius: 50%;\n",
              "    cursor: pointer;\n",
              "    display: none;\n",
              "    fill: var(--fill-color);\n",
              "    height: 32px;\n",
              "    padding: 0;\n",
              "    width: 32px;\n",
              "  }\n",
              "\n",
              "  .colab-df-quickchart:hover {\n",
              "    background-color: var(--hover-bg-color);\n",
              "    box-shadow: 0 1px 2px rgba(60, 64, 67, 0.3), 0 1px 3px 1px rgba(60, 64, 67, 0.15);\n",
              "    fill: var(--button-hover-fill-color);\n",
              "  }\n",
              "\n",
              "  .colab-df-quickchart-complete:disabled,\n",
              "  .colab-df-quickchart-complete:disabled:hover {\n",
              "    background-color: var(--disabled-bg-color);\n",
              "    fill: var(--disabled-fill-color);\n",
              "    box-shadow: none;\n",
              "  }\n",
              "\n",
              "  .colab-df-spinner {\n",
              "    border: 2px solid var(--fill-color);\n",
              "    border-color: transparent;\n",
              "    border-bottom-color: var(--fill-color);\n",
              "    animation:\n",
              "      spin 1s steps(1) infinite;\n",
              "  }\n",
              "\n",
              "  @keyframes spin {\n",
              "    0% {\n",
              "      border-color: transparent;\n",
              "      border-bottom-color: var(--fill-color);\n",
              "      border-left-color: var(--fill-color);\n",
              "    }\n",
              "    20% {\n",
              "      border-color: transparent;\n",
              "      border-left-color: var(--fill-color);\n",
              "      border-top-color: var(--fill-color);\n",
              "    }\n",
              "    30% {\n",
              "      border-color: transparent;\n",
              "      border-left-color: var(--fill-color);\n",
              "      border-top-color: var(--fill-color);\n",
              "      border-right-color: var(--fill-color);\n",
              "    }\n",
              "    40% {\n",
              "      border-color: transparent;\n",
              "      border-right-color: var(--fill-color);\n",
              "      border-top-color: var(--fill-color);\n",
              "    }\n",
              "    60% {\n",
              "      border-color: transparent;\n",
              "      border-right-color: var(--fill-color);\n",
              "    }\n",
              "    80% {\n",
              "      border-color: transparent;\n",
              "      border-right-color: var(--fill-color);\n",
              "      border-bottom-color: var(--fill-color);\n",
              "    }\n",
              "    90% {\n",
              "      border-color: transparent;\n",
              "      border-bottom-color: var(--fill-color);\n",
              "    }\n",
              "  }\n",
              "</style>\n",
              "\n",
              "  <script>\n",
              "    async function quickchart(key) {\n",
              "      const quickchartButtonEl =\n",
              "        document.querySelector('#' + key + ' button');\n",
              "      quickchartButtonEl.disabled = true;  // To prevent multiple clicks.\n",
              "      quickchartButtonEl.classList.add('colab-df-spinner');\n",
              "      try {\n",
              "        const charts = await google.colab.kernel.invokeFunction(\n",
              "            'suggestCharts', [key], {});\n",
              "      } catch (error) {\n",
              "        console.error('Error during call to suggestCharts:', error);\n",
              "      }\n",
              "      quickchartButtonEl.classList.remove('colab-df-spinner');\n",
              "      quickchartButtonEl.classList.add('colab-df-quickchart-complete');\n",
              "    }\n",
              "    (() => {\n",
              "      let quickchartButtonEl =\n",
              "        document.querySelector('#df-fcff82eb-a40d-407d-914e-700b75797138 button');\n",
              "      quickchartButtonEl.style.display =\n",
              "        google.colab.kernel.accessAllowed ? 'block' : 'none';\n",
              "    })();\n",
              "  </script>\n",
              "</div>\n",
              "    </div>\n",
              "  </div>\n"
            ]
          },
          "metadata": {},
          "execution_count": 4
        }
      ]
    },
    {
      "cell_type": "markdown",
      "source": [
        "Нажмите дважды левой кнопкой мыши по ячейке ниже и введите текст с описанием, какие признаки присутствуют в данном датасете и дайте краткое описание значений в каждом столбце (если не можете понять, что обозначает признак - можете пропустить его описание):"
      ],
      "metadata": {
        "id": "l2PTpcVGo1uL"
      }
    },
    {
      "cell_type": "markdown",
      "source": [
        "title - название аниме, строка\\\n",
        "production - выпустившая студия, строка (категориальный??)\\\n",
        "episodes - количество эпизодов, целое число\\\n",
        "source - первоисточник, категориальный нечисловой (строка)\\\n",
        "genre - жанр, строка, содержащая несколько жанров (категориальный?? все возможные сочетания конечного числа жанров - конечное множество) \\\n",
        "airdate - дата выхода, строковое описание даты и времени \\\n",
        "rating - рейтинг, число (непрерывный) \\\n",
        "voters - количесво оценок, целое число \\\n",
        "theme - тема, строка, возможно, категориальный\n",
        "\n",
        "\n"
      ],
      "metadata": {
        "id": "LrpS-NQvpLy5"
      }
    },
    {
      "cell_type": "markdown",
      "source": [
        "Теперь аналогично выведите последние 10 строк (используйте `tail()`):"
      ],
      "metadata": {
        "id": "QrPKeavYpPNZ"
      }
    },
    {
      "cell_type": "code",
      "source": [
        "df.tail(10)"
      ],
      "metadata": {
        "id": "IzXrJpPOsipa",
        "colab": {
          "base_uri": "https://localhost:8080/",
          "height": 449
        },
        "outputId": "5e7f6b12-39f6-41cc-aad1-b643bdd3bd0f"
      },
      "execution_count": null,
      "outputs": [
        {
          "output_type": "execute_result",
          "data": {
            "text/plain": [
              "                                                  title            production  \\\n",
              "1982                         Kagaku Ninja-tai Gatchaman  Tatsunoko Production   \n",
              "1983                                Tiger & Bunny Pilot               Sunrise   \n",
              "1984                                         Tiger Mask        Toei Animation   \n",
              "1985  Kamen no Maid Guy: Ano Natsu, Ichiban Yutaka n...              Madhouse   \n",
              "1986               Jinzou Ningen Kikaider The Animation                 Radix   \n",
              "1987                                 Dog Days' Specials            Seven Arcs   \n",
              "1988                             Bleach: Gotei 13 Omake                     -   \n",
              "1989                                       Brain Powerd               Sunrise   \n",
              "1990  Mobile Suit Gundam: Iron-Blooded Orphans - Urð...        Sunrise Beyond   \n",
              "1991                                   Burn Up Scramble           AIC Spirits   \n",
              "\n",
              "     episodes    source                             genre  \\\n",
              "1982      105  Original           Action,Adventure,Sci-Fi   \n",
              "1983        1  Original                     Action,Comedy   \n",
              "1984      105     Manga               Action,Drama,Sports   \n",
              "1985        1         -               Action,Comedy,Ecchi   \n",
              "1986       13         -               Action,Drama,Sci-Fi   \n",
              "1987       13         -          Action,Adventure,Fantasy   \n",
              "1988        1     Manga                  Action,Adventure   \n",
              "1989       26  Original           Action,Adventure,Sci-Fi   \n",
              "1990        ?  Original               Action,Drama,Sci-Fi   \n",
              "1991       12  Original  Action,Comedy,Drama,Sci-Fi,Ecchi   \n",
              "\n",
              "                        airdate  rating  voters        theme  \n",
              "1982   Oct 1, 1972, 18:00 (JST)    6.95    8750      Shounen  \n",
              "1983                        NaN    6.19    8742  Super Power  \n",
              "1984                Oct 2, 1969    7.26    8724      Shounen  \n",
              "1985                        NaN    6.83    8703            -  \n",
              "1986  Oct 16, 2000, 23:25 (JST)    6.98    8691        Mecha  \n",
              "1987                        NaN    6.66    8687            -  \n",
              "1988                        NaN    6.49    8682            -  \n",
              "1989                Apr 8, 1998    6.10    8678        Mecha  \n",
              "1990                        NaN     NaN    8665  Mecha,Space  \n",
              "1991               Jan 12, 2004    6.19    8662       Police  "
            ],
            "text/html": [
              "\n",
              "  <div id=\"df-2ab5713b-f859-445d-8f93-d68607e09778\" class=\"colab-df-container\">\n",
              "    <div>\n",
              "<style scoped>\n",
              "    .dataframe tbody tr th:only-of-type {\n",
              "        vertical-align: middle;\n",
              "    }\n",
              "\n",
              "    .dataframe tbody tr th {\n",
              "        vertical-align: top;\n",
              "    }\n",
              "\n",
              "    .dataframe thead th {\n",
              "        text-align: right;\n",
              "    }\n",
              "</style>\n",
              "<table border=\"1\" class=\"dataframe\">\n",
              "  <thead>\n",
              "    <tr style=\"text-align: right;\">\n",
              "      <th></th>\n",
              "      <th>title</th>\n",
              "      <th>production</th>\n",
              "      <th>episodes</th>\n",
              "      <th>source</th>\n",
              "      <th>genre</th>\n",
              "      <th>airdate</th>\n",
              "      <th>rating</th>\n",
              "      <th>voters</th>\n",
              "      <th>theme</th>\n",
              "    </tr>\n",
              "  </thead>\n",
              "  <tbody>\n",
              "    <tr>\n",
              "      <th>1982</th>\n",
              "      <td>Kagaku Ninja-tai Gatchaman</td>\n",
              "      <td>Tatsunoko Production</td>\n",
              "      <td>105</td>\n",
              "      <td>Original</td>\n",
              "      <td>Action,Adventure,Sci-Fi</td>\n",
              "      <td>Oct 1, 1972, 18:00 (JST)</td>\n",
              "      <td>6.95</td>\n",
              "      <td>8750</td>\n",
              "      <td>Shounen</td>\n",
              "    </tr>\n",
              "    <tr>\n",
              "      <th>1983</th>\n",
              "      <td>Tiger &amp; Bunny Pilot</td>\n",
              "      <td>Sunrise</td>\n",
              "      <td>1</td>\n",
              "      <td>Original</td>\n",
              "      <td>Action,Comedy</td>\n",
              "      <td>NaN</td>\n",
              "      <td>6.19</td>\n",
              "      <td>8742</td>\n",
              "      <td>Super Power</td>\n",
              "    </tr>\n",
              "    <tr>\n",
              "      <th>1984</th>\n",
              "      <td>Tiger Mask</td>\n",
              "      <td>Toei Animation</td>\n",
              "      <td>105</td>\n",
              "      <td>Manga</td>\n",
              "      <td>Action,Drama,Sports</td>\n",
              "      <td>Oct 2, 1969</td>\n",
              "      <td>7.26</td>\n",
              "      <td>8724</td>\n",
              "      <td>Shounen</td>\n",
              "    </tr>\n",
              "    <tr>\n",
              "      <th>1985</th>\n",
              "      <td>Kamen no Maid Guy: Ano Natsu, Ichiban Yutaka n...</td>\n",
              "      <td>Madhouse</td>\n",
              "      <td>1</td>\n",
              "      <td>-</td>\n",
              "      <td>Action,Comedy,Ecchi</td>\n",
              "      <td>NaN</td>\n",
              "      <td>6.83</td>\n",
              "      <td>8703</td>\n",
              "      <td>-</td>\n",
              "    </tr>\n",
              "    <tr>\n",
              "      <th>1986</th>\n",
              "      <td>Jinzou Ningen Kikaider The Animation</td>\n",
              "      <td>Radix</td>\n",
              "      <td>13</td>\n",
              "      <td>-</td>\n",
              "      <td>Action,Drama,Sci-Fi</td>\n",
              "      <td>Oct 16, 2000, 23:25 (JST)</td>\n",
              "      <td>6.98</td>\n",
              "      <td>8691</td>\n",
              "      <td>Mecha</td>\n",
              "    </tr>\n",
              "    <tr>\n",
              "      <th>1987</th>\n",
              "      <td>Dog Days' Specials</td>\n",
              "      <td>Seven Arcs</td>\n",
              "      <td>13</td>\n",
              "      <td>-</td>\n",
              "      <td>Action,Adventure,Fantasy</td>\n",
              "      <td>NaN</td>\n",
              "      <td>6.66</td>\n",
              "      <td>8687</td>\n",
              "      <td>-</td>\n",
              "    </tr>\n",
              "    <tr>\n",
              "      <th>1988</th>\n",
              "      <td>Bleach: Gotei 13 Omake</td>\n",
              "      <td>-</td>\n",
              "      <td>1</td>\n",
              "      <td>Manga</td>\n",
              "      <td>Action,Adventure</td>\n",
              "      <td>NaN</td>\n",
              "      <td>6.49</td>\n",
              "      <td>8682</td>\n",
              "      <td>-</td>\n",
              "    </tr>\n",
              "    <tr>\n",
              "      <th>1989</th>\n",
              "      <td>Brain Powerd</td>\n",
              "      <td>Sunrise</td>\n",
              "      <td>26</td>\n",
              "      <td>Original</td>\n",
              "      <td>Action,Adventure,Sci-Fi</td>\n",
              "      <td>Apr 8, 1998</td>\n",
              "      <td>6.10</td>\n",
              "      <td>8678</td>\n",
              "      <td>Mecha</td>\n",
              "    </tr>\n",
              "    <tr>\n",
              "      <th>1990</th>\n",
              "      <td>Mobile Suit Gundam: Iron-Blooded Orphans - Urð...</td>\n",
              "      <td>Sunrise Beyond</td>\n",
              "      <td>?</td>\n",
              "      <td>Original</td>\n",
              "      <td>Action,Drama,Sci-Fi</td>\n",
              "      <td>NaN</td>\n",
              "      <td>NaN</td>\n",
              "      <td>8665</td>\n",
              "      <td>Mecha,Space</td>\n",
              "    </tr>\n",
              "    <tr>\n",
              "      <th>1991</th>\n",
              "      <td>Burn Up Scramble</td>\n",
              "      <td>AIC Spirits</td>\n",
              "      <td>12</td>\n",
              "      <td>Original</td>\n",
              "      <td>Action,Comedy,Drama,Sci-Fi,Ecchi</td>\n",
              "      <td>Jan 12, 2004</td>\n",
              "      <td>6.19</td>\n",
              "      <td>8662</td>\n",
              "      <td>Police</td>\n",
              "    </tr>\n",
              "  </tbody>\n",
              "</table>\n",
              "</div>\n",
              "    <div class=\"colab-df-buttons\">\n",
              "\n",
              "  <div class=\"colab-df-container\">\n",
              "    <button class=\"colab-df-convert\" onclick=\"convertToInteractive('df-2ab5713b-f859-445d-8f93-d68607e09778')\"\n",
              "            title=\"Convert this dataframe to an interactive table.\"\n",
              "            style=\"display:none;\">\n",
              "\n",
              "  <svg xmlns=\"http://www.w3.org/2000/svg\" height=\"24px\" viewBox=\"0 -960 960 960\">\n",
              "    <path d=\"M120-120v-720h720v720H120Zm60-500h600v-160H180v160Zm220 220h160v-160H400v160Zm0 220h160v-160H400v160ZM180-400h160v-160H180v160Zm440 0h160v-160H620v160ZM180-180h160v-160H180v160Zm440 0h160v-160H620v160Z\"/>\n",
              "  </svg>\n",
              "    </button>\n",
              "\n",
              "  <style>\n",
              "    .colab-df-container {\n",
              "      display:flex;\n",
              "      gap: 12px;\n",
              "    }\n",
              "\n",
              "    .colab-df-convert {\n",
              "      background-color: #E8F0FE;\n",
              "      border: none;\n",
              "      border-radius: 50%;\n",
              "      cursor: pointer;\n",
              "      display: none;\n",
              "      fill: #1967D2;\n",
              "      height: 32px;\n",
              "      padding: 0 0 0 0;\n",
              "      width: 32px;\n",
              "    }\n",
              "\n",
              "    .colab-df-convert:hover {\n",
              "      background-color: #E2EBFA;\n",
              "      box-shadow: 0px 1px 2px rgba(60, 64, 67, 0.3), 0px 1px 3px 1px rgba(60, 64, 67, 0.15);\n",
              "      fill: #174EA6;\n",
              "    }\n",
              "\n",
              "    .colab-df-buttons div {\n",
              "      margin-bottom: 4px;\n",
              "    }\n",
              "\n",
              "    [theme=dark] .colab-df-convert {\n",
              "      background-color: #3B4455;\n",
              "      fill: #D2E3FC;\n",
              "    }\n",
              "\n",
              "    [theme=dark] .colab-df-convert:hover {\n",
              "      background-color: #434B5C;\n",
              "      box-shadow: 0px 1px 3px 1px rgba(0, 0, 0, 0.15);\n",
              "      filter: drop-shadow(0px 1px 2px rgba(0, 0, 0, 0.3));\n",
              "      fill: #FFFFFF;\n",
              "    }\n",
              "  </style>\n",
              "\n",
              "    <script>\n",
              "      const buttonEl =\n",
              "        document.querySelector('#df-2ab5713b-f859-445d-8f93-d68607e09778 button.colab-df-convert');\n",
              "      buttonEl.style.display =\n",
              "        google.colab.kernel.accessAllowed ? 'block' : 'none';\n",
              "\n",
              "      async function convertToInteractive(key) {\n",
              "        const element = document.querySelector('#df-2ab5713b-f859-445d-8f93-d68607e09778');\n",
              "        const dataTable =\n",
              "          await google.colab.kernel.invokeFunction('convertToInteractive',\n",
              "                                                    [key], {});\n",
              "        if (!dataTable) return;\n",
              "\n",
              "        const docLinkHtml = 'Like what you see? Visit the ' +\n",
              "          '<a target=\"_blank\" href=https://colab.research.google.com/notebooks/data_table.ipynb>data table notebook</a>'\n",
              "          + ' to learn more about interactive tables.';\n",
              "        element.innerHTML = '';\n",
              "        dataTable['output_type'] = 'display_data';\n",
              "        await google.colab.output.renderOutput(dataTable, element);\n",
              "        const docLink = document.createElement('div');\n",
              "        docLink.innerHTML = docLinkHtml;\n",
              "        element.appendChild(docLink);\n",
              "      }\n",
              "    </script>\n",
              "  </div>\n",
              "\n",
              "\n",
              "<div id=\"df-4dd93147-39fc-453d-8361-dc8941ff2a20\">\n",
              "  <button class=\"colab-df-quickchart\" onclick=\"quickchart('df-4dd93147-39fc-453d-8361-dc8941ff2a20')\"\n",
              "            title=\"Suggest charts.\"\n",
              "            style=\"display:none;\">\n",
              "\n",
              "<svg xmlns=\"http://www.w3.org/2000/svg\" height=\"24px\"viewBox=\"0 0 24 24\"\n",
              "     width=\"24px\">\n",
              "    <g>\n",
              "        <path d=\"M19 3H5c-1.1 0-2 .9-2 2v14c0 1.1.9 2 2 2h14c1.1 0 2-.9 2-2V5c0-1.1-.9-2-2-2zM9 17H7v-7h2v7zm4 0h-2V7h2v10zm4 0h-2v-4h2v4z\"/>\n",
              "    </g>\n",
              "</svg>\n",
              "  </button>\n",
              "\n",
              "<style>\n",
              "  .colab-df-quickchart {\n",
              "      --bg-color: #E8F0FE;\n",
              "      --fill-color: #1967D2;\n",
              "      --hover-bg-color: #E2EBFA;\n",
              "      --hover-fill-color: #174EA6;\n",
              "      --disabled-fill-color: #AAA;\n",
              "      --disabled-bg-color: #DDD;\n",
              "  }\n",
              "\n",
              "  [theme=dark] .colab-df-quickchart {\n",
              "      --bg-color: #3B4455;\n",
              "      --fill-color: #D2E3FC;\n",
              "      --hover-bg-color: #434B5C;\n",
              "      --hover-fill-color: #FFFFFF;\n",
              "      --disabled-bg-color: #3B4455;\n",
              "      --disabled-fill-color: #666;\n",
              "  }\n",
              "\n",
              "  .colab-df-quickchart {\n",
              "    background-color: var(--bg-color);\n",
              "    border: none;\n",
              "    border-radius: 50%;\n",
              "    cursor: pointer;\n",
              "    display: none;\n",
              "    fill: var(--fill-color);\n",
              "    height: 32px;\n",
              "    padding: 0;\n",
              "    width: 32px;\n",
              "  }\n",
              "\n",
              "  .colab-df-quickchart:hover {\n",
              "    background-color: var(--hover-bg-color);\n",
              "    box-shadow: 0 1px 2px rgba(60, 64, 67, 0.3), 0 1px 3px 1px rgba(60, 64, 67, 0.15);\n",
              "    fill: var(--button-hover-fill-color);\n",
              "  }\n",
              "\n",
              "  .colab-df-quickchart-complete:disabled,\n",
              "  .colab-df-quickchart-complete:disabled:hover {\n",
              "    background-color: var(--disabled-bg-color);\n",
              "    fill: var(--disabled-fill-color);\n",
              "    box-shadow: none;\n",
              "  }\n",
              "\n",
              "  .colab-df-spinner {\n",
              "    border: 2px solid var(--fill-color);\n",
              "    border-color: transparent;\n",
              "    border-bottom-color: var(--fill-color);\n",
              "    animation:\n",
              "      spin 1s steps(1) infinite;\n",
              "  }\n",
              "\n",
              "  @keyframes spin {\n",
              "    0% {\n",
              "      border-color: transparent;\n",
              "      border-bottom-color: var(--fill-color);\n",
              "      border-left-color: var(--fill-color);\n",
              "    }\n",
              "    20% {\n",
              "      border-color: transparent;\n",
              "      border-left-color: var(--fill-color);\n",
              "      border-top-color: var(--fill-color);\n",
              "    }\n",
              "    30% {\n",
              "      border-color: transparent;\n",
              "      border-left-color: var(--fill-color);\n",
              "      border-top-color: var(--fill-color);\n",
              "      border-right-color: var(--fill-color);\n",
              "    }\n",
              "    40% {\n",
              "      border-color: transparent;\n",
              "      border-right-color: var(--fill-color);\n",
              "      border-top-color: var(--fill-color);\n",
              "    }\n",
              "    60% {\n",
              "      border-color: transparent;\n",
              "      border-right-color: var(--fill-color);\n",
              "    }\n",
              "    80% {\n",
              "      border-color: transparent;\n",
              "      border-right-color: var(--fill-color);\n",
              "      border-bottom-color: var(--fill-color);\n",
              "    }\n",
              "    90% {\n",
              "      border-color: transparent;\n",
              "      border-bottom-color: var(--fill-color);\n",
              "    }\n",
              "  }\n",
              "</style>\n",
              "\n",
              "  <script>\n",
              "    async function quickchart(key) {\n",
              "      const quickchartButtonEl =\n",
              "        document.querySelector('#' + key + ' button');\n",
              "      quickchartButtonEl.disabled = true;  // To prevent multiple clicks.\n",
              "      quickchartButtonEl.classList.add('colab-df-spinner');\n",
              "      try {\n",
              "        const charts = await google.colab.kernel.invokeFunction(\n",
              "            'suggestCharts', [key], {});\n",
              "      } catch (error) {\n",
              "        console.error('Error during call to suggestCharts:', error);\n",
              "      }\n",
              "      quickchartButtonEl.classList.remove('colab-df-spinner');\n",
              "      quickchartButtonEl.classList.add('colab-df-quickchart-complete');\n",
              "    }\n",
              "    (() => {\n",
              "      let quickchartButtonEl =\n",
              "        document.querySelector('#df-4dd93147-39fc-453d-8361-dc8941ff2a20 button');\n",
              "      quickchartButtonEl.style.display =\n",
              "        google.colab.kernel.accessAllowed ? 'block' : 'none';\n",
              "    })();\n",
              "  </script>\n",
              "</div>\n",
              "    </div>\n",
              "  </div>\n"
            ]
          },
          "metadata": {},
          "execution_count": 75
        }
      ]
    },
    {
      "cell_type": "markdown",
      "source": [
        "Приведите названия колонок (признаков) к единому виду: все символы в названии колонок должны быть в нижнем регистре, между словами в названии должен быть символ «_» (изменения делать с помощью работы с df.columns)."
      ],
      "metadata": {
        "id": "PL1bmEwwsm16"
      }
    },
    {
      "cell_type": "code",
      "source": [
        "columns_names=df.columns\n",
        "df.columns=[col_names.lower().replace(' ', '_') for col_names in columns_names]"
      ],
      "metadata": {
        "id": "h4N-rGuTtM3t"
      },
      "execution_count": null,
      "outputs": []
    },
    {
      "cell_type": "markdown",
      "source": [
        "## 3. Знакомство с признаками"
      ],
      "metadata": {
        "id": "Gk2vEv3VuhtD"
      }
    },
    {
      "cell_type": "markdown",
      "source": [
        "Постройте описание признаков. Выведите названия колонок и их типы (целочисленный, вещественный и т.д.):"
      ],
      "metadata": {
        "id": "qXuAxRiOtWpA"
      }
    },
    {
      "cell_type": "code",
      "source": [
        "for col in df.columns:\n",
        "  print(col, df[col].dtype, sep=': ')"
      ],
      "metadata": {
        "id": "oNAUpcTDtrD-",
        "colab": {
          "base_uri": "https://localhost:8080/"
        },
        "outputId": "1c525e0a-0a5c-45bf-f01b-87c1227204ec"
      },
      "execution_count": null,
      "outputs": [
        {
          "output_type": "stream",
          "name": "stdout",
          "text": [
            "title: object\n",
            "production: object\n",
            "episodes: object\n",
            "source: object\n",
            "genre: object\n",
            "airdate: object\n",
            "rating: float64\n",
            "voters: object\n",
            "theme: object\n"
          ]
        }
      ]
    },
    {
      "cell_type": "markdown",
      "source": [
        "В ячейке ниже перечислите все числовые признаки. А также предположите, какие признаки можно рассматривать как категориальные:"
      ],
      "metadata": {
        "id": "WQTMnFXdtv_6"
      }
    },
    {
      "cell_type": "markdown",
      "source": [
        "числовые признаки: rating\\\n",
        "вероятно, можно рассматривать как категориальные: production, source, genre, theme"
      ],
      "metadata": {
        "id": "i4wMRl01t8ez"
      }
    },
    {
      "cell_type": "markdown",
      "source": [
        "Постройте описательные статистики (среднее, стандартное отклонение, минимум, максимум, перцентили) для всех числовых признаков (можно использовать `describe()`):"
      ],
      "metadata": {
        "id": "mtlnp5utt89T"
      }
    },
    {
      "cell_type": "code",
      "source": [
        "df.describe()"
      ],
      "metadata": {
        "id": "h9oUf3jhvBtb",
        "colab": {
          "base_uri": "https://localhost:8080/",
          "height": 300
        },
        "outputId": "2efbfd82-54a2-4870-e659-a2ab0e04ae6e"
      },
      "execution_count": null,
      "outputs": [
        {
          "output_type": "execute_result",
          "data": {
            "text/plain": [
              "            rating\n",
              "count  1944.000000\n",
              "mean      7.150849\n",
              "std       0.709454\n",
              "min       2.960000\n",
              "25%       6.720000\n",
              "50%       7.210000\n",
              "75%       7.590000\n",
              "max       9.160000"
            ],
            "text/html": [
              "\n",
              "  <div id=\"df-2a0ebf7f-3a75-40cc-a148-ce5ba58fa26a\" class=\"colab-df-container\">\n",
              "    <div>\n",
              "<style scoped>\n",
              "    .dataframe tbody tr th:only-of-type {\n",
              "        vertical-align: middle;\n",
              "    }\n",
              "\n",
              "    .dataframe tbody tr th {\n",
              "        vertical-align: top;\n",
              "    }\n",
              "\n",
              "    .dataframe thead th {\n",
              "        text-align: right;\n",
              "    }\n",
              "</style>\n",
              "<table border=\"1\" class=\"dataframe\">\n",
              "  <thead>\n",
              "    <tr style=\"text-align: right;\">\n",
              "      <th></th>\n",
              "      <th>rating</th>\n",
              "    </tr>\n",
              "  </thead>\n",
              "  <tbody>\n",
              "    <tr>\n",
              "      <th>count</th>\n",
              "      <td>1944.000000</td>\n",
              "    </tr>\n",
              "    <tr>\n",
              "      <th>mean</th>\n",
              "      <td>7.150849</td>\n",
              "    </tr>\n",
              "    <tr>\n",
              "      <th>std</th>\n",
              "      <td>0.709454</td>\n",
              "    </tr>\n",
              "    <tr>\n",
              "      <th>min</th>\n",
              "      <td>2.960000</td>\n",
              "    </tr>\n",
              "    <tr>\n",
              "      <th>25%</th>\n",
              "      <td>6.720000</td>\n",
              "    </tr>\n",
              "    <tr>\n",
              "      <th>50%</th>\n",
              "      <td>7.210000</td>\n",
              "    </tr>\n",
              "    <tr>\n",
              "      <th>75%</th>\n",
              "      <td>7.590000</td>\n",
              "    </tr>\n",
              "    <tr>\n",
              "      <th>max</th>\n",
              "      <td>9.160000</td>\n",
              "    </tr>\n",
              "  </tbody>\n",
              "</table>\n",
              "</div>\n",
              "    <div class=\"colab-df-buttons\">\n",
              "\n",
              "  <div class=\"colab-df-container\">\n",
              "    <button class=\"colab-df-convert\" onclick=\"convertToInteractive('df-2a0ebf7f-3a75-40cc-a148-ce5ba58fa26a')\"\n",
              "            title=\"Convert this dataframe to an interactive table.\"\n",
              "            style=\"display:none;\">\n",
              "\n",
              "  <svg xmlns=\"http://www.w3.org/2000/svg\" height=\"24px\" viewBox=\"0 -960 960 960\">\n",
              "    <path d=\"M120-120v-720h720v720H120Zm60-500h600v-160H180v160Zm220 220h160v-160H400v160Zm0 220h160v-160H400v160ZM180-400h160v-160H180v160Zm440 0h160v-160H620v160ZM180-180h160v-160H180v160Zm440 0h160v-160H620v160Z\"/>\n",
              "  </svg>\n",
              "    </button>\n",
              "\n",
              "  <style>\n",
              "    .colab-df-container {\n",
              "      display:flex;\n",
              "      gap: 12px;\n",
              "    }\n",
              "\n",
              "    .colab-df-convert {\n",
              "      background-color: #E8F0FE;\n",
              "      border: none;\n",
              "      border-radius: 50%;\n",
              "      cursor: pointer;\n",
              "      display: none;\n",
              "      fill: #1967D2;\n",
              "      height: 32px;\n",
              "      padding: 0 0 0 0;\n",
              "      width: 32px;\n",
              "    }\n",
              "\n",
              "    .colab-df-convert:hover {\n",
              "      background-color: #E2EBFA;\n",
              "      box-shadow: 0px 1px 2px rgba(60, 64, 67, 0.3), 0px 1px 3px 1px rgba(60, 64, 67, 0.15);\n",
              "      fill: #174EA6;\n",
              "    }\n",
              "\n",
              "    .colab-df-buttons div {\n",
              "      margin-bottom: 4px;\n",
              "    }\n",
              "\n",
              "    [theme=dark] .colab-df-convert {\n",
              "      background-color: #3B4455;\n",
              "      fill: #D2E3FC;\n",
              "    }\n",
              "\n",
              "    [theme=dark] .colab-df-convert:hover {\n",
              "      background-color: #434B5C;\n",
              "      box-shadow: 0px 1px 3px 1px rgba(0, 0, 0, 0.15);\n",
              "      filter: drop-shadow(0px 1px 2px rgba(0, 0, 0, 0.3));\n",
              "      fill: #FFFFFF;\n",
              "    }\n",
              "  </style>\n",
              "\n",
              "    <script>\n",
              "      const buttonEl =\n",
              "        document.querySelector('#df-2a0ebf7f-3a75-40cc-a148-ce5ba58fa26a button.colab-df-convert');\n",
              "      buttonEl.style.display =\n",
              "        google.colab.kernel.accessAllowed ? 'block' : 'none';\n",
              "\n",
              "      async function convertToInteractive(key) {\n",
              "        const element = document.querySelector('#df-2a0ebf7f-3a75-40cc-a148-ce5ba58fa26a');\n",
              "        const dataTable =\n",
              "          await google.colab.kernel.invokeFunction('convertToInteractive',\n",
              "                                                    [key], {});\n",
              "        if (!dataTable) return;\n",
              "\n",
              "        const docLinkHtml = 'Like what you see? Visit the ' +\n",
              "          '<a target=\"_blank\" href=https://colab.research.google.com/notebooks/data_table.ipynb>data table notebook</a>'\n",
              "          + ' to learn more about interactive tables.';\n",
              "        element.innerHTML = '';\n",
              "        dataTable['output_type'] = 'display_data';\n",
              "        await google.colab.output.renderOutput(dataTable, element);\n",
              "        const docLink = document.createElement('div');\n",
              "        docLink.innerHTML = docLinkHtml;\n",
              "        element.appendChild(docLink);\n",
              "      }\n",
              "    </script>\n",
              "  </div>\n",
              "\n",
              "\n",
              "<div id=\"df-d6b25d43-b0ef-4f41-af4f-debfd57ba62f\">\n",
              "  <button class=\"colab-df-quickchart\" onclick=\"quickchart('df-d6b25d43-b0ef-4f41-af4f-debfd57ba62f')\"\n",
              "            title=\"Suggest charts.\"\n",
              "            style=\"display:none;\">\n",
              "\n",
              "<svg xmlns=\"http://www.w3.org/2000/svg\" height=\"24px\"viewBox=\"0 0 24 24\"\n",
              "     width=\"24px\">\n",
              "    <g>\n",
              "        <path d=\"M19 3H5c-1.1 0-2 .9-2 2v14c0 1.1.9 2 2 2h14c1.1 0 2-.9 2-2V5c0-1.1-.9-2-2-2zM9 17H7v-7h2v7zm4 0h-2V7h2v10zm4 0h-2v-4h2v4z\"/>\n",
              "    </g>\n",
              "</svg>\n",
              "  </button>\n",
              "\n",
              "<style>\n",
              "  .colab-df-quickchart {\n",
              "      --bg-color: #E8F0FE;\n",
              "      --fill-color: #1967D2;\n",
              "      --hover-bg-color: #E2EBFA;\n",
              "      --hover-fill-color: #174EA6;\n",
              "      --disabled-fill-color: #AAA;\n",
              "      --disabled-bg-color: #DDD;\n",
              "  }\n",
              "\n",
              "  [theme=dark] .colab-df-quickchart {\n",
              "      --bg-color: #3B4455;\n",
              "      --fill-color: #D2E3FC;\n",
              "      --hover-bg-color: #434B5C;\n",
              "      --hover-fill-color: #FFFFFF;\n",
              "      --disabled-bg-color: #3B4455;\n",
              "      --disabled-fill-color: #666;\n",
              "  }\n",
              "\n",
              "  .colab-df-quickchart {\n",
              "    background-color: var(--bg-color);\n",
              "    border: none;\n",
              "    border-radius: 50%;\n",
              "    cursor: pointer;\n",
              "    display: none;\n",
              "    fill: var(--fill-color);\n",
              "    height: 32px;\n",
              "    padding: 0;\n",
              "    width: 32px;\n",
              "  }\n",
              "\n",
              "  .colab-df-quickchart:hover {\n",
              "    background-color: var(--hover-bg-color);\n",
              "    box-shadow: 0 1px 2px rgba(60, 64, 67, 0.3), 0 1px 3px 1px rgba(60, 64, 67, 0.15);\n",
              "    fill: var(--button-hover-fill-color);\n",
              "  }\n",
              "\n",
              "  .colab-df-quickchart-complete:disabled,\n",
              "  .colab-df-quickchart-complete:disabled:hover {\n",
              "    background-color: var(--disabled-bg-color);\n",
              "    fill: var(--disabled-fill-color);\n",
              "    box-shadow: none;\n",
              "  }\n",
              "\n",
              "  .colab-df-spinner {\n",
              "    border: 2px solid var(--fill-color);\n",
              "    border-color: transparent;\n",
              "    border-bottom-color: var(--fill-color);\n",
              "    animation:\n",
              "      spin 1s steps(1) infinite;\n",
              "  }\n",
              "\n",
              "  @keyframes spin {\n",
              "    0% {\n",
              "      border-color: transparent;\n",
              "      border-bottom-color: var(--fill-color);\n",
              "      border-left-color: var(--fill-color);\n",
              "    }\n",
              "    20% {\n",
              "      border-color: transparent;\n",
              "      border-left-color: var(--fill-color);\n",
              "      border-top-color: var(--fill-color);\n",
              "    }\n",
              "    30% {\n",
              "      border-color: transparent;\n",
              "      border-left-color: var(--fill-color);\n",
              "      border-top-color: var(--fill-color);\n",
              "      border-right-color: var(--fill-color);\n",
              "    }\n",
              "    40% {\n",
              "      border-color: transparent;\n",
              "      border-right-color: var(--fill-color);\n",
              "      border-top-color: var(--fill-color);\n",
              "    }\n",
              "    60% {\n",
              "      border-color: transparent;\n",
              "      border-right-color: var(--fill-color);\n",
              "    }\n",
              "    80% {\n",
              "      border-color: transparent;\n",
              "      border-right-color: var(--fill-color);\n",
              "      border-bottom-color: var(--fill-color);\n",
              "    }\n",
              "    90% {\n",
              "      border-color: transparent;\n",
              "      border-bottom-color: var(--fill-color);\n",
              "    }\n",
              "  }\n",
              "</style>\n",
              "\n",
              "  <script>\n",
              "    async function quickchart(key) {\n",
              "      const quickchartButtonEl =\n",
              "        document.querySelector('#' + key + ' button');\n",
              "      quickchartButtonEl.disabled = true;  // To prevent multiple clicks.\n",
              "      quickchartButtonEl.classList.add('colab-df-spinner');\n",
              "      try {\n",
              "        const charts = await google.colab.kernel.invokeFunction(\n",
              "            'suggestCharts', [key], {});\n",
              "      } catch (error) {\n",
              "        console.error('Error during call to suggestCharts:', error);\n",
              "      }\n",
              "      quickchartButtonEl.classList.remove('colab-df-spinner');\n",
              "      quickchartButtonEl.classList.add('colab-df-quickchart-complete');\n",
              "    }\n",
              "    (() => {\n",
              "      let quickchartButtonEl =\n",
              "        document.querySelector('#df-d6b25d43-b0ef-4f41-af4f-debfd57ba62f button');\n",
              "      quickchartButtonEl.style.display =\n",
              "        google.colab.kernel.accessAllowed ? 'block' : 'none';\n",
              "    })();\n",
              "  </script>\n",
              "</div>\n",
              "    </div>\n",
              "  </div>\n"
            ]
          },
          "metadata": {},
          "execution_count": 8
        }
      ]
    },
    {
      "cell_type": "markdown",
      "source": [
        "Для всех колонок укажите название и количество уникальных значений:"
      ],
      "metadata": {
        "id": "Ds2eZZZUvCQX"
      }
    },
    {
      "cell_type": "code",
      "source": [
        "print(df.nunique())"
      ],
      "metadata": {
        "id": "fpS8EeGqvSGq",
        "colab": {
          "base_uri": "https://localhost:8080/"
        },
        "outputId": "062bf2ff-d782-4eae-b7c9-ce83e36008a6"
      },
      "execution_count": null,
      "outputs": [
        {
          "output_type": "stream",
          "name": "stdout",
          "text": [
            "title         1992\n",
            "production     224\n",
            "episodes       100\n",
            "source          12\n",
            "genre          271\n",
            "airdate        960\n",
            "rating         342\n",
            "voters        1978\n",
            "theme          170\n",
            "dtype: int64\n"
          ]
        }
      ]
    },
    {
      "cell_type": "markdown",
      "source": [
        "В ячейке ниже текстом перечислите все категориальные признаки и обоснуйте свой выбор:"
      ],
      "metadata": {
        "id": "fxhkLHSax03X"
      }
    },
    {
      "cell_type": "markdown",
      "source": [
        "source, так как количество уникальных значений достаточно мало"
      ],
      "metadata": {
        "id": "-pgdM4lOx8II"
      }
    },
    {
      "cell_type": "markdown",
      "source": [
        "Для каждой колонки, содержащей категориальный признак, распречатайте уникальные значения вместе с частотой их встречаемости (используйте метод столбца `value_counts()`):"
      ],
      "metadata": {
        "id": "qJmns5plx8yt"
      }
    },
    {
      "cell_type": "code",
      "source": [
        "import pandas as pd\n",
        "from pandas.core.base import value_counts\n",
        "print(value_counts(df['source']))"
      ],
      "metadata": {
        "id": "mkN4HDgfyyNi",
        "colab": {
          "base_uri": "https://localhost:8080/"
        },
        "outputId": "1f5aaa61-5e39-4d27-ecc3-162deedc1f02"
      },
      "execution_count": null,
      "outputs": [
        {
          "output_type": "stream",
          "name": "stdout",
          "text": [
            "Manga           818\n",
            "Original        468\n",
            "Light novel     263\n",
            "Game            201\n",
            "Novel            61\n",
            "Visual novel     51\n",
            "Other            48\n",
            "-                39\n",
            "Web manga        32\n",
            "Card game         9\n",
            "Book              1\n",
            "Picture book      1\n",
            "Name: source, dtype: int64\n"
          ]
        }
      ]
    },
    {
      "cell_type": "markdown",
      "source": [
        "Определите колонки, где присутствуют пропущенные значения:"
      ],
      "metadata": {
        "id": "faEy_Ncdyy70"
      }
    },
    {
      "cell_type": "code",
      "source": [
        "df.isna().any()"
      ],
      "metadata": {
        "id": "wsEhbWIAzAur",
        "colab": {
          "base_uri": "https://localhost:8080/"
        },
        "outputId": "fc2bc570-ebbb-426c-9d8d-95e64697466f"
      },
      "execution_count": null,
      "outputs": [
        {
          "output_type": "execute_result",
          "data": {
            "text/plain": [
              "title         False\n",
              "production    False\n",
              "episodes      False\n",
              "source        False\n",
              "genre         False\n",
              "airdate        True\n",
              "rating         True\n",
              "voters        False\n",
              "theme         False\n",
              "dtype: bool"
            ]
          },
          "metadata": {},
          "execution_count": 11
        }
      ]
    },
    {
      "cell_type": "markdown",
      "source": [
        "В ячейке ниже опишите, в каких колонках присутствуют пропущенные значения."
      ],
      "metadata": {
        "id": "c-D7BJ7hzBL7"
      }
    },
    {
      "cell_type": "markdown",
      "source": [
        "airdate, rating"
      ],
      "metadata": {
        "id": "Rnuv9E7HbA3z"
      }
    },
    {
      "cell_type": "markdown",
      "source": [
        "## 4. Построение простых гипотез. Заполнение пропусков."
      ],
      "metadata": {
        "id": "g-IMiTlfzXIP"
      }
    },
    {
      "cell_type": "markdown",
      "source": [
        "Проанализируйте значения признаков Production, Source, Rating и Voters. По каждому признаку нужно построить график (линейный или гистограмму). Также попробуйте построить некоторые простые гипотезы относительно каждого признака. Также укажите, в каких из признаков присутствуют пропущенные значения, и как эти значения можно заполнить (интерполяция, заполнение частым значением, удаление строк с пропущенным значением, заполнение средним/медианой по всем данным, заполнение средним/медианой по отдельной подвыборке)."
      ],
      "metadata": {
        "id": "ynp5re2PzbbA"
      }
    },
    {
      "cell_type": "markdown",
      "source": [
        "### Production\n",
        "\n",
        "В ячейке ниже постройте график распределения данного признака:"
      ],
      "metadata": {
        "id": "ssD2nF0Q3rcG"
      }
    },
    {
      "cell_type": "code",
      "source": [
        "df['production'].value_counts().plot.bar(fontsize=4)"
      ],
      "metadata": {
        "id": "TOQGCQZt35nU",
        "colab": {
          "base_uri": "https://localhost:8080/",
          "height": 632
        },
        "outputId": "ab4f5f15-79b0-4645-bdfc-724f36e461ca"
      },
      "execution_count": null,
      "outputs": [
        {
          "output_type": "execute_result",
          "data": {
            "text/plain": [
              "<Axes: >"
            ]
          },
          "metadata": {},
          "execution_count": 67
        },
        {
          "output_type": "stream",
          "name": "stderr",
          "text": [
            "/usr/local/lib/python3.10/dist-packages/IPython/core/events.py:89: UserWarning: Glyph 12539 (\\N{KATAKANA MIDDLE DOT}) missing from current font.\n",
            "  func(*args, **kwargs)\n",
            "/usr/local/lib/python3.10/dist-packages/IPython/core/pylabtools.py:151: UserWarning: Glyph 12539 (\\N{KATAKANA MIDDLE DOT}) missing from current font.\n",
            "  fig.canvas.print_figure(bytes_io, **kw)\n"
          ]
        },
        {
          "output_type": "display_data",
          "data": {
            "text/plain": [
              "<Figure size 640x480 with 1 Axes>"
            ],
            "image/png": "[encoded data removed]"
          },
          "metadata": {}
        }
      ]
    },
    {
      "cell_type": "markdown",
      "source": [
        "В ячейке ниже укажите, какие простые гипотезы относительно данного признака можно подтвердить/опровергнуть, есть ли пропуски в данном признаке и, если они есть, предположите, как можно их заполнить."
      ],
      "metadata": {
        "id": "GatanSyT36y7"
      }
    },
    {
      "cell_type": "markdown",
      "source": [
        "Более 75% студий выпустили менее 20 аниме, при 50% всех студий -- меньше 10. Есть 2 самые актвные студии (120+ аниме). Если вывести гистограмму хвоста, то видно, что много студи выпустили по одному аниме. То есть есть болльшие активные студии, а есть, вероятно, студии, созданные под один проект, причём вторых большинство. \\\n",
        "Если были пропуски, то можно заполнить одной из этих активных студий. Из пункта три видим, что отсутствия данных нет, но при выводе части таблицы видим, что есть прочерки. \\\n",
        "Дополнительно построим диаграмму для топ 10"
      ],
      "metadata": {
        "id": "qpinrPl-4KRl"
      }
    },
    {
      "cell_type": "code",
      "source": [
        "prod=df['production'].value_counts().head(10)\n",
        "prod.plot.bar()"
      ],
      "metadata": {
        "colab": {
          "base_uri": "https://localhost:8080/",
          "height": 535
        },
        "id": "Xjn8hv2r9UOr",
        "outputId": "dcfc6aa9-c964-46ec-a8ee-31a465a44d61"
      },
      "execution_count": null,
      "outputs": [
        {
          "output_type": "execute_result",
          "data": {
            "text/plain": [
              "<Axes: >"
            ]
          },
          "metadata": {},
          "execution_count": 18
        },
        {
          "output_type": "display_data",
          "data": {
            "text/plain": [
              "<Figure size 640x480 with 1 Axes>"
            ],
            "image/png": "[encoded data removed]"
          },
          "metadata": {}
        }
      ]
    },
    {
      "cell_type": "code",
      "source": [
        "prod_0=df['production'].value_counts().tail(30)\n",
        "prod_0.plot.bar()"
      ],
      "metadata": {
        "colab": {
          "base_uri": "https://localhost:8080/",
          "height": 610
        },
        "id": "2zxshx-6DK1r",
        "outputId": "1b63bc28-8c6e-40ed-c46c-cadcf0276e90"
      },
      "execution_count": null,
      "outputs": [
        {
          "output_type": "execute_result",
          "data": {
            "text/plain": [
              "<Axes: >"
            ]
          },
          "metadata": {},
          "execution_count": 20
        },
        {
          "output_type": "display_data",
          "data": {
            "text/plain": [
              "<Figure size 640x480 with 1 Axes>"
            ],
            "image/png": "[encoded data removed]"
          },
          "metadata": {}
        }
      ]
    },
    {
      "cell_type": "markdown",
      "source": [
        "можно заполнить прочерки либо Toei Animation, либо Sunrise, либо 50/50, так как они встречаются почти одинаковое количество раз. \\\n",
        "Заменим первым способом. Выведем для удобства снова топ 10"
      ],
      "metadata": {
        "id": "-GWcFJ4X9r9V"
      }
    },
    {
      "cell_type": "markdown",
      "source": [
        "В ячейке ниже заполните пропуски (если они есть) выбранным способом и постройте график распределения признака после заполнения пропусков:"
      ],
      "metadata": {
        "id": "OitfwgUT5DQQ"
      }
    },
    {
      "cell_type": "code",
      "source": [
        "df['production']=df['production'].replace('-', 'Toei Animation')\n",
        "prod=df['production'].value_counts().head(10)\n",
        "prod.plot.bar()"
      ],
      "metadata": {
        "id": "_cAsO6gw5ONh",
        "colab": {
          "base_uri": "https://localhost:8080/",
          "height": 535
        },
        "outputId": "d64520ce-03a4-4979-cc5c-691af74196fe"
      },
      "execution_count": null,
      "outputs": [
        {
          "output_type": "execute_result",
          "data": {
            "text/plain": [
              "<Axes: >"
            ]
          },
          "metadata": {},
          "execution_count": 16
        },
        {
          "output_type": "display_data",
          "data": {
            "text/plain": [
              "<Figure size 640x480 with 1 Axes>"
            ],
            "image/png": "[encoded data removed]"
          },
          "metadata": {}
        }
      ]
    },
    {
      "cell_type": "markdown",
      "source": [
        "### Source\n",
        "\n",
        "Определите топ-3 популярных источника (Source) для аниме (пример: Manga, Light Novel, Game и т.д.) и визуализируйте полученные данные в виде столбчатой диаграммы. Какой источник наиболее популярный?"
      ],
      "metadata": {
        "id": "2p7pyXMe4Kq2"
      }
    },
    {
      "cell_type": "code",
      "source": [
        "top=df['source'].value_counts().head(3)\n",
        "top_list=list(top.index)\n",
        "df['source'].loc[df['source'].isin(top_list)].hist()"
      ],
      "metadata": {
        "id": "CH-wFbm64XKY",
        "colab": {
          "base_uri": "https://localhost:8080/",
          "height": 447
        },
        "outputId": "2bdb039e-e4a2-4928-f084-66490c3bad68"
      },
      "execution_count": null,
      "outputs": [
        {
          "output_type": "execute_result",
          "data": {
            "text/plain": [
              "<Axes: >"
            ]
          },
          "metadata": {},
          "execution_count": 78
        },
        {
          "output_type": "display_data",
          "data": {
            "text/plain": [
              "<Figure size 640x480 with 1 Axes>"
            ],
            "image/png": "[encoded data removed]"
          },
          "metadata": {}
        }
      ]
    },
    {
      "cell_type": "markdown",
      "source": [
        "В ячейке ниже укажите, есть ли пропуски в данном признаке и, если они есть, предположите, как можно их заполнить."
      ],
      "metadata": {
        "id": "LdGm35b44ZJe"
      }
    },
    {
      "cell_type": "markdown",
      "source": [
        "Нет пропусков, если судить по результату из блока 3. Но если смотреть на вывод последних 10 строк, то видно, что есть пропуски в виде '-'\n",
        "\n",
        "Если заполнить тире самым частым источником - мангой, то будет следующее\n"
      ],
      "metadata": {
        "id": "OZQgUMyl4ZHJ"
      }
    },
    {
      "cell_type": "markdown",
      "source": [
        "В ячейке ниже заполните пропуски (если они есть) выбранным способом и постройте график распределения признака (укажите 3 самых популярных источника) после заполнения пропусков:"
      ],
      "metadata": {
        "id": "sfUZ4ZwN5QNX"
      }
    },
    {
      "cell_type": "code",
      "source": [
        "df['source']=df['source'].replace('-', 'Manga')\n",
        "top=df['source'].value_counts().head(3)\n",
        "top_list=list(top.index)\n",
        "df['source'].loc[df['source'].isin(top_list)].hist()"
      ],
      "metadata": {
        "id": "aC4Y1LVr5R4o",
        "colab": {
          "base_uri": "https://localhost:8080/",
          "height": 447
        },
        "outputId": "72b3103a-8344-4501-9c61-d53836896cee"
      },
      "execution_count": null,
      "outputs": [
        {
          "output_type": "execute_result",
          "data": {
            "text/plain": [
              "<Axes: >"
            ]
          },
          "metadata": {},
          "execution_count": 79
        },
        {
          "output_type": "display_data",
          "data": {
            "text/plain": [
              "<Figure size 640x480 with 1 Axes>"
            ],
            "image/png": "[encoded data removed]"
          },
          "metadata": {}
        }
      ]
    },
    {
      "cell_type": "markdown",
      "source": [
        "### Rating\n",
        "\n",
        "В ячейке ниже постройте график распределения данного признака:"
      ],
      "metadata": {
        "id": "0A4EScBU4-sB"
      }
    },
    {
      "cell_type": "code",
      "source": [
        "df['rating'].hist(bins=20)"
      ],
      "metadata": {
        "id": "m94NBTlu5UT9",
        "colab": {
          "base_uri": "https://localhost:8080/",
          "height": 451
        },
        "outputId": "95f7b171-5c25-47aa-e73e-1839e6e2a46a"
      },
      "execution_count": null,
      "outputs": [
        {
          "output_type": "execute_result",
          "data": {
            "text/plain": [
              "<Axes: >"
            ]
          },
          "metadata": {},
          "execution_count": 80
        },
        {
          "output_type": "display_data",
          "data": {
            "text/plain": [
              "<Figure size 640x480 with 1 Axes>"
            ],
            "image/png": "[encoded data removed]"
          },
          "metadata": {}
        }
      ]
    },
    {
      "cell_type": "markdown",
      "source": [
        "В ячейке ниже укажите, какие простые гипотезы относительно данного признака можно подтвердить/опровергнуть, есть ли пропуски в данном признаке и, если они есть, предположите, как можно их заполнить."
      ],
      "metadata": {
        "id": "inaLi8Ag5VA2"
      }
    },
    {
      "cell_type": "markdown",
      "source": [
        "Мало оценок <6.5 и >8. При этом оценки меньше 5 практически отсутствуют, в отличие от оценок 8-9. Согласно пункту 3 пропуски в этом признаке присутсвуют. Заполнить можно самой часто встречающейся оценкой - примерно 7.5"
      ],
      "metadata": {
        "id": "rjOS-DJj5ZJa"
      }
    },
    {
      "cell_type": "markdown",
      "source": [
        "В ячейке ниже заполните пропуски (если они есть) выбранным способом и постройте график распределения признака после заполнения пропусков:"
      ],
      "metadata": {
        "id": "0eCkyUk_5bYo"
      }
    },
    {
      "cell_type": "code",
      "source": [
        "df['rating'] = df['rating'].fillna(7.5)\n",
        "df['rating'].hist(bins=20)"
      ],
      "metadata": {
        "id": "e-zfHTdP5dYd",
        "colab": {
          "base_uri": "https://localhost:8080/",
          "height": 447
        },
        "outputId": "2ea203b8-b3cc-446b-d9f0-040a83951d0c"
      },
      "execution_count": null,
      "outputs": [
        {
          "output_type": "execute_result",
          "data": {
            "text/plain": [
              "<Axes: >"
            ]
          },
          "metadata": {},
          "execution_count": 81
        },
        {
          "output_type": "display_data",
          "data": {
            "text/plain": [
              "<Figure size 640x480 with 1 Axes>"
            ],
            "image/png": "[encoded data removed]"
          },
          "metadata": {}
        }
      ]
    },
    {
      "cell_type": "markdown",
      "source": [
        "### Voters*\n",
        "\n",
        "Этот признак показывает, сколько человек проголосовало за данное аниме. Однако, мы видим, что в исходном наборе данных используется запятая для разделения миллионов, тысяч и сотен. Pandas не умеет корректно работать с числами в таком формате, поэтому считает, что данный признак содержит строковые значения. Чтобы корректно обработать такие значения, необходимо удалить лишние запятые. Для этого можно использовать apply:"
      ],
      "metadata": {
        "id": "4jzzMrlB5y9s"
      }
    },
    {
      "cell_type": "code",
      "source": [
        "def del_comas(row):\n",
        "  if not pd.isna(row):\n",
        "    row=str(row).replace(',', '')\n",
        "    return row\n",
        "  else:\n",
        "    return None\n",
        "\n",
        "# Укажите в параметрах apply функцию, которая для каждого значения будет удалять запятые.\n",
        "# Не забудьте использовать str для получения строкового представления значений признака.\n",
        "# Для удаления запятых из строки можно использовать replace()\n",
        "# Также не забывайте про параметр axis!\n",
        "df['voters'] = df['voters'].apply(lambda row: str(row).replace(',', '')) # заполните параметры метода apply"
      ],
      "metadata": {
        "id": "MvdPoHVg6p8x"
      },
      "execution_count": null,
      "outputs": []
    },
    {
      "cell_type": "markdown",
      "source": [
        "Чтобы автоматически преобразовать тип данных в целое число, можно использовать метод astype:"
      ],
      "metadata": {
        "id": "Dnl6mBX97UJv"
      }
    },
    {
      "cell_type": "code",
      "source": [
        "df['voters'] = df['voters'].astype('int32') # Этот код менять не нужно"
      ],
      "metadata": {
        "id": "9k6VyuDf7d5V"
      },
      "execution_count": null,
      "outputs": []
    },
    {
      "cell_type": "markdown",
      "source": [
        "Выведите типы признаков в получившемся наборе данных и убедитесь, что у признака Voters теперь тип int32:"
      ],
      "metadata": {
        "id": "2gItKqmU7soj"
      }
    },
    {
      "cell_type": "code",
      "source": [
        "print(df['voters'].dtype)"
      ],
      "metadata": {
        "id": "kJHEBOow76FS",
        "colab": {
          "base_uri": "https://localhost:8080/"
        },
        "outputId": "1d037f98-8de0-45b1-856c-ab0bdfd5e430"
      },
      "execution_count": null,
      "outputs": [
        {
          "output_type": "stream",
          "name": "stdout",
          "text": [
            "int32\n"
          ]
        }
      ]
    },
    {
      "cell_type": "markdown",
      "source": [
        "В ячейке ниже постройте график распределения данного признака:"
      ],
      "metadata": {
        "id": "KehuMvrY78qv"
      }
    },
    {
      "cell_type": "code",
      "source": [
        "df['voters'].plot()"
      ],
      "metadata": {
        "id": "4lgDc7oK79HQ",
        "colab": {
          "base_uri": "https://localhost:8080/",
          "height": 462
        },
        "outputId": "a6bef721-9233-41b7-e110-581daec4962e"
      },
      "execution_count": null,
      "outputs": [
        {
          "output_type": "execute_result",
          "data": {
            "text/plain": [
              "<Axes: >"
            ]
          },
          "metadata": {},
          "execution_count": 87
        },
        {
          "output_type": "display_data",
          "data": {
            "text/plain": [
              "<Figure size 640x480 with 1 Axes>"
            ],
            "image/png": "[encoded data removed]"
          },
          "metadata": {}
        }
      ]
    },
    {
      "cell_type": "markdown",
      "source": [
        "В ячейке ниже укажите, какие простые гипотезы относительно данного признака можно подтвердить/опровергнуть, есть ли пропуски в данном признаке и, если они есть, предположите, как можно их заполнить (в данном случае можно заполнить пропуски значением 0 или средним значением)."
      ],
      "metadata": {
        "id": "rh421S0p8Ahc"
      }
    },
    {
      "cell_type": "markdown",
      "source": [
        "пропусков нет (видно из графика + результат проверки в разделе 3 это подтверждает) \\\n",
        "аниме расположены в порядке убывания количества проголосовавших за него зрителей. В выборке за большую часть(примерно за 80-85%) голосовало меньше 50000 человек, примерно за половину - меньше 25000"
      ],
      "metadata": {
        "id": "VxWr6hFt8BXF"
      }
    },
    {
      "cell_type": "markdown",
      "source": [
        "В ячейке ниже заполните пропуски (если они есть) выбранным способом и постройте график распределения признака после заполнения пропусков:"
      ],
      "metadata": {
        "id": "m2VywSrg8B2n"
      }
    },
    {
      "cell_type": "code",
      "source": [
        "# Вставьте свой код здесь"
      ],
      "metadata": {
        "id": "I-OG6jq08HYP"
      },
      "execution_count": null,
      "outputs": []
    },
    {
      "cell_type": "markdown",
      "source": [
        "## 5*. Построение новых признаков.\n",
        "\n",
        "У каждого аниме есть жанр (Genre) и тема (Theme). Эти признаки являются строковыми. Они содержат описание разных жанров и тем по каждомк аниме, разделенные запятой.\n",
        "\n",
        "Чтобы понять, какие жанры и темы присутствуют в каждом аниме, необходима дополнительная обработка.\n",
        "\n",
        "Ниже покажем пример обработки жанра. Далее вам нужно выполнить аналогичные манипуляции с темой."
      ],
      "metadata": {
        "id": "F52r8wkh_J8U"
      }
    },
    {
      "cell_type": "markdown",
      "source": [
        "### Genre"
      ],
      "metadata": {
        "id": "AjOiDCd-AVOT"
      }
    },
    {
      "cell_type": "markdown",
      "source": [
        "Для начала нужно заполнить пропуски в данных каким-то значением. Заполним все пропуски значением Empty (жанр отсутствует):"
      ],
      "metadata": {
        "id": "FRZ9bxGpAXPr"
      }
    },
    {
      "cell_type": "code",
      "source": [
        "df['genre'] = df['genre'].fillna('Empty')"
      ],
      "metadata": {
        "id": "rsL9EQ1-BCSp"
      },
      "execution_count": null,
      "outputs": []
    },
    {
      "cell_type": "markdown",
      "source": [
        "Теперь нужно построить список строковых значений жанра:"
      ],
      "metadata": {
        "id": "WMzxt0HqBlaU"
      }
    },
    {
      "cell_type": "code",
      "source": [
        "genre_lst = [elem.split(',') for elem in df['genre']]"
      ],
      "metadata": {
        "id": "gnhBwg8dBw-v"
      },
      "execution_count": null,
      "outputs": []
    },
    {
      "cell_type": "markdown",
      "source": [
        "`genre_lst` - это список. Каждый его элемент - это **также список**, перечень жанров для соответствующего аниме. Обратите внимание, что здесь мы не можем использовать библиотеку `NumPy`, т.к. количество жанров у одного аниме не фиксировано (мы не можем построить матрицу с фиксированным количеством столбцов).\n",
        "\n",
        "Теперь нам потребуется функция, которая будет генерировать новый список `res_lst`. В начале он пустой (состоит из 0 элементов). В этой функции мы будем итерироваться по элементам исходного списка `lst` и добавлять все значения из соответствующего элемента списка в `res_lst`. Для этого мы используем метод `extend`. Подробнее про этот метод можно почитать, например, [здесь](https://www.programiz.com/python-programming/methods/list/extend)."
      ],
      "metadata": {
        "id": "OU6XSDxgB4QN"
      }
    },
    {
      "cell_type": "code",
      "source": [
        "def flatten_extend(lst):\n",
        "    res_lst=[]\n",
        "    for elem in lst:\n",
        "        res_lst.extend(elem)\n",
        "    return res_lst"
      ],
      "metadata": {
        "id": "VAlGjD6NDsf6"
      },
      "execution_count": null,
      "outputs": []
    },
    {
      "cell_type": "markdown",
      "source": [
        "Теперь мы можем применить построенную функцию к нашему списку `genre_lst` и сохранить результат в новую переменную `full_genre_lst`:"
      ],
      "metadata": {
        "id": "kxSwcTgkD7_Q"
      }
    },
    {
      "cell_type": "code",
      "source": [
        "full_genre_lst = flatten_extend(genre_lst)"
      ],
      "metadata": {
        "id": "6vQbNusqEIqa"
      },
      "execution_count": null,
      "outputs": []
    },
    {
      "cell_type": "markdown",
      "source": [
        "Давайте посмотрим, что будет в списке `full_genre_lst`:"
      ],
      "metadata": {
        "id": "d2RSHkluENIA"
      }
    },
    {
      "cell_type": "code",
      "source": [
        "print(full_genre_lst)"
      ],
      "metadata": {
        "id": "eUMMPmlAESlB",
        "colab": {
          "base_uri": "https://localhost:8080/"
        },
        "outputId": "3a55e4b2-473a-469c-b9aa-4a77c8007f15"
      },
      "execution_count": null,
      "outputs": [
        {
          "output_type": "stream",
          "name": "stdout",
          "text": [
            "['Action', 'Drama', 'Fantasy', 'Mystery', 'Action', 'Adventure', 'Comedy', 'Drama', 'Fantasy', 'Action', 'Adventure', 'Fantasy', 'Romance', 'Action', 'Comedy', 'Sci-Fi', 'Supernatural', 'Action', 'Comedy', 'Action', 'Drama', 'Horror', 'Mystery', 'Supernatural', 'Action', 'Adventure', 'Comedy', 'Action', 'Adventure', 'Fantasy', 'Action', 'Supernatural', 'Action', 'Drama', 'Fantasy', 'Mystery', 'Action', 'Comedy', 'Action', 'Adventure', 'Comedy', 'Action', 'Drama', 'Sci-Fi', 'Action', 'Adventure', 'Comedy', 'Supernatural', 'Action', 'Comedy', 'Drama', 'Supernatural', 'Action', 'Comedy', 'Action', 'Mystery', 'Supernatural', 'Suspense', 'Action', 'Drama', 'Fantasy', 'Mystery', 'Action', 'Adventure', 'Fantasy', 'Supernatural', 'Action', 'Adventure', 'Drama', 'Fantasy', 'Action', 'Adventure', 'Comedy', 'Drama', 'Fantasy', 'Action', 'Adventure', 'Fantasy', 'Romance', 'Action', 'Fantasy', 'Supernatural', 'Action', 'Drama', 'Fantasy', 'Mystery', 'Action', 'Comedy', 'Action', 'Comedy', 'Slice of Life', 'Supernatural', 'Action', 'Supernatural', 'Action', 'Adventure', 'Comedy', 'Supernatural', 'Action', 'Drama', 'Horror', 'Sci-Fi', 'Action', 'Adventure', 'Comedy', 'Fantasy', 'Action', 'Drama', 'Horror', 'Mystery', 'Supernatural', 'Action', 'Adventure', 'Comedy', 'Drama', 'Sci-Fi', 'Action', 'Drama', 'Sci-Fi', 'Action', 'Comedy', 'Ecchi', 'Action', 'Avant Garde', 'Drama', 'Sci-Fi', 'Action', 'Comedy', 'Fantasy', 'Supernatural', 'Action', 'Sci-Fi', 'Suspense', 'Action', 'Adventure', 'Comedy', 'Sci-Fi', 'Action', 'Drama', 'Fantasy', 'Mystery', 'Action', 'Drama', 'Horror', 'Romance', 'Supernatural', 'Action', 'Comedy', 'Action', 'Drama', 'Romance', 'Sci-Fi', 'Action', 'Adventure', 'Comedy', 'Drama', 'Fantasy', 'Action', 'Comedy', 'Sci-Fi', 'Supernatural', 'Action', 'Horror', 'Supernatural', 'Ecchi', 'Action', 'Fantasy', 'Supernatural', 'Action', 'Adventure', 'Comedy', 'Fantasy', 'Romance', 'Action', 'Adventure', 'Supernatural', 'Action', 'Adventure', 'Fantasy', 'Supernatural', 'Action', 'Mystery', 'Supernatural', 'Action', 'Adventure', 'Comedy', 'Supernatural', 'Action', 'Comedy', 'Fantasy', 'Action', 'Adventure', 'Drama', 'Fantasy', 'Action', 'Comedy', 'Action', 'Comedy', 'Slice of Life', 'Supernatural', 'Action', 'Drama', 'Supernatural', 'Action', 'Horror', 'Sci-Fi', 'Supernatural', 'Action', 'Drama', 'Romance', 'Sci-Fi', 'Action', 'Adventure', 'Comedy', 'Fantasy', 'Action', 'Adventure', 'Comedy', 'Action', 'Adventure', 'Comedy', 'Fantasy', 'Action', 'Comedy', 'Mystery', 'Supernatural', 'Action', 'Adventure', 'Fantasy', 'Action', 'Comedy', 'Mystery', 'Supernatural', 'Action', 'Adventure', 'Fantasy', 'Action', 'Supernatural', 'Action', 'Adventure', 'Drama', 'Action', 'Fantasy', 'Supernatural', 'Action', 'Adventure', 'Fantasy', 'Supernatural', 'Action', 'Drama', 'Horror', 'Mystery', 'Supernatural', 'Action', 'Adventure', 'Drama', 'Supernatural', 'Action', 'Adventure', 'Supernatural', 'Action', 'Comedy', 'Sci-Fi', 'Action', 'Adventure', 'Fantasy', 'Action', 'Romance', 'Sci-Fi', 'Supernatural', 'Action', 'Fantasy', 'Supernatural', 'Action', 'Adventure', 'Fantasy', 'Action', 'Avant Garde', 'Horror', 'Supernatural', 'Action', 'Fantasy', 'Romance', 'Supernatural', 'Action', 'Adventure', 'Drama', 'Supernatural', 'Action', 'Mystery', 'Sci-Fi', 'Action', 'Adventure', 'Comedy', 'Drama', 'Supernatural', 'Action', 'Adventure', 'Comedy', 'Fantasy', 'Action', 'Adventure', 'Fantasy', 'Romance', 'Action', 'Action', 'Mystery', 'Sci-Fi', 'Action', 'Comedy', 'Mystery', 'Supernatural', 'Action', 'Adventure', 'Fantasy', 'Supernatural', 'Action', 'Comedy', 'Romance', 'Ecchi', 'Action', 'Comedy', 'Action', 'Horror', 'Supernatural', 'Action', 'Fantasy', 'Romance', 'Ecchi', 'Action', 'Sci-Fi', 'Action', 'Adventure', 'Action', 'Drama', 'Supernatural', 'Action', 'Comedy', 'Fantasy', 'Supernatural', 'Action', 'Adventure', 'Fantasy', 'Action', 'Action', 'Fantasy', 'Supernatural', 'Action', 'Adventure', 'Comedy', 'Fantasy', 'Romance', 'Ecchi', 'Action', 'Comedy', 'Fantasy', 'Romance', 'Supernatural', 'Ecchi', 'Action', 'Sci-Fi', 'Action', 'Adventure', 'Drama', 'Fantasy', 'Mystery', 'Action', 'Adventure', 'Comedy', 'Fantasy', 'Romance', 'Action', 'Avant Garde', 'Comedy', 'Sci-Fi', 'Action', 'Adventure', 'Action', 'Drama', 'Fantasy', 'Horror', 'Supernatural', 'Action', 'Comedy', 'Romance', 'Ecchi', 'Action', 'Fantasy', 'Supernatural', 'Action', 'Adventure', 'Comedy', 'Fantasy', 'Sci-Fi', 'Supernatural', 'Action', 'Adventure', 'Fantasy', 'Action', 'Adventure', 'Comedy', 'Fantasy', 'Romance', 'Supernatural', 'Action', 'Mystery', 'Supernatural', 'Action', 'Adventure', 'Horror', 'Sci-Fi', 'Supernatural', 'Action', 'Adventure', 'Comedy', 'Fantasy', 'Action', 'Drama', 'Horror', 'Mystery', 'Supernatural', 'Action', 'Romance', 'Sci-Fi', 'Action', 'Drama', 'Supernatural', 'Action', 'Mystery', 'Supernatural', 'Action', 'Adventure', 'Comedy', 'Fantasy', 'Romance', 'Action', 'Fantasy', 'Supernatural', 'Action', 'Adventure', 'Drama', 'Action', 'Adventure', 'Comedy', 'Fantasy', 'Action', 'Adventure', 'Comedy', 'Drama', 'Sci-Fi', 'Action', 'Adventure', 'Comedy', 'Action', 'Adventure', 'Drama', 'Fantasy', 'Action', 'Horror', 'Supernatural', 'Action', 'Adventure', 'Fantasy', 'Romance', 'Action', 'Comedy', 'Supernatural', 'Action', 'Adventure', 'Fantasy', 'Supernatural', 'Action', 'Adventure', 'Fantasy', 'Supernatural', 'Action', 'Action', 'Fantasy', 'Action', 'Drama', 'Action', 'Sci-Fi', 'Suspense', 'Action', 'Adventure', 'Fantasy', 'Supernatural', 'Action', 'Comedy', 'Supernatural', 'Ecchi', 'Action', 'Adventure', 'Fantasy', 'Romance', 'Action', 'Comedy', 'Sci-Fi', 'Ecchi', 'Action', 'Fantasy', 'Romance', 'Ecchi', 'Action', 'Fantasy', 'Supernatural', 'Ecchi', 'Action', 'Comedy', 'Fantasy', 'Romance', 'Sci-Fi', 'Supernatural', 'Ecchi', 'Action', 'Comedy', 'Supernatural', 'Action', 'Adventure', 'Comedy', 'Fantasy', 'Sci-Fi', 'Action', 'Adventure', 'Fantasy', 'Mystery', 'Action', 'Adventure', 'Fantasy', 'Action', 'Adventure', 'Comedy', 'Fantasy', 'Action', 'Drama', 'Fantasy', 'Mystery', 'Action', 'Supernatural', 'Action', 'Sci-Fi', 'Action', 'Sci-Fi', 'Action', 'Fantasy', 'Action', 'Drama', 'Sci-Fi', 'Action', 'Comedy', 'Supernatural', 'Action', 'Comedy', 'Fantasy', 'Supernatural', 'Action', 'Drama', 'Mystery', 'Romance', 'Sci-Fi', 'Suspense', 'Action', 'Horror', 'Mystery', 'Supernatural', 'Action', 'Fantasy', 'Sci-Fi', 'Action', 'Comedy', 'Action', 'Adventure', 'Drama', 'Fantasy', 'Horror', 'Supernatural', 'Action', 'Comedy', 'Supernatural', 'Action', 'Adventure', 'Romance', 'Action', 'Drama', 'Fantasy', 'Romance', 'Supernatural', 'Action', 'Adventure', 'Fantasy', 'Action', 'Drama', 'Action', 'Comedy', 'Sci-Fi', 'Action', 'Fantasy', 'Sci-Fi', 'Action', 'Romance', 'Supernatural', 'Ecchi', 'Action', 'Adventure', 'Fantasy', 'Action', 'Adventure', 'Fantasy', 'Action', 'Adventure', 'Comedy', 'Fantasy', 'Action', 'Sci-Fi', 'Action', 'Romance', 'Action', 'Adventure', 'Comedy', 'Mystery', 'Action', 'Adventure', 'Comedy', 'Fantasy', 'Action', 'Comedy', 'Fantasy', 'Slice of Life', 'Supernatural', 'Action', 'Adventure', 'Comedy', 'Fantasy', 'Romance', 'Ecchi', 'Action', 'Comedy', 'Fantasy', 'Ecchi', 'Action', 'Drama', 'Sci-Fi', 'Action', 'Comedy', 'Sci-Fi', 'Action', 'Adventure', 'Fantasy', 'Romance', 'Action', 'Fantasy', 'Romance', 'Supernatural', 'Action', 'Comedy', 'Fantasy', 'Romance', 'Action', 'Mystery', 'Supernatural', 'Action', 'Adventure', 'Comedy', 'Fantasy', 'Action', 'Comedy', 'Sci-Fi', 'Action', 'Action', 'Drama', 'Sci-Fi', 'Action', 'Adventure', 'Comedy', 'Romance', 'Action', 'Mystery', 'Supernatural', 'Action', 'Comedy', 'Romance', 'Supernatural', 'Action', 'Drama', 'Sci-Fi', 'Sports', 'Action', 'Adventure', 'Comedy', 'Fantasy', 'Romance', 'Action', 'Fantasy', 'Sci-Fi', 'Action', 'Action', 'Mystery', 'Sci-Fi', 'Action', 'Romance', 'Supernatural', 'Action', 'Adventure', 'Fantasy', 'Action', 'Sci-Fi', 'Action', 'Fantasy', 'Action', 'Drama', 'Sci-Fi', 'Action', 'Drama', 'Fantasy', 'Supernatural', 'Action', 'Adventure', 'Comedy', 'Fantasy', 'Romance', 'Ecchi', 'Action', 'Adventure', 'Comedy', 'Fantasy', 'Action', 'Comedy', 'Romance', 'Ecchi', 'Action', 'Comedy', 'Fantasy', 'Horror', 'Action', 'Comedy', 'Action', 'Drama', 'Mystery', 'Sci-Fi', 'Action', 'Mystery', 'Sci-Fi', 'Action', 'Mystery', 'Supernatural', 'Action', 'Adventure', 'Fantasy', 'Action', 'Adventure', 'Comedy', 'Fantasy', 'Sci-Fi', 'Action', 'Drama', 'Fantasy', 'Action', 'Mystery', 'Supernatural', 'Ecchi', 'Action', 'Mystery', 'Supernatural', 'Suspense', 'Action', 'Drama', 'Fantasy', 'Mystery', 'Action', 'Mystery', 'Supernatural', 'Action', 'Adventure', 'Fantasy', 'Supernatural', 'Action', 'Comedy', 'Ecchi', 'Action', 'Drama', 'Fantasy', 'Mystery', 'Action', 'Fantasy', 'Ecchi', 'Action', 'Comedy', 'Fantasy', 'Supernatural', 'Action', 'Adventure', 'Drama', 'Fantasy', 'Action', 'Adventure', 'Comedy', 'Fantasy', 'Action', 'Sci-Fi', 'Action', 'Fantasy', 'Supernatural', 'Action', 'Mystery', 'Supernatural', 'Action', 'Comedy', 'Supernatural', 'Ecchi', 'Action', 'Sports', 'Ecchi', 'Action', 'Comedy', 'Sci-Fi', 'Ecchi', 'Action', 'Comedy', 'Mystery', 'Supernatural', 'Action', 'Drama', 'Sci-Fi', 'Action', 'Drama', 'Horror', 'Mystery', 'Supernatural', 'Action', 'Sci-Fi', 'Suspense', 'Action', 'Comedy', 'Romance', 'Action', 'Adventure', 'Comedy', 'Fantasy', 'Romance', 'Action', 'Adventure', 'Fantasy', 'Action', 'Sci-Fi', 'Action', 'Mystery', 'Supernatural', 'Action', 'Adventure', 'Drama', 'Fantasy', 'Action', 'Sci-Fi', 'Supernatural', 'Action', 'Fantasy', 'Romance', 'Supernatural', 'Ecchi', 'Action', 'Fantasy', 'Romance', 'Ecchi', 'Action', 'Comedy', 'Supernatural', 'Ecchi', 'Action', 'Adventure', 'Comedy', 'Supernatural', 'Action', 'Drama', 'Action', 'Comedy', 'Sports', 'Ecchi', 'Action', 'Comedy', 'Fantasy', 'Romance', 'Supernatural', 'Ecchi', 'Action', 'Supernatural', 'Action', 'Action', 'Adventure', 'Comedy', 'Fantasy', 'Action', 'Adventure', 'Action', 'Romance', 'Sci-Fi', 'Ecchi', 'Action', 'Drama', 'Horror', 'Sci-Fi', 'Supernatural', 'Ecchi', 'Action', 'Comedy', 'Action', 'Drama', 'Mystery', 'Sci-Fi', 'Action', 'Sci-Fi', 'Action', 'Sci-Fi', 'Sports', 'Action', 'Adventure', 'Sci-Fi', 'Action', 'Horror', 'Mystery', 'Supernatural', 'Action', 'Adventure', 'Action', 'Horror', 'Mystery', 'Action', 'Adventure', 'Drama', 'Fantasy', 'Horror', 'Supernatural', 'Action', 'Adventure', 'Fantasy', 'Supernatural', 'Action', 'Drama', 'Suspense', 'Action', 'Fantasy', 'Ecchi', 'Action', 'Adventure', 'Drama', 'Fantasy', 'Mystery', 'Sci-Fi', 'Action', 'Comedy', 'Gourmet', 'Action', 'Adventure', 'Fantasy', 'Action', 'Supernatural', 'Action', 'Drama', 'Romance', 'Sci-Fi', 'Ecchi', 'Action', 'Comedy', 'Supernatural', 'Action', 'Supernatural', 'Ecchi', 'Action', 'Adventure', 'Comedy', 'Fantasy', 'Mystery', 'Action', 'Fantasy', 'Ecchi', 'Action', 'Adventure', 'Action', 'Adventure', 'Comedy', 'Supernatural', 'Action', 'Drama', 'Fantasy', 'Romance', 'Supernatural', 'Action', 'Fantasy', 'Supernatural', 'Action', 'Mystery', 'Supernatural', 'Suspense', 'Action', 'Sci-Fi', 'Action', 'Fantasy', 'Action', 'Supernatural', 'Action', 'Comedy', 'Romance', 'Action', 'Adventure', 'Fantasy', 'Action', 'Drama', 'Sports', 'Action', 'Fantasy', 'Action', 'Adventure', 'Action', 'Comedy', 'Drama', 'Action', 'Fantasy', 'Supernatural', 'Action', 'Comedy', 'Sci-Fi', 'Supernatural', 'Action', 'Fantasy', 'Supernatural', 'Action', 'Adventure', 'Action', 'Adventure', 'Fantasy', 'Romance', 'Action', 'Adventure', 'Action', 'Adventure', 'Fantasy', 'Action', 'Fantasy', 'Action', 'Sci-Fi', 'Action', 'Mystery', 'Supernatural', 'Action', 'Comedy', 'Action', 'Mystery', 'Suspense', 'Action', 'Fantasy', 'Romance', 'Supernatural', 'Ecchi', 'Action', 'Horror', 'Mystery', 'Action', 'Adventure', 'Fantasy', 'Action', 'Romance', 'Sci-Fi', 'Supernatural', 'Action', 'Fantasy', 'Romance', 'Supernatural', 'Action', 'Comedy', 'Action', 'Comedy', 'Sci-Fi', 'Action', 'Comedy', 'Sci-Fi', 'Supernatural', 'Action', 'Comedy', 'Fantasy', 'Action', 'Action', 'Adventure', 'Fantasy', 'Ecchi', 'Action', 'Drama', 'Sci-Fi', 'Action', 'Adventure', 'Slice of Life', 'Action', 'Horror', 'Mystery', 'Supernatural', 'Action', 'Comedy', 'Girls Love', 'Romance', 'Ecchi', 'Action', 'Sports', 'Action', 'Action', 'Drama', 'Fantasy', 'Romance', 'Action', 'Supernatural', 'Action', 'Adventure', 'Sci-Fi', 'Action', 'Adventure', 'Comedy', 'Fantasy', 'Action', 'Comedy', 'Supernatural', 'Action', 'Comedy', 'Sci-Fi', 'Action', 'Drama', 'Romance', 'Action', 'Ecchi', 'Action', 'Mystery', 'Supernatural', 'Action', 'Sci-Fi', 'Action', 'Drama', 'Sci-Fi', 'Action', 'Adventure', 'Fantasy', 'Supernatural', 'Action', 'Adventure', 'Fantasy', 'Action', 'Girls Love', 'Action', 'Supernatural', 'Action', 'Adventure', 'Comedy', 'Fantasy', 'Romance', 'Supernatural', 'Action', 'Action', 'Adventure', 'Comedy', 'Supernatural', 'Action', 'Comedy', 'Fantasy', 'Romance', 'Sci-Fi', 'Ecchi', 'Action', 'Action', 'Comedy', 'Fantasy', 'Action', 'Adventure', 'Mystery', 'Sci-Fi', 'Supernatural', 'Action', 'Fantasy', 'Supernatural', 'Action', 'Drama', 'Fantasy', 'Horror', 'Supernatural', 'Action', 'Mystery', 'Sci-Fi', 'Action', 'Sci-Fi', 'Action', 'Comedy', 'Drama', 'Supernatural', 'Action', 'Fantasy', 'Supernatural', 'Action', 'Supernatural', 'Action', 'Fantasy', 'Action', 'Adventure', 'Comedy', 'Supernatural', 'Action', 'Adventure', 'Comedy', 'Drama', 'Fantasy', 'Action', 'Adventure', 'Fantasy', 'Action', 'Drama', 'Fantasy', 'Action', 'Comedy', 'Ecchi', 'Action', 'Supernatural', 'Action', 'Supernatural', 'Ecchi', 'Action', 'Sci-Fi', 'Action', 'Drama', 'Fantasy', 'Romance', 'Supernatural', 'Action', 'Supernatural', 'Suspense', 'Action', 'Comedy', 'Fantasy', 'Romance', 'Supernatural', 'Ecchi', 'Action', 'Supernatural', 'Action', 'Sci-Fi', 'Suspense', 'Action', 'Comedy', 'Ecchi', 'Action', 'Drama', 'Romance', 'Supernatural', 'Action', 'Adventure', 'Comedy', 'Drama', 'Fantasy', 'Action', 'Adventure', 'Comedy', 'Supernatural', 'Action', 'Fantasy', 'Romance', 'Action', 'Fantasy', 'Supernatural', 'Action', 'Drama', 'Horror', 'Supernatural', 'Action', 'Fantasy', 'Supernatural', 'Action', 'Mystery', 'Romance', 'Supernatural', 'Suspense', 'Action', 'Fantasy', 'Action', 'Adventure', 'Fantasy', 'Supernatural', 'Action', 'Comedy', 'Mystery', 'Supernatural', 'Action', 'Sci-Fi', 'Action', 'Romance', 'Supernatural', 'Action', 'Drama', 'Mystery', 'Romance', 'Supernatural', 'Suspense', 'Action', 'Adventure', 'Fantasy', 'Romance', 'Supernatural', 'Action', 'Adventure', 'Comedy', 'Fantasy', 'Action', 'Comedy', 'Romance', 'Action', 'Sci-Fi', 'Action', 'Supernatural', 'Action', 'Action', 'Drama', 'Sci-Fi', 'Action', 'Comedy', 'Action', 'Comedy', 'Fantasy', 'Action', 'Drama', 'Horror', 'Sci-Fi', 'Action', 'Mystery', 'Sci-Fi', 'Action', 'Drama', 'Romance', 'Supernatural', 'Action', 'Drama', 'Fantasy', 'Action', 'Supernatural', 'Action', 'Adventure', 'Comedy', 'Drama', 'Fantasy', 'Action', 'Fantasy', 'Romance', 'Action', 'Horror', 'Mystery', 'Action', 'Sci-Fi', 'Supernatural', 'Action', 'Adventure', 'Comedy', 'Fantasy', 'Action', 'Adventure', 'Comedy', 'Supernatural', 'Action', 'Comedy', 'Sports', 'Action', 'Action', 'Comedy', 'Mystery', 'Action', 'Drama', 'Mystery', 'Supernatural', 'Suspense', 'Action', 'Fantasy', 'Action', 'Sci-Fi', 'Slice of Life', 'Action', 'Adventure', 'Comedy', 'Supernatural', 'Action', 'Adventure', 'Drama', 'Fantasy', 'Romance', 'Action', 'Drama', 'Sci-Fi', 'Action', 'Drama', 'Fantasy', 'Mystery', 'Romance', 'Action', 'Adventure', 'Comedy', 'Drama', 'Fantasy', 'Action', 'Comedy', 'Sci-Fi', 'Action', 'Fantasy', 'Action', 'Fantasy', 'Mystery', 'Sci-Fi', 'Action', 'Adventure', 'Comedy', 'Drama', 'Romance', 'Action', 'Adventure', 'Comedy', 'Fantasy', 'Action', 'Fantasy', 'Supernatural', 'Action', 'Adventure', 'Fantasy', 'Action', 'Adventure', 'Mystery', 'Action', 'Adventure', 'Fantasy', 'Sci-Fi', 'Action', 'Drama', 'Sci-Fi', 'Action', 'Comedy', 'Mystery', 'Supernatural', 'Action', 'Adventure', 'Fantasy', 'Action', 'Mystery', 'Supernatural', 'Suspense', 'Action', 'Adventure', 'Fantasy', 'Action', 'Fantasy', 'Action', 'Adventure', 'Fantasy', 'Supernatural', 'Action', 'Comedy', 'Romance', 'Supernatural', 'Action', 'Comedy', 'Drama', 'Action', 'Adventure', 'Comedy', 'Fantasy', 'Action', 'Romance', 'Supernatural', 'Action', 'Ecchi', 'Action', 'Sci-Fi', 'Action', 'Adventure', 'Fantasy', 'Action', 'Comedy', 'Fantasy', 'Action', 'Comedy', 'Supernatural', 'Ecchi', 'Action', 'Supernatural', 'Action', 'Adventure', 'Comedy', 'Fantasy', 'Romance', 'Action', 'Mystery', 'Romance', 'Supernatural', 'Suspense', 'Action', 'Adventure', 'Drama', 'Fantasy', 'Horror', 'Supernatural', 'Action', 'Comedy', 'Action', 'Adventure', 'Action', 'Sci-Fi', 'Action', 'Adventure', 'Fantasy', 'Action', 'Adventure', 'Drama', 'Fantasy', 'Action', 'Drama', 'Action', 'Drama', 'Sci-Fi', 'Action', 'Drama', 'Horror', 'Mystery', 'Supernatural', 'Action', 'Adventure', 'Comedy', 'Supernatural', 'Action', 'Adventure', 'Action', 'Mystery', 'Action', 'Comedy', 'Fantasy', 'Romance', 'Action', 'Comedy', 'Fantasy', 'Ecchi', 'Action', 'Adventure', 'Fantasy', 'Action', 'Adventure', 'Mystery', 'Supernatural', 'Action', 'Fantasy', 'Action', 'Adventure', 'Drama', 'Fantasy', 'Horror', 'Supernatural', 'Action', 'Sci-Fi', 'Action', 'Adventure', 'Fantasy', 'Action', 'Drama', 'Sci-Fi', 'Action', 'Comedy', 'Action', 'Adventure', 'Comedy', 'Fantasy', 'Action', 'Adventure', 'Comedy', 'Fantasy', 'Romance', 'Action', 'Adventure', 'Action', 'Comedy', 'Ecchi', 'Action', 'Fantasy', 'Action', 'Mystery', 'Romance', 'Supernatural', 'Suspense', 'Action', 'Fantasy', 'Supernatural', 'Action', 'Adventure', 'Action', 'Adventure', 'Fantasy', 'Romance', 'Supernatural', 'Action', 'Comedy', 'Fantasy', 'Action', 'Supernatural', 'Action', 'Comedy', 'Action', 'Drama', 'Action', 'Adventure', 'Slice of Life', 'Action', 'Drama', 'Sci-Fi', 'Action', 'Fantasy', 'Supernatural', 'Ecchi', 'Action', 'Fantasy', 'Sci-Fi', 'Action', 'Adventure', 'Action', 'Adventure', 'Fantasy', 'Supernatural', 'Action', 'Drama', 'Sci-Fi', 'Action', 'Adventure', 'Comedy', 'Drama', 'Fantasy', 'Action', 'Fantasy', 'Sci-Fi', 'Action', 'Comedy', 'Supernatural', 'Ecchi', 'Action', 'Girls Love', 'Horror', 'Sci-Fi', 'Supernatural', 'Action', 'Comedy', 'Mystery', 'Supernatural', 'Action', 'Sci-Fi', 'Action', 'Comedy', 'Ecchi', 'Action', 'Fantasy', 'Supernatural', 'Action', 'Drama', 'Sports', 'Action', 'Adventure', 'Fantasy', 'Action', 'Comedy', 'Sports', 'Action', 'Supernatural', 'Action', 'Comedy', 'Sci-Fi', 'Action', 'Adventure', 'Comedy', 'Fantasy', 'Action', 'Comedy', 'Supernatural', 'Ecchi', 'Action', 'Supernatural', 'Action', 'Action', 'Comedy', 'Fantasy', 'Supernatural', 'Action', 'Action', 'Romance', 'Supernatural', 'Action', 'Comedy', 'Action', 'Comedy', 'Mystery', 'Supernatural', 'Action', 'Comedy', 'Sci-Fi', 'Supernatural', 'Action', 'Comedy', 'Sci-Fi', 'Action', 'Comedy', 'Sports', 'Action', 'Adventure', 'Sci-Fi', 'Action', 'Adventure', 'Fantasy', 'Action', 'Comedy', 'Supernatural', 'Action', 'Sci-Fi', 'Supernatural', 'Action', 'Supernatural', 'Action', 'Adventure', 'Comedy', 'Fantasy', 'Action', 'Sci-Fi', 'Ecchi', 'Action', 'Adventure', 'Comedy', 'Drama', 'Fantasy', 'Action', 'Comedy', 'Drama', 'Fantasy', 'Supernatural', 'Action', 'Sci-Fi', 'Ecchi', 'Action', 'Horror', 'Mystery', 'Action', 'Fantasy', 'Sci-Fi', 'Action', 'Drama', 'Supernatural', 'Action', 'Action', 'Drama', 'Romance', 'Sci-Fi', 'Action', 'Drama', 'Supernatural', 'Action', 'Adventure', 'Comedy', 'Drama', 'Fantasy', 'Action', 'Sci-Fi', 'Action', 'Adventure', 'Comedy', 'Fantasy', 'Action', 'Comedy', 'Action', 'Drama', 'Romance', 'Sci-Fi', 'Action', 'Drama', 'Romance', 'Sci-Fi', 'Ecchi', 'Action', 'Drama', 'Sci-Fi', 'Sports', 'Action', 'Fantasy', 'Supernatural', 'Action', 'Drama', 'Fantasy', 'Sci-Fi', 'Action', 'Adventure', 'Comedy', 'Fantasy', 'Romance', 'Action', 'Action', 'Comedy', 'Sci-Fi', 'Action', 'Horror', 'Mystery', 'Romance', 'Supernatural', 'Action', 'Supernatural', 'Action', 'Adventure', 'Drama', 'Fantasy', 'Romance', 'Action', 'Comedy', 'Fantasy', 'Romance', 'Ecchi', 'Action', 'Drama', 'Horror', 'Sci-Fi', 'Supernatural', 'Ecchi', 'Action', 'Adventure', 'Action', 'Adventure', 'Drama', 'Sci-Fi', 'Action', 'Adventure', 'Drama', 'Fantasy', 'Horror', 'Supernatural', 'Action', 'Drama', 'Fantasy', 'Horror', 'Romance', 'Sci-Fi', 'Action', 'Comedy', 'Action', 'Adventure', 'Comedy', 'Fantasy', 'Action', 'Drama', 'Sci-Fi', 'Action', 'Adventure', 'Fantasy', 'Action', 'Comedy', 'Fantasy', 'Romance', 'Action', 'Fantasy', 'Supernatural', 'Suspense', 'Action', 'Drama', 'Sports', 'Action', 'Fantasy', 'Supernatural', 'Action', 'Comedy', 'Fantasy', 'Sci-Fi', 'Supernatural', 'Action', 'Adventure', 'Fantasy', 'Action', 'Comedy', 'Fantasy', 'Action', 'Adventure', 'Comedy', 'Drama', 'Fantasy', 'Action', 'Sci-Fi', 'Action', 'Sci-Fi', 'Action', 'Comedy', 'Action', 'Adventure', 'Comedy', 'Fantasy', 'Sci-Fi', 'Action', 'Adventure', 'Ecchi', 'Action', 'Adventure', 'Action', 'Romance', 'Sci-Fi', 'Action', 'Drama', 'Romance', 'Sports', 'Action', 'Comedy', 'Sci-Fi', 'Action', 'Adventure', 'Comedy', 'Sci-Fi', 'Action', 'Comedy', 'Supernatural', 'Action', 'Mystery', 'Supernatural', 'Action', 'Drama', 'Sci-Fi', 'Action', 'Adventure', 'Fantasy', 'Action', 'Adventure', 'Fantasy', 'Action', 'Mystery', 'Action', 'Comedy', 'Drama', 'Mystery', 'Romance', 'Suspense', 'Action', 'Adventure', 'Comedy', 'Action', 'Adventure', 'Comedy', 'Fantasy', 'Action', 'Sci-Fi', 'Action', 'Comedy', 'Sci-Fi', 'Ecchi', 'Action', 'Adventure', 'Fantasy', 'Action', 'Comedy', 'Romance', 'Supernatural', 'Ecchi', 'Action', 'Fantasy', 'Supernatural', 'Action', 'Ecchi', 'Action', 'Supernatural', 'Action', 'Horror', 'Supernatural', 'Action', 'Adventure', 'Fantasy', 'Romance', 'Action', 'Boys Love', 'Drama', 'Fantasy', 'Mystery', 'Romance', 'Supernatural', 'Action', 'Comedy', 'Fantasy', 'Action', 'Comedy', 'Supernatural', 'Ecchi', 'Action', 'Supernatural', 'Action', 'Fantasy', 'Supernatural', 'Action', 'Mystery', 'Supernatural', 'Action', 'Comedy', 'Ecchi', 'Action', 'Action', 'Adventure', 'Drama', 'Fantasy', 'Supernatural', 'Action', 'Adventure', 'Sci-Fi', 'Action', 'Adventure', 'Comedy', 'Fantasy', 'Sci-Fi', 'Action', 'Adventure', 'Fantasy', 'Supernatural', 'Action', 'Adventure', 'Fantasy', 'Action', 'Horror', 'Sci-Fi', 'Action', 'Adventure', 'Comedy', 'Fantasy', 'Sci-Fi', 'Action', 'Action', 'Adventure', 'Fantasy', 'Action', 'Comedy', 'Supernatural', 'Ecchi', 'Action', 'Sci-Fi', 'Action', 'Romance', 'Action', 'Supernatural', 'Ecchi', 'Action', 'Fantasy', 'Action', 'Comedy', 'Fantasy', 'Slice of Life', 'Action', 'Action', 'Comedy', 'Action', 'Comedy', 'Fantasy', 'Romance', 'Supernatural', 'Ecchi', 'Action', 'Romance', 'Sports', 'Ecchi', 'Action', 'Fantasy', 'Supernatural', 'Action', 'Adventure', 'Comedy', 'Drama', 'Sci-Fi', 'Action', 'Adventure', 'Comedy', 'Sci-Fi', 'Ecchi', 'Action', 'Adventure', 'Comedy', 'Fantasy', 'Action', 'Drama', 'Horror', 'Romance', 'Sci-Fi', 'Supernatural', 'Action', 'Comedy', 'Ecchi', 'Action', 'Adventure', 'Action', 'Drama', 'Fantasy', 'Action', 'Action', 'Fantasy', 'Girls Love', 'Ecchi', 'Action', 'Adventure', 'Comedy', 'Supernatural', 'Action', 'Avant Garde', 'Comedy', 'Sci-Fi', 'Action', 'Adventure', 'Comedy', 'Fantasy', 'Sci-Fi', 'Action', 'Comedy', 'Action', 'Sci-Fi', 'Action', 'Adventure', 'Fantasy', 'Action', 'Comedy', 'Action', 'Adventure', 'Comedy', 'Fantasy', 'Action', 'Fantasy', 'Sci-Fi', 'Action', 'Supernatural', 'Action', 'Adventure', 'Comedy', 'Drama', 'Fantasy', 'Action', 'Drama', 'Sci-Fi', 'Action', 'Fantasy', 'Supernatural', 'Action', 'Comedy', 'Fantasy', 'Action', 'Adventure', 'Comedy', 'Fantasy', 'Action', 'Action', 'Horror', 'Supernatural', 'Action', 'Adventure', 'Drama', 'Supernatural', 'Action', 'Sci-Fi', 'Action', 'Adventure', 'Fantasy', 'Action', 'Adventure', 'Action', 'Comedy', 'Drama', 'Mystery', 'Supernatural', 'Action', 'Comedy', 'Supernatural', 'Action', 'Adventure', 'Comedy', 'Fantasy', 'Gourmet', 'Action', 'Drama', 'Sci-Fi', 'Action', 'Drama', 'Sports', 'Action', 'Adventure', 'Action', 'Comedy', 'Romance', 'Ecchi', 'Action', 'Comedy', 'Drama', 'Action', 'Action', 'Adventure', 'Comedy', 'Fantasy', 'Sci-Fi', 'Action', 'Adventure', 'Drama', 'Fantasy', 'Mystery', 'Romance', 'Supernatural', 'Action', 'Comedy', 'Sci-Fi', 'Ecchi', 'Action', 'Action', 'Adventure', 'Comedy', 'Fantasy', 'Sci-Fi', 'Action', 'Sci-Fi', 'Action', 'Comedy', 'Fantasy', 'Action', 'Adventure', 'Comedy', 'Fantasy', 'Action', 'Drama', 'Mystery', 'Romance', 'Sci-Fi', 'Action', 'Fantasy', 'Action', 'Comedy', 'Fantasy', 'Action', 'Drama', 'Fantasy', 'Action', 'Action', 'Comedy', 'Drama', 'Fantasy', 'Girls Love', 'Romance', 'Action', 'Adventure', 'Comedy', 'Drama', 'Supernatural', 'Action', 'Comedy', 'Romance', 'Action', 'Adventure', 'Comedy', 'Fantasy', 'Sci-Fi', 'Action', 'Comedy', 'Drama', 'Sci-Fi', 'Action', 'Romance', 'Sci-Fi', 'Action', 'Fantasy', 'Romance', 'Ecchi', 'Action', 'Adventure', 'Fantasy', 'Action', 'Drama', 'Action', 'Comedy', 'Supernatural', 'Ecchi', 'Action', 'Adventure', 'Comedy', 'Drama', 'Action', 'Adventure', 'Comedy', 'Fantasy', 'Sci-Fi', 'Action', 'Fantasy', 'Supernatural', 'Action', 'Adventure', 'Comedy', 'Supernatural', 'Action', 'Romance', 'Action', 'Adventure', 'Comedy', 'Fantasy', 'Action', 'Sci-Fi', 'Action', 'Sci-Fi', 'Action', 'Mystery', 'Supernatural', 'Action', 'Supernatural', 'Action', 'Fantasy', 'Sci-Fi', 'Action', 'Supernatural', 'Action', 'Adventure', 'Comedy', 'Fantasy', 'Sci-Fi', 'Action', 'Fantasy', 'Supernatural', 'Action', 'Adventure', 'Fantasy', 'Action', 'Fantasy', 'Action', 'Adventure', 'Fantasy', 'Sci-Fi', 'Action', 'Fantasy', 'Romance', 'Action', 'Fantasy', 'Supernatural', 'Action', 'Comedy', 'Fantasy', 'Action', 'Drama', 'Mystery', 'Supernatural', 'Action', 'Fantasy', 'Sci-Fi', 'Action', 'Mystery', 'Action', 'Sci-Fi', 'Action', 'Adventure', 'Fantasy', 'Action', 'Mystery', 'Action', 'Comedy', 'Fantasy', 'Romance', 'Supernatural', 'Action', 'Drama', 'Sci-Fi', 'Action', 'Drama', 'Sci-Fi', 'Action', 'Adventure', 'Drama', 'Mystery', 'Action', 'Adventure', 'Drama', 'Fantasy', 'Action', 'Fantasy', 'Romance', 'Supernatural', 'Action', 'Action', 'Drama', 'Mystery', 'Action', 'Adventure', 'Fantasy', 'Romance', 'Action', 'Adventure', 'Comedy', 'Supernatural', 'Action', 'Fantasy', 'Action', 'Adventure', 'Comedy', 'Fantasy', 'Supernatural', 'Action', 'Comedy', 'Drama', 'Fantasy', 'Romance', 'Sci-Fi', 'Action', 'Comedy', 'Supernatural', 'Action', 'Drama', 'Fantasy', 'Horror', 'Supernatural', 'Action', 'Drama', 'Fantasy', 'Action', 'Comedy', 'Slice of Life', 'Supernatural', 'Action', 'Comedy', 'Supernatural', 'Ecchi', 'Action', 'Adventure', 'Comedy', 'Fantasy', 'Sci-Fi', 'Action', 'Adventure', 'Comedy', 'Fantasy', 'Sci-Fi', 'Action', 'Comedy', 'Drama', 'Action', 'Adventure', 'Comedy', 'Fantasy', 'Sci-Fi', 'Action', 'Adventure', 'Comedy', 'Sports', 'Action', 'Sci-Fi', 'Supernatural', 'Action', 'Drama', 'Fantasy', 'Action', 'Adventure', 'Comedy', 'Fantasy', 'Action', 'Adventure', 'Comedy', 'Mystery', 'Action', 'Fantasy', 'Supernatural', 'Ecchi', 'Action', 'Comedy', 'Sci-Fi', 'Supernatural', 'Action', 'Comedy', 'Fantasy', 'Supernatural', 'Action', 'Adventure', 'Comedy', 'Drama', 'Fantasy', 'Action', 'Drama', 'Romance', 'Sci-Fi', 'Action', 'Adventure', 'Supernatural', 'Action', 'Drama', 'Fantasy', 'Action', 'Adventure', 'Fantasy', 'Action', 'Supernatural', 'Action', 'Action', 'Comedy', 'Action', 'Comedy', 'Drama', 'Action', 'Adventure', 'Fantasy', 'Action', 'Action', 'Adventure', 'Supernatural', 'Action', 'Sci-Fi', 'Action', 'Supernatural', 'Action', 'Action', 'Sci-Fi', 'Action', 'Sci-Fi', 'Action', 'Action', 'Sports', 'Action', 'Adventure', 'Comedy', 'Drama', 'Fantasy', 'Romance', 'Supernatural', 'Action', 'Comedy', 'Action', 'Comedy', 'Mystery', 'Supernatural', 'Action', 'Romance', 'Sci-Fi', 'Action', 'Fantasy', 'Supernatural', 'Action', 'Comedy', 'Action', 'Drama', 'Sci-Fi', 'Action', 'Sci-Fi', 'Action', 'Action', 'Action', 'Drama', 'Sci-Fi', 'Action', 'Girls Love', 'Action', 'Adventure', 'Action', 'Adventure', 'Comedy', 'Drama', 'Fantasy', 'Romance', 'Supernatural', 'Action', 'Comedy', 'Ecchi', 'Action', 'Adventure', 'Drama', 'Sci-Fi', 'Action', 'Adventure', 'Comedy', 'Drama', 'Fantasy', 'Romance', 'Supernatural', 'Action', 'Fantasy', 'Action', 'Drama', 'Mystery', 'Supernatural', 'Action', 'Sci-Fi', 'Action', 'Comedy', 'Action', 'Drama', 'Horror', 'Romance', 'Sci-Fi', 'Action', 'Adventure', 'Drama', 'Fantasy', 'Romance', 'Action', 'Sci-Fi', 'Action', 'Adventure', 'Comedy', 'Mystery', 'Action', 'Comedy', 'Sci-Fi', 'Action', 'Action', 'Horror', 'Mystery', 'Action', 'Fantasy', 'Action', 'Fantasy', 'Action', 'Drama', 'Sci-Fi', 'Action', 'Adventure', 'Fantasy', 'Ecchi', 'Action', 'Adventure', 'Fantasy', 'Action', 'Comedy', 'Fantasy', 'Ecchi', 'Action', 'Horror', 'Supernatural', 'Action', 'Adventure', 'Comedy', 'Fantasy', 'Action', 'Action', 'Sci-Fi', 'Action', 'Adventure', 'Comedy', 'Fantasy', 'Romance', 'Action', 'Sports', 'Action', 'Fantasy', 'Action', 'Horror', 'Supernatural', 'Action', 'Drama', 'Horror', 'Sci-Fi', 'Supernatural', 'Ecchi', 'Action', 'Adventure', 'Comedy', 'Drama', 'Fantasy', 'Romance', 'Supernatural', 'Action', 'Fantasy', 'Supernatural', 'Ecchi', 'Action', 'Adventure', 'Slice of Life', 'Action', 'Avant Garde', 'Comedy', 'Sci-Fi', 'Action', 'Drama', 'Horror', 'Sci-Fi', 'Action', 'Comedy', 'Girls Love', 'Action', 'Mystery', 'Sci-Fi', 'Action', 'Fantasy', 'Action', 'Sci-Fi', 'Action', 'Sci-Fi', 'Action', 'Supernatural', 'Action', 'Adventure', 'Comedy', 'Fantasy', 'Action', 'Drama', 'Fantasy', 'Mystery', 'Sci-Fi', 'Supernatural', 'Action', 'Fantasy', 'Ecchi', 'Action', 'Adventure', 'Comedy', 'Action', 'Boys Love', 'Sci-Fi', 'Action', 'Fantasy', 'Supernatural', 'Action', 'Comedy', 'Drama', 'Sci-Fi', 'Action', 'Fantasy', 'Action', 'Drama', 'Supernatural', 'Action', 'Comedy', 'Action', 'Adventure', 'Comedy', 'Supernatural', 'Action', 'Drama', 'Fantasy', 'Romance', 'Supernatural', 'Action', 'Drama', 'Fantasy', 'Horror', 'Supernatural', 'Action', 'Sci-Fi', 'Action', 'Fantasy', 'Action', 'Sci-Fi', 'Action', 'Comedy', 'Fantasy', 'Action', 'Sci-Fi', 'Ecchi', 'Action', 'Sci-Fi', 'Ecchi', 'Action', 'Comedy', 'Supernatural', 'Ecchi', 'Action', 'Sci-Fi', 'Action', 'Fantasy', 'Sci-Fi', 'Action', 'Adventure', 'Drama', 'Sci-Fi', 'Action', 'Sci-Fi', 'Action', 'Boys Love', 'Comedy', 'Supernatural', 'Action', 'Adventure', 'Fantasy', 'Action', 'Action', 'Sci-Fi', 'Action', 'Action', 'Adventure', 'Comedy', 'Fantasy', 'Action', 'Mystery', 'Supernatural', 'Action', 'Comedy', 'Fantasy', 'Action', 'Adventure', 'Drama', 'Fantasy', 'Action', 'Adventure', 'Fantasy', 'Action', 'Drama', 'Fantasy', 'Romance', 'Action', 'Fantasy', 'Romance', 'Ecchi', 'Action', 'Sports', 'Action', 'Adventure', 'Drama', 'Supernatural', 'Action', 'Adventure', 'Comedy', 'Drama', 'Fantasy', 'Action', 'Adventure', 'Fantasy', 'Action', 'Adventure', 'Comedy', 'Drama', 'Action', 'Adventure', 'Comedy', 'Fantasy', 'Sci-Fi', 'Action', 'Sci-Fi', 'Action', 'Comedy', 'Drama', 'Fantasy', 'Slice of Life', 'Action', 'Action', 'Mystery', 'Supernatural', 'Suspense', 'Action', 'Comedy', 'Horror', 'Supernatural', 'Action', 'Comedy', 'Romance', 'Ecchi', 'Action', 'Fantasy', 'Supernatural', 'Action', 'Comedy', 'Slice of Life', 'Supernatural', 'Action', 'Adventure', 'Drama', 'Sci-Fi', 'Action', 'Sci-Fi', 'Action', 'Adventure', 'Comedy', 'Fantasy', 'Action', 'Horror', 'Supernatural', 'Action', 'Comedy', 'Sci-Fi', 'Ecchi', 'Action', 'Comedy', 'Action', 'Ecchi', 'Action', 'Drama', 'Action', 'Sci-Fi', 'Action', 'Horror', 'Sci-Fi', 'Supernatural', 'Action', 'Action', 'Comedy', 'Drama', 'Action', 'Romance', 'Sci-Fi', 'Supernatural', 'Action', 'Drama', 'Sci-Fi', 'Action', 'Drama', 'Supernatural', 'Action', 'Sci-Fi', 'Action', 'Drama', 'Fantasy', 'Romance', 'Sci-Fi', 'Action', 'Comedy', 'Slice of Life', 'Supernatural', 'Action', 'Drama', 'Action', 'Fantasy', 'Action', 'Comedy', 'Fantasy', 'Sports', 'Action', 'Drama', 'Sci-Fi', 'Action', 'Adventure', 'Drama', 'Sci-Fi', 'Action', 'Drama', 'Sci-Fi', 'Action', 'Sci-Fi', 'Supernatural', 'Action', 'Comedy', 'Fantasy', 'Action', 'Horror', 'Mystery', 'Supernatural', 'Action', 'Sci-Fi', 'Action', 'Drama', 'Slice of Life', 'Sports', 'Action', 'Comedy', 'Drama', 'Sci-Fi', 'Action', 'Fantasy', 'Romance', 'Ecchi', 'Action', 'Sci-Fi', 'Action', 'Action', 'Romance', 'Sci-Fi', 'Action', 'Fantasy', 'Action', 'Drama', 'Sci-Fi', 'Action', 'Adventure', 'Comedy', 'Drama', 'Fantasy', 'Action', 'Supernatural', 'Action', 'Sci-Fi', 'Action', 'Adventure', 'Comedy', 'Fantasy', 'Action', 'Fantasy', 'Supernatural', 'Action', 'Adventure', 'Comedy', 'Fantasy', 'Action', 'Sci-Fi', 'Action', 'Adventure', 'Fantasy', 'Action', 'Sci-Fi', 'Action', 'Fantasy', 'Supernatural', 'Action', 'Action', 'Comedy', 'Action', 'Adventure', 'Drama', 'Mystery', 'Sci-Fi', 'Action', 'Comedy', 'Romance', 'Action', 'Drama', 'Sci-Fi', 'Action', 'Action', 'Adventure', 'Action', 'Sci-Fi', 'Action', 'Comedy', 'Ecchi', 'Action', 'Adventure', 'Supernatural', 'Action', 'Adventure', 'Comedy', 'Drama', 'Action', 'Sci-Fi', 'Action', 'Drama', 'Fantasy', 'Mystery', 'Action', 'Horror', 'Romance', 'Supernatural', 'Action', 'Adventure', 'Comedy', 'Fantasy', 'Action', 'Adventure', 'Comedy', 'Drama', 'Romance', 'Sci-Fi', 'Action', 'Comedy', 'Sci-Fi', 'Action', 'Adventure', 'Fantasy', 'Supernatural', 'Action', 'Adventure', 'Comedy', 'Fantasy', 'Action', 'Romance', 'Sci-Fi', 'Action', 'Action', 'Adventure', 'Comedy', 'Drama', 'Sci-Fi', 'Action', 'Comedy', 'Mystery', 'Action', 'Mystery', 'Sci-Fi', 'Suspense', 'Action', 'Fantasy', 'Action', 'Adventure', 'Drama', 'Supernatural', 'Action', 'Action', 'Sci-Fi', 'Action', 'Action', 'Romance', 'Sci-Fi', 'Action', 'Fantasy', 'Supernatural', 'Ecchi', 'Action', 'Sci-Fi', 'Ecchi', 'Action', 'Adventure', 'Drama', 'Fantasy', 'Sci-Fi', 'Action', 'Adventure', 'Supernatural', 'Action', 'Comedy', 'Ecchi', 'Action', 'Fantasy', 'Supernatural', 'Action', 'Action', 'Sci-Fi', 'Action', 'Fantasy', 'Supernatural', 'Action', 'Sci-Fi', 'Action', 'Sports', 'Action', 'Comedy', 'Sports', 'Ecchi', 'Action', 'Adventure', 'Fantasy', 'Action', 'Comedy', 'Action', 'Sci-Fi', 'Action', 'Comedy', 'Fantasy', 'Action', 'Fantasy', 'Sci-Fi', 'Action', 'Comedy', 'Action', 'Comedy', 'Sci-Fi', 'Action', 'Adventure', 'Mystery', 'Sci-Fi', 'Action', 'Comedy', 'Drama', 'Action', 'Drama', 'Supernatural', 'Action', 'Mystery', 'Supernatural', 'Action', 'Fantasy', 'Horror', 'Action', 'Supernatural', 'Action', 'Fantasy', 'Supernatural', 'Action', 'Fantasy', 'Action', 'Sci-Fi', 'Action', 'Adventure', 'Action', 'Adventure', 'Comedy', 'Sci-Fi', 'Sports', 'Action', 'Comedy', 'Fantasy', 'Action', 'Fantasy', 'Supernatural', 'Action', 'Supernatural', 'Action', 'Supernatural', 'Action', 'Comedy', 'Romance', 'Action', 'Adventure', 'Action', 'Adventure', 'Comedy', 'Drama', 'Fantasy', 'Action', 'Adventure', 'Drama', 'Fantasy', 'Mystery', 'Action', 'Fantasy', 'Action', 'Fantasy', 'Supernatural', 'Action', 'Ecchi', 'Action', 'Adventure', 'Comedy', 'Mystery', 'Action', 'Fantasy', 'Action', 'Adventure', 'Comedy', 'Drama', 'Fantasy', 'Action', 'Adventure', 'Drama', 'Fantasy', 'Mystery', 'Romance', 'Supernatural', 'Action', 'Action', 'Fantasy', 'Supernatural', 'Action', 'Adventure', 'Comedy', 'Fantasy', 'Action', 'Adventure', 'Drama', 'Fantasy', 'Action', 'Adventure', 'Comedy', 'Fantasy', 'Action', 'Comedy', 'Drama', 'Action', 'Adventure', 'Fantasy', 'Action', 'Adventure', 'Action', 'Supernatural', 'Action', 'Action', 'Adventure', 'Fantasy', 'Supernatural', 'Action', 'Comedy', 'Gourmet', 'Action', 'Fantasy', 'Action', 'Adventure', 'Horror', 'Action', 'Drama', 'Sci-Fi', 'Action', 'Fantasy', 'Action', 'Drama', 'Sci-Fi', 'Action', 'Fantasy', 'Supernatural', 'Action', 'Adventure', 'Comedy', 'Fantasy', 'Action', 'Sports', 'Action', 'Comedy', 'Girls Love', 'Ecchi', 'Action', 'Sci-Fi', 'Action', 'Adventure', 'Fantasy', 'Action', 'Sci-Fi', 'Action', 'Adventure', 'Comedy', 'Fantasy', 'Action', 'Boys Love', 'Supernatural', 'Action', 'Fantasy', 'Action', 'Fantasy', 'Supernatural', 'Action', 'Drama', 'Sci-Fi', 'Action', 'Comedy', 'Supernatural', 'Action', 'Fantasy', 'Action', 'Comedy', 'Sports', 'Action', 'Adventure', 'Sci-Fi', 'Action', 'Drama', 'Supernatural', 'Action', 'Fantasy', 'Action', 'Adventure', 'Fantasy', 'Action', 'Adventure', 'Comedy', 'Fantasy', 'Action', 'Adventure', 'Comedy', 'Ecchi', 'Action', 'Drama', 'Mystery', 'Sci-Fi', 'Action', 'Adventure', 'Fantasy', 'Action', 'Adventure', 'Fantasy', 'Action', 'Adventure', 'Drama', 'Action', 'Adventure', 'Comedy', 'Fantasy', 'Sci-Fi', 'Action', 'Comedy', 'Fantasy', 'Action', 'Comedy', 'Sci-Fi', 'Action', 'Comedy', 'Action', 'Drama', 'Sci-Fi', 'Action', 'Fantasy', 'Supernatural', 'Action', 'Fantasy', 'Action', 'Fantasy', 'Action', 'Comedy', 'Mystery', 'Romance', 'Action', 'Sci-Fi', 'Action', 'Sci-Fi', 'Ecchi', 'Action', 'Action', 'Drama', 'Supernatural', 'Action', 'Ecchi', 'Action', 'Sci-Fi', 'Action', 'Drama', 'Action', 'Mystery', 'Sci-Fi', 'Action', 'Adventure', 'Sci-Fi', 'Action', 'Comedy', 'Fantasy', 'Action', 'Fantasy', 'Action', 'Adventure', 'Comedy', 'Fantasy', 'Sci-Fi', 'Action', 'Adventure', 'Comedy', 'Ecchi', 'Action', 'Sci-Fi', 'Action', 'Fantasy', 'Supernatural', 'Action', 'Comedy', 'Action', 'Adventure', 'Sci-Fi', 'Action', 'Adventure', 'Comedy', 'Drama', 'Action', 'Drama', 'Fantasy', 'Action', 'Mystery', 'Action', 'Comedy', 'Fantasy', 'Supernatural', 'Action', 'Adventure', 'Sci-Fi', 'Action', 'Adventure', 'Comedy', 'Drama', 'Fantasy', 'Action', 'Drama', 'Fantasy', 'Sci-Fi', 'Action', 'Sci-Fi', 'Supernatural', 'Action', 'Comedy', 'Sci-Fi', 'Action', 'Sci-Fi', 'Ecchi', 'Action', 'Sci-Fi', 'Suspense', 'Action', 'Comedy', 'Drama', 'Action', 'Adventure', 'Fantasy', 'Action', 'Adventure', 'Comedy', 'Drama', 'Supernatural', 'Action', 'Fantasy', 'Supernatural', 'Action', 'Adventure', 'Comedy', 'Fantasy', 'Action', 'Adventure', 'Comedy', 'Fantasy', 'Sci-Fi', 'Action', 'Adventure', 'Fantasy', 'Ecchi', 'Action', 'Drama', 'Sci-Fi', 'Action', 'Sports', 'Action', 'Mystery', 'Supernatural', 'Action', 'Adventure', 'Comedy', 'Fantasy', 'Action', 'Comedy', 'Sci-Fi', 'Supernatural', 'Action', 'Adventure', 'Fantasy', 'Action', 'Mystery', 'Action', 'Adventure', 'Action', 'Sports', 'Ecchi', 'Action', 'Comedy', 'Sci-Fi', 'Action', 'Comedy', 'Romance', 'Sci-Fi', 'Action', 'Mystery', 'Supernatural', 'Action', 'Adventure', 'Supernatural', 'Action', 'Sci-Fi', 'Action', 'Action', 'Adventure', 'Comedy', 'Fantasy', 'Action', 'Adventure', 'Fantasy', 'Ecchi', 'Action', 'Adventure', 'Fantasy', 'Action', 'Comedy', 'Action', 'Comedy', 'Action', 'Fantasy', 'Sci-Fi', 'Action', 'Adventure', 'Fantasy', 'Action', 'Adventure', 'Comedy', 'Fantasy', 'Action', 'Comedy', 'Drama', 'Mystery', 'Supernatural', 'Action', 'Romance', 'Sci-Fi', 'Action', 'Comedy', 'Sci-Fi', 'Action', 'Adventure', 'Comedy', 'Action', 'Drama', 'Romance', 'Supernatural', 'Action', 'Fantasy', 'Action', 'Mystery', 'Action', 'Fantasy', 'Supernatural', 'Action', 'Comedy', 'Drama', 'Mystery', 'Romance', 'Action', 'Drama', 'Sci-Fi', 'Action', 'Adventure', 'Comedy', 'Drama', 'Fantasy', 'Romance', 'Ecchi', 'Action', 'Adventure', 'Fantasy', 'Action', 'Adventure', 'Comedy', 'Sci-Fi', 'Action', 'Ecchi', 'Action', 'Adventure', 'Comedy', 'Action', 'Comedy', 'Action', 'Drama', 'Action', 'Drama', 'Sci-Fi', 'Action', 'Sci-Fi', 'Action', 'Action', 'Adventure', 'Fantasy', 'Ecchi', 'Action', 'Adventure', 'Comedy', 'Fantasy', 'Action', 'Adventure', 'Comedy', 'Drama', 'Action', 'Adventure', 'Fantasy', 'Sci-Fi', 'Action', 'Drama', 'Sci-Fi', 'Action', 'Adventure', 'Fantasy', 'Action', 'Comedy', 'Fantasy', 'Action', 'Action', 'Supernatural', 'Suspense', 'Action', 'Fantasy', 'Action', 'Adventure', 'Fantasy', 'Supernatural', 'Action', 'Adventure', 'Drama', 'Fantasy', 'Action', 'Drama', 'Sci-Fi', 'Action', 'Fantasy', 'Supernatural', 'Action', 'Adventure', 'Comedy', 'Sci-Fi', 'Sports', 'Action', 'Drama', 'Supernatural', 'Action', 'Adventure', 'Fantasy', 'Action', 'Adventure', 'Comedy', 'Fantasy', 'Action', 'Sci-Fi', 'Action', 'Adventure', 'Comedy', 'Fantasy', 'Action', 'Fantasy', 'Romance', 'Action', 'Comedy', 'Sci-Fi', 'Action', 'Sci-Fi', 'Ecchi', 'Action', 'Comedy', 'Supernatural', 'Action', 'Mystery', 'Romance', 'Suspense', 'Action', 'Adventure', 'Fantasy', 'Romance', 'Action', 'Comedy', 'Ecchi', 'Action', 'Comedy', 'Horror', 'Mystery', 'Supernatural', 'Action', 'Adventure', 'Fantasy', 'Action', 'Action', 'Action', 'Adventure', 'Fantasy', 'Action', 'Comedy', 'Sci-Fi', 'Ecchi', 'Action', 'Horror', 'Mystery', 'Supernatural', 'Action', 'Drama', 'Sports', 'Action', 'Adventure', 'Sci-Fi', 'Action', 'Comedy', 'Sports', 'Action', 'Fantasy', 'Action', 'Action', 'Comedy', 'Fantasy', 'Sci-Fi', 'Action', 'Sci-Fi', 'Action', 'Adventure', 'Comedy', 'Fantasy', 'Action', 'Horror', 'Mystery', 'Supernatural', 'Action', 'Adventure', 'Comedy', 'Drama', 'Fantasy', 'Action', 'Adventure', 'Comedy', 'Drama', 'Sci-Fi', 'Action', 'Comedy', 'Fantasy', 'Action', 'Supernatural', 'Action', 'Fantasy', 'Supernatural', 'Action', 'Sci-Fi', 'Action', 'Action', 'Fantasy', 'Action', 'Romance', 'Sci-Fi', 'Action', 'Adventure', 'Action', 'Adventure', 'Comedy', 'Sci-Fi', 'Action', 'Adventure', 'Drama', 'Romance', 'Sci-Fi', 'Action', 'Comedy', 'Fantasy', 'Action', 'Comedy', 'Action', 'Adventure', 'Drama', 'Horror', 'Action', 'Adventure', 'Comedy', 'Fantasy', 'Action', 'Adventure', 'Fantasy', 'Supernatural', 'Action', 'Adventure', 'Comedy', 'Fantasy', 'Action', 'Fantasy', 'Supernatural', 'Action', 'Adventure', 'Comedy', 'Fantasy', 'Action', 'Adventure', 'Comedy', 'Drama', 'Action', 'Fantasy', 'Action', 'Adventure', 'Fantasy', 'Action', 'Adventure', 'Fantasy', 'Action', 'Comedy', 'Action', 'Sci-Fi', 'Action', 'Fantasy', 'Romance', 'Supernatural', 'Action', 'Adventure', 'Fantasy', 'Action', 'Drama', 'Fantasy', 'Horror', 'Supernatural', 'Action', 'Adventure', 'Comedy', 'Fantasy', 'Action', 'Sci-Fi', 'Ecchi', 'Action', 'Comedy', 'Fantasy', 'Horror', 'Action', 'Horror', 'Supernatural', 'Action', 'Adventure', 'Fantasy', 'Sci-Fi', 'Action', 'Fantasy', 'Action', 'Comedy', 'Ecchi', 'Action', 'Comedy', 'Romance', 'Sci-Fi', 'Ecchi', 'Action', 'Adventure', 'Comedy', 'Fantasy', 'Action', 'Action', 'Comedy', 'Drama', 'Action', 'Drama', 'Fantasy', 'Horror', 'Supernatural', 'Action', 'Adventure', 'Comedy', 'Fantasy', 'Action', 'Fantasy', 'Sci-Fi', 'Action', 'Drama', 'Sci-Fi', 'Action', 'Adventure', 'Sci-Fi', 'Action', 'Action', 'Action', 'Supernatural', 'Action', 'Adventure', 'Fantasy', 'Ecchi', 'Action', 'Adventure', 'Sci-Fi', 'Action', 'Adventure', 'Comedy', 'Fantasy', 'Action', 'Drama', 'Sci-Fi', 'Action', 'Drama', 'Slice of Life', 'Sports', 'Action', 'Boys Love', 'Comedy', 'Supernatural', 'Action', 'Sci-Fi', 'Action', 'Action', 'Comedy', 'Sci-Fi', 'Action', 'Drama', 'Sci-Fi', 'Action', 'Adventure', 'Drama', 'Suspense', 'Action', 'Sci-Fi', 'Action', 'Drama', 'Action', 'Mystery', 'Sci-Fi', 'Action', 'Adventure', 'Action', 'Comedy', 'Sci-Fi', 'Action', 'Fantasy', 'Romance', 'Action', 'Fantasy', 'Action', 'Action', 'Sci-Fi', 'Action', 'Comedy', 'Girls Love', 'Ecchi', 'Action', 'Comedy', 'Mystery', 'Supernatural', 'Action', 'Comedy', 'Romance', 'Action', 'Comedy', 'Fantasy', 'Supernatural', 'Action', 'Fantasy', 'Supernatural', 'Action', 'Drama', 'Sci-Fi', 'Action', 'Fantasy', 'Action', 'Comedy', 'Supernatural', 'Action', 'Adventure', 'Comedy', 'Drama', 'Supernatural', 'Action', 'Sci-Fi', 'Action', 'Mystery', 'Sci-Fi', 'Supernatural', 'Action', 'Mystery', 'Action', 'Adventure', 'Comedy', 'Mystery', 'Action', 'Fantasy', 'Supernatural', 'Action', 'Adventure', 'Fantasy', 'Romance', 'Action', 'Adventure', 'Comedy', 'Fantasy', 'Action', 'Fantasy', 'Action', 'Adventure', 'Comedy', 'Fantasy', 'Action', 'Sci-Fi', 'Supernatural', 'Action', 'Sci-Fi', 'Slice of Life', 'Action', 'Comedy', 'Supernatural', 'Action', 'Comedy', 'Ecchi', 'Action', 'Drama', 'Sci-Fi', 'Action', 'Comedy', 'Action', 'Comedy', 'Fantasy', 'Action', 'Avant Garde', 'Fantasy', 'Sci-Fi', 'Supernatural', 'Ecchi', 'Action', 'Romance', 'Ecchi', 'Action', 'Drama', 'Horror', 'Action', 'Action', 'Comedy', 'Sci-Fi', 'Action', 'Sci-Fi', 'Slice of Life', 'Action', 'Adventure', 'Sci-Fi', 'Action', 'Avant Garde', 'Comedy', 'Supernatural', 'Ecchi', 'Action', 'Adventure', 'Comedy', 'Sci-Fi', 'Action', 'Fantasy', 'Action', 'Adventure', 'Fantasy', 'Sci-Fi', 'Action', 'Fantasy', 'Supernatural', 'Ecchi', 'Action', 'Adventure', 'Comedy', 'Fantasy', 'Action', 'Adventure', 'Fantasy', 'Action', 'Horror', 'Sci-Fi', 'Action', 'Comedy', 'Sports', 'Action', 'Sci-Fi', 'Supernatural', 'Action', 'Drama', 'Fantasy', 'Horror', 'Mystery', 'Action', 'Fantasy', 'Sci-Fi', 'Action', 'Fantasy', 'Ecchi', 'Action', 'Mystery', 'Action', 'Comedy', 'Action', 'Mystery', 'Action', 'Avant Garde', 'Fantasy', 'Romance', 'Sci-Fi', 'Action', 'Sci-Fi', 'Action', 'Drama', 'Fantasy', 'Horror', 'Sci-Fi', 'Supernatural', 'Action', 'Mystery', 'Action', 'Fantasy', 'Sci-Fi', 'Action', 'Comedy', 'Sci-Fi', 'Action', 'Adventure', 'Comedy', 'Fantasy', 'Action', 'Sci-Fi', 'Action', 'Sci-Fi', 'Supernatural', 'Action', 'Adventure', 'Fantasy', 'Sci-Fi', 'Action', 'Drama', 'Romance', 'Sci-Fi', 'Action', 'Horror', 'Sci-Fi', 'Action', 'Sci-Fi', 'Action', 'Fantasy', 'Action', 'Fantasy', 'Action', 'Comedy', 'Action', 'Drama', 'Action', 'Drama', 'Fantasy', 'Mystery', 'Sci-Fi', 'Supernatural', 'Action', 'Adventure', 'Comedy', 'Drama', 'Fantasy', 'Action', 'Sci-Fi', 'Action', 'Adventure', 'Fantasy', 'Action', 'Adventure', 'Fantasy', 'Action', 'Sci-Fi', 'Action', 'Drama', 'Sports', 'Action', 'Sci-Fi', 'Supernatural', 'Action', 'Adventure', 'Mystery', 'Action', 'Fantasy', 'Action', 'Adventure', 'Comedy', 'Sci-Fi', 'Action', 'Mystery', 'Action', 'Sports', 'Action', 'Supernatural', 'Action', 'Comedy', 'Action', 'Adventure', 'Comedy', 'Drama', 'Action', 'Romance', 'Sci-Fi', 'Action', 'Comedy', 'Fantasy', 'Action', 'Comedy', 'Drama', 'Mystery', 'Action', 'Adventure', 'Drama', 'Sci-Fi', 'Action', 'Drama', 'Romance', 'Sci-Fi', 'Action', 'Drama', 'Sports', 'Action', 'Adventure', 'Drama', 'Action', 'Fantasy', 'Action', 'Adventure', 'Action', 'Adventure', 'Drama', 'Sci-Fi', 'Action', 'Adventure', 'Comedy', 'Fantasy', 'Action', 'Adventure', 'Comedy', 'Fantasy', 'Ecchi', 'Action', 'Sci-Fi', 'Action', 'Comedy', 'Fantasy', 'Sci-Fi', 'Action', 'Boys Love', 'Comedy', 'Fantasy', 'Mystery', 'Supernatural', 'Action', 'Adventure', 'Comedy', 'Fantasy', 'Action', 'Adventure', 'Fantasy', 'Action', 'Drama', 'Supernatural', 'Action', 'Fantasy', 'Sci-Fi', 'Action', 'Adventure', 'Comedy', 'Drama', 'Supernatural', 'Action', 'Sci-Fi', 'Slice of Life', 'Action', 'Adventure', 'Comedy', 'Drama', 'Action', 'Adventure', 'Comedy', 'Fantasy', 'Action', 'Comedy', 'Supernatural', 'Ecchi', 'Action', 'Romance', 'Sci-Fi', 'Action', 'Adventure', 'Fantasy', 'Action', 'Adventure', 'Comedy', 'Mystery', 'Action', 'Fantasy', 'Supernatural', 'Action', 'Adventure', 'Comedy', 'Fantasy', 'Action', 'Adventure', 'Fantasy', 'Action', 'Horror', 'Sci-Fi', 'Action', 'Adventure', 'Comedy', 'Sci-Fi', 'Ecchi', 'Action', 'Horror', 'Supernatural', 'Action', 'Drama', 'Sci-Fi', 'Action', 'Adventure', 'Action', 'Adventure', 'Sci-Fi', 'Action', 'Adventure', 'Romance', 'Sci-Fi', 'Action', 'Comedy', 'Sci-Fi', 'Slice of Life', 'Action', 'Comedy', 'Action', 'Comedy', 'Drama', 'Sci-Fi', 'Action', 'Adventure', 'Comedy', 'Mystery', 'Action', 'Drama', 'Sci-Fi', 'Action', 'Adventure', 'Comedy', 'Fantasy', 'Action', 'Sports', 'Action', 'Supernatural', 'Action', 'Sci-Fi', 'Action', 'Sci-Fi', 'Action', 'Adventure', 'Comedy', 'Drama', 'Romance', 'Sci-Fi', 'Action', 'Sci-Fi', 'Action', 'Adventure', 'Comedy', 'Drama', 'Fantasy', 'Action', 'Fantasy', 'Supernatural', 'Action', 'Romance', 'Sci-Fi', 'Action', 'Action', 'Drama', 'Action', 'Sci-Fi', 'Action', 'Drama', 'Sci-Fi', 'Action', 'Drama', 'Sci-Fi', 'Action', 'Fantasy', 'Supernatural', 'Action', 'Adventure', 'Drama', 'Fantasy', 'Romance', 'Action', 'Comedy', 'Sci-Fi', 'Action', 'Mystery', 'Action', 'Fantasy', 'Action', 'Fantasy', 'Action', 'Adventure', 'Sci-Fi', 'Action', 'Comedy', 'Action', 'Adventure', 'Comedy', 'Fantasy', 'Action', 'Sci-Fi', 'Action', 'Fantasy', 'Horror', 'Sci-Fi', 'Action', 'Horror', 'Supernatural', 'Action', 'Action', 'Action', 'Comedy', 'Action', 'Sci-Fi', 'Action', 'Sci-Fi', 'Action', 'Sci-Fi', 'Action', 'Comedy', 'Sci-Fi', 'Action', 'Adventure', 'Comedy', 'Supernatural', 'Action', 'Adventure', 'Romance', 'Sci-Fi', 'Action', 'Adventure', 'Comedy', 'Drama', 'Romance', 'Sci-Fi', 'Action', 'Adventure', 'Comedy', 'Fantasy', 'Action', 'Comedy', 'Sci-Fi', 'Action', 'Comedy', 'Supernatural', 'Ecchi', 'Action', 'Adventure', 'Fantasy', 'Action', 'Adventure', 'Fantasy', 'Sci-Fi', 'Action', 'Adventure', 'Sci-Fi', 'Action', 'Comedy', 'Fantasy', 'Slice of Life', 'Action', 'Adventure', 'Action', 'Drama', 'Action', 'Adventure', 'Comedy', 'Fantasy', 'Action', 'Comedy', 'Mystery', 'Action', 'Drama', 'Action', 'Comedy', 'Supernatural', 'Action', 'Adventure', 'Comedy', 'Drama', 'Horror', 'Mystery', 'Romance', 'Sci-Fi', 'Ecchi', 'Action', 'Drama', 'Sci-Fi', 'Action', 'Comedy', 'Ecchi', 'Action', 'Action', 'Sports', 'Action', 'Adventure', 'Drama', 'Sci-Fi', 'Action', 'Adventure', 'Fantasy', 'Action', 'Drama', 'Sci-Fi', 'Action', 'Comedy', 'Mystery', 'Action', 'Action', 'Drama', 'Sci-Fi', 'Action', 'Fantasy', 'Supernatural', 'Action', 'Mystery', 'Sci-Fi', 'Action', 'Comedy', 'Fantasy', 'Action', 'Drama', 'Supernatural', 'Action', 'Action', 'Comedy', 'Sci-Fi', 'Action', 'Drama', 'Fantasy', 'Action', 'Drama', 'Sports', 'Action', 'Comedy', 'Work Life', 'Action', 'Horror', 'Supernatural', 'Action', 'Adventure', 'Fantasy', 'Sci-Fi', 'Slice of Life', 'Action', 'Mystery', 'Action', 'Supernatural', 'Ecchi', 'Action', 'Drama', 'Horror', 'Action', 'Adventure', 'Fantasy', 'Romance', 'Action', 'Romance', 'Sci-Fi', 'Action', 'Comedy', 'Drama', 'Fantasy', 'Slice of Life', 'Action', 'Drama', 'Mystery', 'Sci-Fi', 'Suspense', 'Action', 'Comedy', 'Girls Love', 'Sci-Fi', 'Ecchi', 'Action', 'Mystery', 'Sci-Fi', 'Action', 'Sci-Fi', 'Ecchi', 'Action', 'Drama', 'Action', 'Fantasy', 'Action', 'Sci-Fi', 'Action', 'Adventure', 'Comedy', 'Supernatural', 'Action', 'Fantasy', 'Action', 'Drama', 'Mystery', 'Romance', 'Action', 'Drama', 'Action', 'Fantasy', 'Horror', 'Romance', 'Action', 'Drama', 'Sci-Fi', 'Action', 'Adventure', 'Comedy', 'Fantasy', 'Action', 'Boys Love', 'Fantasy', 'Supernatural', 'Action', 'Fantasy', 'Sci-Fi', 'Action', 'Adventure', 'Comedy', 'Fantasy', 'Action', 'Drama', 'Action', 'Action', 'Sci-Fi', 'Action', 'Adventure', 'Action', 'Adventure', 'Drama', 'Mystery', 'Action', 'Sci-Fi', 'Action', 'Action', 'Horror', 'Mystery', 'Supernatural', 'Action', 'Sci-Fi', 'Action', 'Adventure', 'Drama', 'Sci-Fi', 'Action', 'Adventure', 'Drama', 'Action', 'Comedy', 'Ecchi', 'Action', 'Adventure', 'Fantasy', 'Supernatural', 'Action', 'Comedy', 'Fantasy', 'Action', 'Comedy', 'Fantasy', 'Action', 'Drama', 'Sci-Fi', 'Action', 'Adventure', 'Drama', 'Sci-Fi', 'Action', 'Adventure', 'Sci-Fi', 'Sports', 'Action', 'Adventure', 'Action', 'Comedy', 'Fantasy', 'Romance', 'Action', 'Adventure', 'Drama', 'Action', 'Adventure', 'Comedy', 'Fantasy', 'Action', 'Fantasy', 'Action', 'Comedy', 'Fantasy', 'Supernatural', 'Action', 'Adventure', 'Sci-Fi', 'Action', 'Drama', 'Mystery', 'Action', 'Action', 'Supernatural', 'Action', 'Adventure', 'Supernatural', 'Ecchi', 'Action', 'Supernatural', 'Action', 'Horror', 'Sci-Fi', 'Action', 'Drama', 'Sci-Fi', 'Action', 'Adventure', 'Comedy', 'Drama', 'Fantasy', 'Action', 'Adventure', 'Comedy', 'Mystery', 'Action', 'Adventure', 'Fantasy', 'Action', 'Sci-Fi', 'Ecchi', 'Action', 'Action', 'Horror', 'Mystery', 'Supernatural', 'Action', 'Sci-Fi', 'Action', 'Comedy', 'Drama', 'Action', 'Fantasy', 'Action', 'Fantasy', 'Supernatural', 'Action', 'Sci-Fi', 'Action', 'Action', 'Fantasy', 'Sci-Fi', 'Action', 'Romance', 'Sci-Fi', 'Action', 'Fantasy', 'Action', 'Fantasy', 'Supernatural', 'Action', 'Fantasy', 'Action', 'Adventure', 'Action', 'Comedy', 'Mystery', 'Action', 'Adventure', 'Comedy', 'Fantasy', 'Action', 'Drama', 'Fantasy', 'Action', 'Comedy', 'Mystery', 'Action', 'Comedy', 'Drama', 'Supernatural', 'Action', 'Comedy', 'Action', 'Drama', 'Sci-Fi', 'Action', 'Adventure', 'Sci-Fi', 'Action', 'Comedy', 'Drama', 'Sci-Fi', 'Action', 'Comedy', 'Drama', 'Mystery', 'Supernatural', 'Action', 'Comedy', 'Romance', 'Action', 'Sci-Fi', 'Action', 'Adventure', 'Fantasy', 'Action', 'Romance', 'Sci-Fi', 'Action', 'Sci-Fi', 'Action', 'Adventure', 'Comedy', 'Fantasy', 'Sci-Fi', 'Action', 'Comedy', 'Drama', 'Fantasy', 'Action', 'Fantasy', 'Action', 'Comedy', 'Romance', 'Sci-Fi', 'Action', 'Ecchi', 'Action', 'Comedy', 'Sci-Fi', 'Action', 'Fantasy', 'Supernatural', 'Ecchi', 'Action', 'Action', 'Comedy', 'Ecchi', 'Action', 'Sci-Fi', 'Action', 'Comedy', 'Fantasy', 'Action', 'Sci-Fi', 'Action', 'Comedy', 'Drama', 'Fantasy', 'Romance', 'Sci-Fi', 'Action', 'Boys Love', 'Drama', 'Romance', 'Supernatural', 'Action', 'Comedy', 'Supernatural', 'Action', 'Comedy', 'Drama', 'Mystery', 'Action', 'Action', 'Drama', 'Horror', 'Action', 'Adventure', 'Fantasy', 'Romance', 'Action', 'Supernatural', 'Action', 'Adventure', 'Comedy', 'Romance', 'Sci-Fi', 'Action', 'Adventure', 'Comedy', 'Drama', 'Supernatural', 'Action', 'Drama', 'Sci-Fi', 'Action', 'Adventure', 'Drama', 'Fantasy', 'Action', 'Adventure', 'Comedy', 'Sci-Fi', 'Action', 'Fantasy', 'Action', 'Fantasy', 'Action', 'Adventure', 'Comedy', 'Fantasy', 'Action', 'Adventure', 'Sci-Fi', 'Action', 'Drama', 'Sci-Fi', 'Action', 'Comedy', 'Fantasy', 'Sci-Fi', 'Action', 'Mystery', 'Action', 'Adventure', 'Comedy', 'Drama', 'Mystery', 'Action', 'Sci-Fi', 'Action', 'Action', 'Comedy', 'Sci-Fi', 'Action', 'Drama', 'Sci-Fi', 'Action', 'Sci-Fi', 'Ecchi', 'Action', 'Sci-Fi', 'Action', 'Drama', 'Sci-Fi', 'Action', 'Action', 'Fantasy', 'Sci-Fi', 'Supernatural', 'Action', 'Drama', 'Fantasy', 'Action', 'Adventure', 'Comedy', 'Fantasy', 'Action', 'Comedy', 'Action', 'Fantasy', 'Action', 'Adventure', 'Sci-Fi', 'Action', 'Adventure', 'Action', 'Drama', 'Sports', 'Action', 'Sports', 'Action', 'Adventure', 'Fantasy', 'Romance', 'Action', 'Adventure', 'Drama', 'Fantasy', 'Action', 'Fantasy', 'Sci-Fi', 'Supernatural', 'Action', 'Adventure', 'Fantasy', 'Action', 'Drama', 'Supernatural', 'Action', 'Adventure', 'Sci-Fi', 'Action', 'Adventure', 'Action', 'Drama', 'Sci-Fi', 'Action', 'Adventure', 'Drama', 'Fantasy', 'Action', 'Drama', 'Sci-Fi', 'Action', 'Adventure', 'Fantasy', 'Action', 'Adventure', 'Fantasy', 'Ecchi', 'Action', 'Adventure', 'Comedy', 'Fantasy', 'Action', 'Adventure', 'Comedy', 'Fantasy', 'Action', 'Comedy', 'Fantasy', 'Action', 'Action', 'Adventure', 'Fantasy', 'Sci-Fi', 'Action', 'Drama', 'Action', 'Comedy', 'Drama', 'Fantasy', 'Romance', 'Action', 'Adventure', 'Comedy', 'Sci-Fi', 'Action', 'Sci-Fi', 'Action', 'Comedy', 'Sci-Fi', 'Action', 'Comedy', 'Supernatural', 'Action', 'Adventure', 'Comedy', 'Mystery', 'Sci-Fi', 'Action', 'Adventure', 'Comedy', 'Fantasy', 'Action', 'Adventure', 'Comedy', 'Fantasy', 'Action', 'Fantasy', 'Romance', 'Action', 'Adventure', 'Fantasy', 'Action', 'Sci-Fi', 'Action', 'Drama', 'Horror', 'Action', 'Adventure', 'Comedy', 'Fantasy', 'Action', 'Comedy', 'Supernatural', 'Ecchi', 'Action', 'Drama', 'Sci-Fi', 'Action', 'Drama', 'Sci-Fi', 'Action', 'Sports', 'Action', 'Adventure', 'Fantasy', 'Action', 'Comedy', 'Fantasy', 'Action', 'Comedy', 'Action', 'Sci-Fi', 'Action', 'Sci-Fi', 'Action', 'Horror', 'Sci-Fi', 'Action', 'Action', 'Adventure', 'Sci-Fi', 'Action', 'Comedy', 'Ecchi', 'Action', 'Sci-Fi', 'Action', 'Supernatural', 'Action', 'Drama', 'Sci-Fi', 'Action', 'Adventure', 'Sci-Fi', 'Action', 'Drama', 'Sci-Fi', 'Action', 'Drama', 'Sci-Fi', 'Action', 'Action', 'Adventure', 'Sci-Fi', 'Action', 'Romance', 'Action', 'Horror', 'Mystery', 'Action', 'Adventure', 'Comedy', 'Action', 'Adventure', 'Comedy', 'Supernatural', 'Action', 'Sci-Fi', 'Action', 'Supernatural', 'Action', 'Comedy', 'Ecchi', 'Action', 'Action', 'Drama', 'Sci-Fi', 'Action', 'Drama', 'Romance', 'Supernatural', 'Action', 'Drama', 'Sci-Fi', 'Action', 'Comedy', 'Mystery', 'Action', 'Adventure', 'Sci-Fi', 'Action', 'Adventure', 'Fantasy', 'Action', 'Drama', 'Action', 'Adventure', 'Sci-Fi', 'Action', 'Adventure', 'Mystery', 'Supernatural', 'Action', 'Comedy', 'Mystery', 'Action', 'Comedy', 'Action', 'Fantasy', 'Action', 'Comedy', 'Drama', 'Gourmet', 'Action', 'Mystery', 'Supernatural', 'Action', 'Supernatural', 'Action', 'Fantasy', 'Action', 'Drama', 'Action', 'Slice of Life', 'Action', 'Comedy', 'Fantasy', 'Action', 'Comedy', 'Drama', 'Romance', 'Slice of Life', 'Sports', 'Action', 'Adventure', 'Fantasy', 'Mystery', 'Sci-Fi', 'Action', 'Adventure', 'Comedy', 'Drama', 'Action', 'Comedy', 'Fantasy', 'Action', 'Comedy', 'Romance', 'Sci-Fi', 'Action', 'Adventure', 'Action', 'Adventure', 'Action', 'Fantasy', 'Girls Love', 'Ecchi', 'Action', 'Comedy', 'Sci-Fi', 'Action', 'Adventure', 'Sci-Fi', 'Action', 'Adventure', 'Comedy', 'Fantasy', 'Action', 'Suspense', 'Action', 'Adventure', 'Comedy', 'Ecchi', 'Action', 'Adventure', 'Sci-Fi', 'Action', 'Adventure', 'Comedy', 'Mystery', 'Romance', 'Action', 'Comedy', 'Drama', 'Fantasy', 'Romance', 'Action', 'Sci-Fi', 'Action', 'Drama', 'Sci-Fi', 'Action', 'Supernatural', 'Action', 'Sci-Fi', 'Action', 'Adventure', 'Sci-Fi', 'Action', 'Horror', 'Supernatural', 'Action', 'Adventure', 'Sci-Fi', 'Action', 'Comedy', 'Supernatural', 'Ecchi', 'Action', 'Romance', 'Sci-Fi', 'Action', 'Mystery', 'Romance', 'Sci-Fi', 'Action', 'Comedy', 'Action', 'Comedy', 'Fantasy', 'Romance', 'Sci-Fi', 'Action', 'Comedy', 'Fantasy', 'Action', 'Comedy', 'Action', 'Adventure', 'Fantasy', 'Action', 'Ecchi', 'Action', 'Drama', 'Sci-Fi', 'Action', 'Adventure', 'Comedy', 'Sci-Fi', 'Action', 'Comedy', 'Sci-Fi', 'Action', 'Fantasy', 'Action', 'Avant Garde', 'Drama', 'Sci-Fi', 'Action', 'Action', 'Comedy', 'Action', 'Sci-Fi', 'Action', 'Horror', 'Sci-Fi', 'Action', 'Adventure', 'Fantasy', 'Romance', 'Action', 'Adventure', 'Drama', 'Fantasy', 'Supernatural', 'Action', 'Drama', 'Mystery', 'Romance', 'Action', 'Fantasy', 'Sci-Fi', 'Action', 'Ecchi', 'Action', 'Adventure', 'Supernatural', 'Action', 'Fantasy', 'Action', 'Adventure', 'Comedy', 'Sci-Fi', 'Action', 'Sci-Fi', 'Sports', 'Action', 'Adventure', 'Comedy', 'Fantasy', 'Action', 'Fantasy', 'Action', 'Adventure', 'Fantasy', 'Action', 'Comedy', 'Action', 'Drama', 'Fantasy', 'Supernatural', 'Action', 'Sci-Fi', 'Supernatural', 'Action', 'Adventure', 'Fantasy', 'Ecchi', 'Action', 'Drama', 'Supernatural', 'Action', 'Comedy', 'Fantasy', 'Action', 'Adventure', 'Drama', 'Romance', 'Action', 'Adventure', 'Fantasy', 'Action', 'Sci-Fi', 'Action', 'Adventure', 'Comedy', 'Supernatural', 'Action', 'Adventure', 'Fantasy', 'Action', 'Adventure', 'Drama', 'Action', 'Comedy', 'Fantasy', 'Action', 'Adventure', 'Fantasy', 'Horror', 'Sci-Fi', 'Action', 'Comedy', 'Sci-Fi', 'Action', 'Sci-Fi', 'Action', 'Adventure', 'Fantasy', 'Action', 'Sci-Fi', 'Action', 'Drama', 'Sci-Fi', 'Action', 'Sci-Fi', 'Action', 'Adventure', 'Fantasy', 'Action', 'Comedy', 'Sports', 'Action', 'Adventure', 'Comedy', 'Fantasy', 'Action', 'Sci-Fi', 'Action', 'Adventure', 'Romance', 'Sci-Fi', 'Action', 'Supernatural', 'Action', 'Adventure', 'Comedy', 'Drama', 'Romance', 'Sci-Fi', 'Action', 'Adventure', 'Fantasy', 'Supernatural', 'Action', 'Adventure', 'Comedy', 'Action', 'Comedy', 'Drama', 'Fantasy', 'Action', 'Ecchi', 'Action', 'Adventure', 'Comedy', 'Fantasy', 'Action', 'Comedy', 'Sci-Fi', 'Sports', 'Action', 'Drama', 'Action', 'Adventure', 'Comedy', 'Fantasy', 'Slice of Life', 'Action', 'Comedy', 'Sci-Fi', 'Action', 'Adventure', 'Sci-Fi', 'Action', 'Fantasy', 'Action', 'Comedy', 'Sci-Fi', 'Action', 'Fantasy', 'Sci-Fi', 'Action', 'Drama', 'Sci-Fi', 'Action', 'Adventure', 'Drama', 'Romance', 'Sci-Fi', 'Action', 'Comedy', 'Drama', 'Sci-Fi', 'Action', 'Sci-Fi', 'Action', 'Drama', 'Romance', 'Sci-Fi', 'Action', 'Comedy', 'Fantasy', 'Slice of Life', 'Action', 'Adventure', 'Drama', 'Horror', 'Supernatural', 'Action', 'Drama', 'Sci-Fi', 'Action', 'Fantasy', 'Action', 'Adventure', 'Sci-Fi', 'Action', 'Fantasy', 'Action', 'Sci-Fi', 'Action', 'Adventure', 'Comedy', 'Fantasy', 'Action', 'Adventure', 'Fantasy', 'Action', 'Comedy', 'Action', 'Fantasy', 'Action', 'Fantasy', 'Action', 'Adventure', 'Fantasy', 'Ecchi', 'Action', 'Drama', 'Sci-Fi', 'Action', 'Comedy', 'Fantasy', 'Slice of Life', 'Action', 'Sci-Fi', 'Action', 'Adventure', 'Drama', 'Fantasy', 'Horror', 'Supernatural', 'Action', 'Adventure', 'Action', 'Action', 'Drama', 'Action', 'Comedy', 'Sci-Fi', 'Ecchi', 'Action', 'Adventure', 'Fantasy', 'Action', 'Fantasy', 'Ecchi', 'Action', 'Drama', 'Sci-Fi', 'Action', 'Mystery', 'Action', 'Sports', 'Action', 'Fantasy', 'Action', 'Sci-Fi', 'Suspense', 'Action', 'Adventure', 'Comedy', 'Sci-Fi', 'Action', 'Sci-Fi', 'Action', 'Sci-Fi', 'Action', 'Ecchi', 'Action', 'Supernatural', 'Action', 'Adventure', 'Fantasy', 'Horror', 'Romance', 'Action', 'Adventure', 'Romance', 'Sci-Fi', 'Action', 'Adventure', 'Comedy', 'Romance', 'Sci-Fi', 'Ecchi', 'Action', 'Romance', 'Action', 'Drama', 'Sci-Fi', 'Action', 'Sci-Fi', 'Action', 'Horror', 'Mystery', 'Supernatural', 'Action', 'Drama', 'Action', 'Drama', 'Supernatural', 'Action', 'Adventure', 'Comedy', 'Drama', 'Horror', 'Mystery', 'Sci-Fi', 'Action', 'Drama', 'Sci-Fi', 'Action', 'Drama', 'Supernatural', 'Action', 'Action', 'Adventure', 'Fantasy', 'Action', 'Action', 'Fantasy', 'Action', 'Adventure', 'Comedy', 'Drama', 'Romance', 'Sci-Fi', 'Ecchi', 'Action', 'Adventure', 'Comedy', 'Action', 'Adventure', 'Comedy', 'Mystery', 'Action', 'Adventure', 'Drama', 'Fantasy', 'Supernatural', 'Action', 'Adventure', 'Fantasy', 'Sci-Fi', 'Action', 'Comedy', 'Sci-Fi', 'Action', 'Sci-Fi', 'Action', 'Drama', 'Supernatural', 'Action', 'Comedy', 'Action', 'Adventure', 'Fantasy', 'Romance', 'Action', 'Fantasy', 'Supernatural', 'Ecchi', 'Action', 'Adventure', 'Horror', 'Sci-Fi', 'Action', 'Comedy', 'Sci-Fi', 'Action', 'Adventure', 'Fantasy', 'Supernatural', 'Action', 'Supernatural', 'Action', 'Supernatural', 'Action', 'Comedy', 'Drama', 'Fantasy', 'Horror', 'Romance', 'Sci-Fi', 'Action', 'Comedy', 'Mystery', 'Action', 'Drama', 'Romance', 'Action', 'Action', 'Comedy', 'Drama', 'Romance', 'Sports', 'Action', 'Adventure', 'Comedy', 'Fantasy', 'Sci-Fi', 'Action', 'Sci-Fi', 'Supernatural', 'Action', 'Adventure', 'Fantasy', 'Romance', 'Sci-Fi', 'Supernatural', 'Action', 'Action', 'Sci-Fi', 'Action', 'Adventure', 'Comedy', 'Fantasy', 'Action', 'Comedy', 'Horror', 'Action', 'Comedy', 'Supernatural', 'Action', 'Drama', 'Mystery', 'Action', 'Adventure', 'Action', 'Comedy', 'Horror', 'Supernatural', 'Action', 'Drama', 'Action', 'Action', 'Comedy', 'Drama', 'Fantasy', 'Slice of Life', 'Ecchi', 'Action', 'Comedy', 'Drama', 'Fantasy', 'Horror', 'Ecchi', 'Action', 'Drama', 'Sci-Fi', 'Action', 'Ecchi', 'Action', 'Drama', 'Sci-Fi', 'Action', 'Adventure', 'Drama', 'Fantasy', 'Action', 'Horror', 'Supernatural', 'Suspense', 'Action', 'Comedy', 'Sci-Fi', 'Action', 'Action', 'Sci-Fi', 'Action', 'Adventure', 'Drama', 'Fantasy', 'Action', 'Drama', 'Sci-Fi', 'Action', 'Adventure', 'Fantasy', 'Ecchi', 'Action', 'Adventure', 'Sci-Fi', 'Action', 'Comedy', 'Action', 'Sci-Fi', 'Action', 'Adventure', 'Fantasy', 'Action', 'Action', 'Romance', 'Action', 'Comedy', 'Supernatural', 'Ecchi', 'Action', 'Horror', 'Sci-Fi', 'Action', 'Comedy', 'Sci-Fi', 'Action', 'Adventure', 'Sci-Fi', 'Sports', 'Action', 'Drama', 'Action', 'Fantasy', 'Action', 'Action', 'Adventure', 'Drama', 'Fantasy', 'Horror', 'Supernatural', 'Action', 'Adventure', 'Comedy', 'Supernatural', 'Action', 'Adventure', 'Action', 'Adventure', 'Drama', 'Romance', 'Action', 'Adventure', 'Supernatural', 'Action', 'Horror', 'Action', 'Adventure', 'Sci-Fi', 'Action', 'Adventure', 'Comedy', 'Fantasy', 'Action', 'Adventure', 'Comedy', 'Fantasy', 'Action', 'Adventure', 'Fantasy', 'Ecchi', 'Action', 'Comedy', 'Action', 'Fantasy', 'Action', 'Comedy', 'Drama', 'Mystery', 'Action', 'Supernatural', 'Action', 'Adventure', 'Comedy', 'Mystery', 'Action', 'Action', 'Comedy', 'Action', 'Drama', 'Action', 'Comedy', 'Romance', 'Supernatural', 'Ecchi', 'Action', 'Comedy', 'Action', 'Drama', 'Fantasy', 'Sci-Fi', 'Action', 'Action', 'Sports', 'Action', 'Adventure', 'Sci-Fi', 'Action', 'Comedy', 'Fantasy', 'Action', 'Drama', 'Action', 'Comedy', 'Drama', 'Mystery', 'Romance', 'Action', 'Sci-Fi', 'Action', 'Drama', 'Mystery', 'Action', 'Comedy', 'Action', 'Action', 'Adventure', 'Fantasy', 'Romance', 'Action', 'Drama', 'Sci-Fi', 'Action', 'Drama', 'Fantasy', 'Supernatural', 'Action', 'Drama', 'Fantasy', 'Sci-Fi', 'Action', 'Sci-Fi', 'Action', 'Drama', 'Sci-Fi', 'Action', 'Sci-Fi', 'Action', 'Fantasy', 'Slice of Life', 'Action', 'Comedy', 'Horror', 'Supernatural', 'Action', 'Fantasy', 'Romance', 'Action', 'Adventure', 'Comedy', 'Sci-Fi', 'Action', 'Drama', 'Sports', 'Action', 'Sports', 'Action', 'Comedy', 'Fantasy', 'Action', 'Adventure', 'Fantasy', 'Mystery', 'Action', 'Comedy', 'Romance', 'Sci-Fi', 'Action', 'Drama', 'Romance', 'Sci-Fi', 'Action', 'Sci-Fi', 'Action', 'Horror', 'Sci-Fi', 'Action', 'Comedy', 'Sci-Fi', 'Action', 'Drama', 'Romance', 'Sci-Fi', 'Action', 'Sci-Fi', 'Action', 'Adventure', 'Action', 'Adventure', 'Drama', 'Sci-Fi', 'Action', 'Sci-Fi', 'Action', 'Comedy', 'Fantasy', 'Sci-Fi', 'Action', 'Action', 'Drama', 'Horror', 'Action', 'Comedy', 'Drama', 'Fantasy', 'Action', 'Adventure', 'Drama', 'Sci-Fi', 'Action', 'Adventure', 'Drama', 'Action', 'Fantasy', 'Action', 'Fantasy', 'Supernatural', 'Action', 'Fantasy', 'Supernatural', 'Action', 'Comedy', 'Sci-Fi', 'Action', 'Drama', 'Action', 'Comedy', 'Sports', 'Action', 'Sci-Fi', 'Action', 'Comedy', 'Action', 'Adventure', 'Action', 'Romance', 'Sci-Fi', 'Supernatural', 'Action', 'Adventure', 'Drama', 'Sci-Fi', 'Action', 'Fantasy', 'Action', 'Action', 'Adventure', 'Drama', 'Sci-Fi', 'Action', 'Fantasy', 'Supernatural', 'Action', 'Comedy', 'Action', 'Comedy', 'Sports', 'Action', 'Action', 'Adventure', 'Fantasy', 'Ecchi', 'Action', 'Adventure', 'Comedy', 'Sci-Fi', 'Ecchi', 'Action', 'Ecchi', 'Action', 'Fantasy', 'Action', 'Adventure', 'Drama', 'Fantasy', 'Sci-Fi', 'Action', 'Action', 'Comedy', 'Action', 'Sci-Fi', 'Action', 'Drama', 'Sci-Fi', 'Action', 'Adventure', 'Fantasy', 'Action', 'Fantasy', 'Sci-Fi', 'Action', 'Drama', 'Sci-Fi', 'Action', 'Comedy', 'Fantasy', 'Action', 'Mystery', 'Sci-Fi', 'Action', 'Adventure', 'Fantasy', 'Action', 'Boys Love', 'Drama', 'Romance', 'Supernatural', 'Action', 'Action', 'Adventure', 'Comedy', 'Mystery', 'Action', 'Horror', 'Sci-Fi', 'Ecchi', 'Action', 'Sci-Fi', 'Action', 'Sci-Fi', 'Action', 'Adventure', 'Fantasy', 'Ecchi', 'Action', 'Drama', 'Romance', 'Action', 'Supernatural', 'Action', 'Adventure', 'Drama', 'Mystery', 'Romance', 'Sci-Fi', 'Action', 'Adventure', 'Comedy', 'Mystery', 'Action', 'Adventure', 'Comedy', 'Sci-Fi', 'Action', 'Adventure', 'Comedy', 'Sci-Fi', 'Sports', 'Action', 'Adventure', 'Sci-Fi', 'Action', 'Adventure', 'Comedy', 'Mystery', 'Action', 'Action', 'Sci-Fi', 'Action', 'Adventure', 'Sci-Fi', 'Sports', 'Action', 'Fantasy', 'Action', 'Fantasy', 'Gourmet', 'Slice of Life', 'Action', 'Adventure', 'Comedy', 'Romance', 'Action', 'Drama', 'Action', 'Avant Garde', 'Drama', 'Horror', 'Action', 'Adventure', 'Fantasy', 'Action', 'Comedy', 'Mystery', 'Action', 'Sci-Fi', 'Action', 'Comedy', 'Drama', 'Romance', 'Action', 'Adventure', 'Fantasy', 'Ecchi', 'Action', 'Adventure', 'Fantasy', 'Action', 'Drama', 'Sci-Fi', 'Action', 'Adventure', 'Comedy', 'Fantasy', 'Action', 'Adventure', 'Sci-Fi', 'Action', 'Drama', 'Horror', 'Sci-Fi', 'Action', 'Drama', 'Mystery', 'Sci-Fi', 'Action', 'Comedy', 'Action', 'Adventure', 'Drama', 'Romance', 'Action', 'Sci-Fi', 'Ecchi', 'Action', 'Drama', 'Sci-Fi', 'Action', 'Comedy', 'Romance', 'Sci-Fi', 'Action', 'Action', 'Adventure', 'Comedy', 'Mystery', 'Action', 'Drama', 'Horror', 'Action', 'Comedy', 'Action', 'Fantasy', 'Action', 'Adventure', 'Comedy', 'Mystery', 'Action', 'Comedy', 'Romance', 'Ecchi', 'Action', 'Mystery', 'Sci-Fi', 'Action', 'Adventure', 'Drama', 'Sci-Fi', 'Action', 'Action', 'Romance', 'Sci-Fi', 'Action', 'Drama', 'Sports', 'Action', 'Adventure', 'Fantasy', 'Ecchi', 'Action', 'Adventure', 'Comedy', 'Action', 'Adventure', 'Horror', 'Sci-Fi', 'Action', 'Adventure', 'Fantasy', 'Action', 'Fantasy', 'Sci-Fi', 'Action', 'Adventure', 'Drama', 'Sci-Fi', 'Action', 'Horror', 'Supernatural', 'Action', 'Adventure', 'Romance', 'Action', 'Adventure', 'Sci-Fi', 'Action', 'Comedy', 'Action', 'Drama', 'Sports', 'Action', 'Comedy', 'Ecchi', 'Action', 'Drama', 'Sci-Fi', 'Action', 'Adventure', 'Fantasy', 'Action', 'Adventure', 'Action', 'Adventure', 'Sci-Fi', 'Action', 'Drama', 'Sci-Fi', 'Action', 'Comedy', 'Drama', 'Sci-Fi', 'Ecchi']\n"
          ]
        }
      ]
    },
    {
      "cell_type": "markdown",
      "source": [
        "Мы видим, что в `full_genre_lst` содержатся названия всех жанров по всем аниме. Теперь можно проанализировать эти значения.\n",
        "\n",
        "Для этого, можно преобразовать этот список в объект типа `Series` (аналог DataFrame, только для описания одного столбца/строки):"
      ],
      "metadata": {
        "id": "C-DOIYVQEZ0O"
      }
    },
    {
      "cell_type": "code",
      "source": [
        "full_genre_series = pd.Series(full_genre_lst)"
      ],
      "metadata": {
        "id": "alp1XRmAEyLe"
      },
      "execution_count": null,
      "outputs": []
    },
    {
      "cell_type": "markdown",
      "source": [
        "Теперь можем вывести, какие уникальные значения встречаются в этом списке вместе с частотой их встречаемости. Для этого используем знакомый нам `value_counts()`:"
      ],
      "metadata": {
        "id": "WD8rP2SqE5PG"
      }
    },
    {
      "cell_type": "code",
      "source": [
        "print(full_genre_series.value_counts())"
      ],
      "metadata": {
        "id": "1W2C-EPNFKcj",
        "colab": {
          "base_uri": "https://localhost:8080/"
        },
        "outputId": "376dee4c-04ce-4976-d45d-beaa27a2718a"
      },
      "execution_count": null,
      "outputs": [
        {
          "output_type": "stream",
          "name": "stdout",
          "text": [
            "Action           1992\n",
            "Fantasy           711\n",
            "Comedy            645\n",
            "Adventure         620\n",
            "Sci-Fi            610\n",
            "Supernatural      454\n",
            "Drama             447\n",
            "Romance           225\n",
            "Mystery           187\n",
            "Ecchi             173\n",
            "Horror            109\n",
            "Sports             59\n",
            "Slice of Life      29\n",
            "Suspense           29\n",
            "Girls Love         11\n",
            "Avant Garde        10\n",
            "Boys Love           9\n",
            "Gourmet             5\n",
            "Work Life           1\n",
            "dtype: int64\n"
          ]
        }
      ]
    },
    {
      "cell_type": "markdown",
      "source": [
        "В ячейке ниже укажите, какие жанры оказались самыми популярными (укажите топ-5 жанров в порядке убывания частоты):"
      ],
      "metadata": {
        "id": "bSfVzLTbFzR5"
      }
    },
    {
      "cell_type": "markdown",
      "source": [
        "Action\\\n",
        "Fantasy \\\n",
        "Comedy \\\n",
        "Adventure \\\n",
        "Sci-Fi"
      ],
      "metadata": {
        "id": "tX0jY--1F9-W"
      }
    },
    {
      "cell_type": "markdown",
      "source": [
        "В ячейке ниже постройте гистограмму для указанных 5 наиболее популярных жанров (можно использовать `query` для `full_genre_series`, либо построить гистограмму для первых пяти строк датафрейма `full_genre_series.value_counts()`):"
      ],
      "metadata": {
        "id": "AmLf6KQWF-pE"
      }
    },
    {
      "cell_type": "code",
      "source": [
        "full_genre_series.value_counts().head(5).plot.bar(rot=0)"
      ],
      "metadata": {
        "id": "LJ_KLvCwHCYK",
        "colab": {
          "base_uri": "https://localhost:8080/",
          "height": 447
        },
        "outputId": "84a7ab4e-4323-43b7-f066-e7b0c363d15e"
      },
      "execution_count": null,
      "outputs": [
        {
          "output_type": "execute_result",
          "data": {
            "text/plain": [
              "<Axes: >"
            ]
          },
          "metadata": {},
          "execution_count": 61
        },
        {
          "output_type": "display_data",
          "data": {
            "text/plain": [
              "<Figure size 640x480 with 1 Axes>"
            ],
            "image/png": "[encoded data removed]"
          },
          "metadata": {}
        }
      ]
    },
    {
      "cell_type": "markdown",
      "source": [
        "### Theme\n",
        "\n",
        "Данный признак очень похож на признак Genre, поэтому его можно анализировать аналогично."
      ],
      "metadata": {
        "id": "b5XaWku2HpOX"
      }
    },
    {
      "cell_type": "markdown",
      "source": [
        "Для начала нужно заполнить пропуски в данных каким-то значением. Заполним все пропуски значением Empty (тема отсутствует):"
      ],
      "metadata": {
        "id": "-caBLDItIDfI"
      }
    },
    {
      "cell_type": "code",
      "source": [
        "df['theme'] = df['theme'].fillna('Empty')"
      ],
      "metadata": {
        "id": "vlJ8jVpZIHQr"
      },
      "execution_count": null,
      "outputs": []
    },
    {
      "cell_type": "markdown",
      "source": [
        "Построим список строковых значений темы и назовём его `theme_lst`:"
      ],
      "metadata": {
        "id": "OenVEL3TIUi3"
      }
    },
    {
      "cell_type": "code",
      "source": [
        "theme_lst=[elem.split(',') for elem in df['theme']]"
      ],
      "metadata": {
        "id": "WDZSbVKVIXGq"
      },
      "execution_count": null,
      "outputs": []
    },
    {
      "cell_type": "markdown",
      "source": [
        "Применим написанную ранее функцию `flatten_extend` к `theme_lst` и сохраним результат в переменной `full_theme_lst`:"
      ],
      "metadata": {
        "id": "ogbkikUGIMh3"
      }
    },
    {
      "cell_type": "code",
      "source": [
        "full_theme_lst=flatten_extend(theme_lst)"
      ],
      "metadata": {
        "id": "j0wBwkPSIm39"
      },
      "execution_count": null,
      "outputs": []
    },
    {
      "cell_type": "markdown",
      "source": [
        "Преобразуем список `full_theme_lst` в `Series` `full_theme_series`:"
      ],
      "metadata": {
        "id": "EleEF56yIu80"
      }
    },
    {
      "cell_type": "code",
      "source": [
        "full_theme_series=pd.Series(full_theme_lst)"
      ],
      "metadata": {
        "id": "y7lA8WMvI4kh"
      },
      "execution_count": null,
      "outputs": []
    },
    {
      "cell_type": "markdown",
      "source": [
        "Выведем, какие уникальные значения встречаются в этом списке вместе с частотой их встречаемости:"
      ],
      "metadata": {
        "id": "dMOKKmF-I-t1"
      }
    },
    {
      "cell_type": "code",
      "source": [
        "full_theme_series.value_counts()"
      ],
      "metadata": {
        "id": "eJsvMhOIJD2-",
        "colab": {
          "base_uri": "https://localhost:8080/"
        },
        "outputId": "ddfee930-2543-4092-e2fd-592dd9e830ca"
      },
      "execution_count": null,
      "outputs": [
        {
          "output_type": "execute_result",
          "data": {
            "text/plain": [
              "Super Power                 311\n",
              "Mecha                       277\n",
              "Military                    224\n",
              "School                      185\n",
              "Shounen                     179\n",
              "Historical                  148\n",
              "Martial Arts                141\n",
              "-                           134\n",
              "Demons                      131\n",
              "Space                       118\n",
              "Funimation                   90\n",
              "Harem                        82\n",
              "Game                         76\n",
              "Samurai                      73\n",
              "Psychological                69\n",
              "Seinen                       66\n",
              "Police                       63\n",
              "Vampire                      58\n",
              "Parody                       45\n",
              "Aniplex of America           45\n",
              "Kids                         43\n",
              "Sentai Filmworks             40\n",
              "Music                        28\n",
              "Shoujo                       19\n",
              "Cars                         16\n",
              "Discotek Media               15\n",
              "ADV Films                    11\n",
              "Crunchyroll                  11\n",
              "Media Blasters                7\n",
              "Central Park Media            7\n",
              "Bandai Entertainment          5\n",
              "Shout! Factory                4\n",
              "Josei                         3\n",
              "Manga Entertainment           3\n",
              "Ponycan USA                   3\n",
              "GKIDS                         3\n",
              "Maiden Japan                  2\n",
              "NYAV Post                     2\n",
              "Netflix                       2\n",
              "Geneon Entertainment USA      2\n",
              "VIZ Media                     2\n",
              "Anchor Bay Films              1\n",
              "Urban Vision                  1\n",
              "OLM Digital                   1\n",
              "Nozomi Entertainment          1\n",
              "Tokyopop                      1\n",
              "bilibili                      1\n",
              "AnimEigo                      1\n",
              "Warner Bros. Japan            1\n",
              "Flatiron Film Company         1\n",
              "dtype: int64"
            ]
          },
          "metadata": {},
          "execution_count": 72
        }
      ]
    },
    {
      "cell_type": "markdown",
      "source": [
        "В ячейке ниже укажите, какие темы оказались самыми популярными (укажите топ-5 тем в порядке убывания частоты):"
      ],
      "metadata": {
        "id": "oIbpE9GvJRNB"
      }
    },
    {
      "cell_type": "markdown",
      "source": [
        "Super Power                \\\n",
        "Mecha                      \\\n",
        "Military                   \\\n",
        "School                     \\\n",
        "Shounen                     \\"
      ],
      "metadata": {
        "id": "pusEw0J0JT0N"
      }
    },
    {
      "cell_type": "markdown",
      "source": [
        "В ячейке ниже постройте гистограмму для указанных 5 наиболее популярных тем:"
      ],
      "metadata": {
        "id": "Uei4VbbCJX8g"
      }
    },
    {
      "cell_type": "code",
      "source": [
        "full_theme_series.value_counts().head(5).plot.bar(rot=0)"
      ],
      "metadata": {
        "id": "TS7e7JXxJcpG",
        "colab": {
          "base_uri": "https://localhost:8080/",
          "height": 447
        },
        "outputId": "0468bdf5-26bb-4aa2-8fc6-39a4a4173327"
      },
      "execution_count": null,
      "outputs": [
        {
          "output_type": "execute_result",
          "data": {
            "text/plain": [
              "<Axes: >"
            ]
          },
          "metadata": {},
          "execution_count": 73
        },
        {
          "output_type": "display_data",
          "data": {
            "text/plain": [
              "<Figure size 640x480 with 1 Axes>"
            ],
            "image/png": "[encoded data removed]"
          },
          "metadata": {}
        }
      ]
    }
  ]
}