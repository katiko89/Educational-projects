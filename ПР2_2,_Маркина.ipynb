{
  "nbformat": 4,
  "nbformat_minor": 0,
  "metadata": {
    "colab": {
      "provenance": [],
      "include_colab_link": true
    },
    "kernelspec": {
      "name": "python3",
      "display_name": "Python 3"
    },
    "language_info": {
      "name": "python"
    }
  },
  "cells": [
    {
      "cell_type": "markdown",
      "metadata": {
        "id": "view-in-github",
        "colab_type": "text"
      },
      "source": [
        "<a href=\"https://colab.research.google.com/github/katiko89/Educational-projects/blob/main/%D0%9F%D0%A02_2%2C_%D0%9C%D0%B0%D1%80%D0%BA%D0%B8%D0%BD%D0%B0.ipynb\" target=\"_parent\"><img src=\"https://colab.research.google.com/assets/colab-badge.svg\" alt=\"Open In Colab\"/></a>"
      ]
    },
    {
      "cell_type": "markdown",
      "source": [
        "# Программирование на языке Python.\n",
        "\n",
        "Преподаватель: Горохов Олег Евгеньевич.\n",
        "\n",
        "e-mail: gorokhov-oe@cs.msu.ru\n",
        "\n",
        "\n"
      ],
      "metadata": {
        "id": "hd4GAd_in_L_"
      }
    },
    {
      "cell_type": "markdown",
      "source": [
        "# Практическая работа № 2. Исследование моделей регрессии. Sklearn. Вариант 2. Прогнозирование числа прослушиваний песен."
      ],
      "metadata": {
        "id": "6QZ_fBSroeIn"
      }
    },
    {
      "cell_type": "markdown",
      "source": [
        "В рамках данной практической работы мы предлагаем вам самостоятельно решить задачу регрессии и предсказать число прослушиваний (стримов) трека в Spotify на основании полезной информации, полученной из различных площадок (Spotify, Apple Music, Deezer и Shazam).\n",
        "\n",
        "Полное описание набора данных приводится на сайте [Kaggle](https://www.kaggle.com/datasets/nelgiriyewithana/top-spotify-songs-2023).\n",
        "\n",
        "На сайте можно найти карту данных (Data Card) с описанием признаков. Также можно посмотреть примеры кода, который использовался для решения различных задач анализа данных (вкладка Code) и обсуждение набора данных (Discussion).\n",
        "\n",
        "Вам нужно будет предсказать значение колонки `streams`."
      ],
      "metadata": {
        "id": "as_mM0cmhqzY"
      }
    },
    {
      "cell_type": "markdown",
      "source": [
        "## 1. Считывание данных"
      ],
      "metadata": {
        "id": "6elofER5j-HR"
      }
    },
    {
      "cell_type": "markdown",
      "source": [
        "Скачайте тренировочные данные (признаки и метки) и сохраните их в Google Colab в файл с именами `train_features.csv` и `train_labels.csv`:"
      ],
      "metadata": {
        "id": "5TKoR_PtkBMc"
      }
    },
    {
      "cell_type": "code",
      "source": [
        "# Этот код менять не нужно. Его достаточно просто запустить!\n",
        "!wget -O \"train_features.csv\" \"https://raw.githubusercontent.com/legas377/TestRepository/main/spotify_train_features.csv\"\n",
        "!wget -O \"train_labels.csv\" \"https://raw.githubusercontent.com/legas377/TestRepository/main/spotify_train_labels.csv\""
      ],
      "metadata": {
        "id": "ypeOITKmlYZ9",
        "colab": {
          "base_uri": "https://localhost:8080/"
        },
        "outputId": "2373cd16-48de-4e6c-9800-596645b31b3d"
      },
      "execution_count": null,
      "outputs": [
        {
          "output_type": "stream",
          "name": "stdout",
          "text": [
            "--2023-11-26 18:31:07--  https://raw.githubusercontent.com/legas377/TestRepository/main/spotify_train_features.csv\n",
            "Resolving raw.githubusercontent.com (raw.githubusercontent.com)... 185.199.109.133, 185.199.108.133, 185.199.111.133, ...\n",
            "Connecting to raw.githubusercontent.com (raw.githubusercontent.com)|185.199.109.133|:443... connected.\n",
            "HTTP request sent, awaiting response... 200 OK\n",
            "Length: 70516 (69K) [text/plain]\n",
            "Saving to: ‘train_features.csv’\n",
            "\n",
            "train_features.csv  100%[===================>]  68.86K  --.-KB/s    in 0.02s   \n",
            "\n",
            "2023-11-26 18:31:07 (3.24 MB/s) - ‘train_features.csv’ saved [70516/70516]\n",
            "\n",
            "--2023-11-26 18:31:07--  https://raw.githubusercontent.com/legas377/TestRepository/main/spotify_train_labels.csv\n",
            "Resolving raw.githubusercontent.com (raw.githubusercontent.com)... 185.199.108.133, 185.199.109.133, 185.199.110.133, ...\n",
            "Connecting to raw.githubusercontent.com (raw.githubusercontent.com)|185.199.108.133|:443... connected.\n",
            "HTTP request sent, awaiting response... 200 OK\n",
            "Length: 10031 (9.8K) [text/plain]\n",
            "Saving to: ‘train_labels.csv’\n",
            "\n",
            "train_labels.csv    100%[===================>]   9.80K  --.-KB/s    in 0s      \n",
            "\n",
            "2023-11-26 18:31:07 (65.5 MB/s) - ‘train_labels.csv’ saved [10031/10031]\n",
            "\n"
          ]
        }
      ]
    },
    {
      "cell_type": "markdown",
      "source": [
        "Аналогично скачайте тестовые данные. По ним нам неизвестны значения целевой переменной. Нам известны только признаки. Скачаем их и сохраним в файле `test_features.csv`:"
      ],
      "metadata": {
        "id": "LZO0VV2cRtVj"
      }
    },
    {
      "cell_type": "code",
      "source": [
        "# Этот код менять не нужно. Его достаточно просто запустить!\n",
        "!wget -O \"test_features.csv\" \"https://raw.githubusercontent.com/legas377/TestRepository/main/spotify_test_features.csv\""
      ],
      "metadata": {
        "colab": {
          "base_uri": "https://localhost:8080/"
        },
        "id": "tGiLECGoR-Ig",
        "outputId": "1c266ce5-257e-46e4-e565-7fed9c64b838"
      },
      "execution_count": null,
      "outputs": [
        {
          "output_type": "stream",
          "name": "stdout",
          "text": [
            "--2023-11-26 18:31:10--  https://raw.githubusercontent.com/legas377/TestRepository/main/spotify_test_features.csv\n",
            "Resolving raw.githubusercontent.com (raw.githubusercontent.com)... 185.199.108.133, 185.199.109.133, 185.199.110.133, ...\n",
            "Connecting to raw.githubusercontent.com (raw.githubusercontent.com)|185.199.108.133|:443... connected.\n",
            "HTTP request sent, awaiting response... 200 OK\n",
            "Length: 30148 (29K) [text/plain]\n",
            "Saving to: ‘test_features.csv’\n",
            "\n",
            "\rtest_features.csv     0%[                    ]       0  --.-KB/s               \rtest_features.csv   100%[===================>]  29.44K  --.-KB/s    in 0.002s  \n",
            "\n",
            "2023-11-26 18:31:10 (12.1 MB/s) - ‘test_features.csv’ saved [30148/30148]\n",
            "\n"
          ]
        }
      ]
    },
    {
      "cell_type": "markdown",
      "source": [
        "Импортируйте библиотеку `pandas` под именем `pd`:"
      ],
      "metadata": {
        "id": "qh5HD-IxmlKP"
      }
    },
    {
      "cell_type": "code",
      "source": [
        "import pandas as pd"
      ],
      "metadata": {
        "id": "SWAKqMcQmvf7"
      },
      "execution_count": null,
      "outputs": []
    },
    {
      "cell_type": "markdown",
      "source": [
        "Считаем признаки для тренировочной выборки из файла с именем `train_features.csv` в датафрейм с именем `X_train` (с помощью `pd.read_csv()`):"
      ],
      "metadata": {
        "id": "-GU4Fnajm-gU"
      }
    },
    {
      "cell_type": "code",
      "source": [
        "X_train = pd.read_csv('train_features.csv', index_col=0, encoding='ISO-8859-1', header=0, thousands=',')"
      ],
      "metadata": {
        "id": "jFdAcgKFnTAw"
      },
      "execution_count": null,
      "outputs": []
    },
    {
      "cell_type": "markdown",
      "source": [
        "Аналогично скачаем значения целевой переменной и сохраним их в объекте с именем `y`:"
      ],
      "metadata": {
        "id": "qRvFBgiUS6Uu"
      }
    },
    {
      "cell_type": "code",
      "source": [
        "y_train = pd.read_csv('train_labels.csv', index_col=0, encoding='ISO-8859-1', header=0, thousands=',')"
      ],
      "metadata": {
        "id": "WyWPKI9ITK_p"
      },
      "execution_count": null,
      "outputs": []
    },
    {
      "cell_type": "markdown",
      "source": [
        "Аналогично сохраним признаки для тестовой выборки в переменной `X_test`:"
      ],
      "metadata": {
        "id": "O35ehGZKTRWv"
      }
    },
    {
      "cell_type": "code",
      "source": [
        "X_test = pd.read_csv('test_features.csv', index_col=0, encoding='ISO-8859-1', header=0, thousands=',')"
      ],
      "metadata": {
        "id": "ilv6oMgwTY--"
      },
      "execution_count": null,
      "outputs": []
    },
    {
      "cell_type": "markdown",
      "source": [
        "## 2. Знакомство с данными"
      ],
      "metadata": {
        "id": "b--g9-SynXnB"
      }
    },
    {
      "cell_type": "markdown",
      "source": [
        "Давайте познакомимся с данными, выведя по 5 строк для тренировочной и тестовой выборки:"
      ],
      "metadata": {
        "id": "mCEIwN82nhMe"
      }
    },
    {
      "cell_type": "code",
      "source": [
        "X_train.head(5)"
      ],
      "metadata": {
        "id": "nN48Cojmoshm",
        "colab": {
          "base_uri": "https://localhost:8080/",
          "height": 290
        },
        "outputId": "3404e364-d9a3-432c-9c6b-efacb582d02d"
      },
      "execution_count": null,
      "outputs": [
        {
          "output_type": "execute_result",
          "data": {
            "text/plain": [
              "           track_name        artist(s)_name  artist_count  released_year  \\\n",
              "316         You Proof         Morgan Wallen             1           2022   \n",
              "695         Adore You          Harry Styles             1           2019   \n",
              "212  Piï¿½ï¿½man Deï¿  Semicenk, Doï¿½ï¿½u              2           2023   \n",
              "79    CORAZï¿½ï¿½N VA         Maria Becerra             1           2023   \n",
              "148        Those Eyes              New West             1           2019   \n",
              "\n",
              "     released_month  released_day  in_spotify_playlists  in_spotify_charts  \\\n",
              "316               5            13                  2128                  9   \n",
              "695              12             6                 13454                  1   \n",
              "212               6             2                   185                  3   \n",
              "79                6            22                   370                 20   \n",
              "148               5            10                  1507                 14   \n",
              "\n",
              "     in_apple_playlists  in_apple_charts  ...  bpm  key   mode  \\\n",
              "316                  37               88  ...  120    A  Major   \n",
              "695                 246               71  ...   99   G#  Major   \n",
              "212                   5                6  ...   98   A#  Minor   \n",
              "79                   12               16  ...   98   C#  Major   \n",
              "148                  24               71  ...  120    E  Major   \n",
              "\n",
              "     danceability_% valence_% energy_%  acousticness_%  instrumentalness_%  \\\n",
              "316              73        64       85              25                   0   \n",
              "695              68        57       77               2                   0   \n",
              "212              73        45       62              28                   0   \n",
              "79               68        40       79              33                   0   \n",
              "148              60        24       35              73                   0   \n",
              "\n",
              "     liveness_%  speechiness_%  \n",
              "316          61              3  \n",
              "695          10              5  \n",
              "212          13             13  \n",
              "79           30              6  \n",
              "148          31              3  \n",
              "\n",
              "[5 rows x 23 columns]"
            ],
            "text/html": [
              "\n",
              "  <div id=\"df-1e7fc999-cdb5-4d97-aa76-168a2dde049c\" class=\"colab-df-container\">\n",
              "    <div>\n",
              "<style scoped>\n",
              "    .dataframe tbody tr th:only-of-type {\n",
              "        vertical-align: middle;\n",
              "    }\n",
              "\n",
              "    .dataframe tbody tr th {\n",
              "        vertical-align: top;\n",
              "    }\n",
              "\n",
              "    .dataframe thead th {\n",
              "        text-align: right;\n",
              "    }\n",
              "</style>\n",
              "<table border=\"1\" class=\"dataframe\">\n",
              "  <thead>\n",
              "    <tr style=\"text-align: right;\">\n",
              "      <th></th>\n",
              "      <th>track_name</th>\n",
              "      <th>artist(s)_name</th>\n",
              "      <th>artist_count</th>\n",
              "      <th>released_year</th>\n",
              "      <th>released_month</th>\n",
              "      <th>released_day</th>\n",
              "      <th>in_spotify_playlists</th>\n",
              "      <th>in_spotify_charts</th>\n",
              "      <th>in_apple_playlists</th>\n",
              "      <th>in_apple_charts</th>\n",
              "      <th>...</th>\n",
              "      <th>bpm</th>\n",
              "      <th>key</th>\n",
              "      <th>mode</th>\n",
              "      <th>danceability_%</th>\n",
              "      <th>valence_%</th>\n",
              "      <th>energy_%</th>\n",
              "      <th>acousticness_%</th>\n",
              "      <th>instrumentalness_%</th>\n",
              "      <th>liveness_%</th>\n",
              "      <th>speechiness_%</th>\n",
              "    </tr>\n",
              "  </thead>\n",
              "  <tbody>\n",
              "    <tr>\n",
              "      <th>316</th>\n",
              "      <td>You Proof</td>\n",
              "      <td>Morgan Wallen</td>\n",
              "      <td>1</td>\n",
              "      <td>2022</td>\n",
              "      <td>5</td>\n",
              "      <td>13</td>\n",
              "      <td>2128</td>\n",
              "      <td>9</td>\n",
              "      <td>37</td>\n",
              "      <td>88</td>\n",
              "      <td>...</td>\n",
              "      <td>120</td>\n",
              "      <td>A</td>\n",
              "      <td>Major</td>\n",
              "      <td>73</td>\n",
              "      <td>64</td>\n",
              "      <td>85</td>\n",
              "      <td>25</td>\n",
              "      <td>0</td>\n",
              "      <td>61</td>\n",
              "      <td>3</td>\n",
              "    </tr>\n",
              "    <tr>\n",
              "      <th>695</th>\n",
              "      <td>Adore You</td>\n",
              "      <td>Harry Styles</td>\n",
              "      <td>1</td>\n",
              "      <td>2019</td>\n",
              "      <td>12</td>\n",
              "      <td>6</td>\n",
              "      <td>13454</td>\n",
              "      <td>1</td>\n",
              "      <td>246</td>\n",
              "      <td>71</td>\n",
              "      <td>...</td>\n",
              "      <td>99</td>\n",
              "      <td>G#</td>\n",
              "      <td>Major</td>\n",
              "      <td>68</td>\n",
              "      <td>57</td>\n",
              "      <td>77</td>\n",
              "      <td>2</td>\n",
              "      <td>0</td>\n",
              "      <td>10</td>\n",
              "      <td>5</td>\n",
              "    </tr>\n",
              "    <tr>\n",
              "      <th>212</th>\n",
              "      <td>Piï¿½ï¿½man Deï¿</td>\n",
              "      <td>Semicenk, Doï¿½ï¿½u</td>\n",
              "      <td>2</td>\n",
              "      <td>2023</td>\n",
              "      <td>6</td>\n",
              "      <td>2</td>\n",
              "      <td>185</td>\n",
              "      <td>3</td>\n",
              "      <td>5</td>\n",
              "      <td>6</td>\n",
              "      <td>...</td>\n",
              "      <td>98</td>\n",
              "      <td>A#</td>\n",
              "      <td>Minor</td>\n",
              "      <td>73</td>\n",
              "      <td>45</td>\n",
              "      <td>62</td>\n",
              "      <td>28</td>\n",
              "      <td>0</td>\n",
              "      <td>13</td>\n",
              "      <td>13</td>\n",
              "    </tr>\n",
              "    <tr>\n",
              "      <th>79</th>\n",
              "      <td>CORAZï¿½ï¿½N VA</td>\n",
              "      <td>Maria Becerra</td>\n",
              "      <td>1</td>\n",
              "      <td>2023</td>\n",
              "      <td>6</td>\n",
              "      <td>22</td>\n",
              "      <td>370</td>\n",
              "      <td>20</td>\n",
              "      <td>12</td>\n",
              "      <td>16</td>\n",
              "      <td>...</td>\n",
              "      <td>98</td>\n",
              "      <td>C#</td>\n",
              "      <td>Major</td>\n",
              "      <td>68</td>\n",
              "      <td>40</td>\n",
              "      <td>79</td>\n",
              "      <td>33</td>\n",
              "      <td>0</td>\n",
              "      <td>30</td>\n",
              "      <td>6</td>\n",
              "    </tr>\n",
              "    <tr>\n",
              "      <th>148</th>\n",
              "      <td>Those Eyes</td>\n",
              "      <td>New West</td>\n",
              "      <td>1</td>\n",
              "      <td>2019</td>\n",
              "      <td>5</td>\n",
              "      <td>10</td>\n",
              "      <td>1507</td>\n",
              "      <td>14</td>\n",
              "      <td>24</td>\n",
              "      <td>71</td>\n",
              "      <td>...</td>\n",
              "      <td>120</td>\n",
              "      <td>E</td>\n",
              "      <td>Major</td>\n",
              "      <td>60</td>\n",
              "      <td>24</td>\n",
              "      <td>35</td>\n",
              "      <td>73</td>\n",
              "      <td>0</td>\n",
              "      <td>31</td>\n",
              "      <td>3</td>\n",
              "    </tr>\n",
              "  </tbody>\n",
              "</table>\n",
              "<p>5 rows × 23 columns</p>\n",
              "</div>\n",
              "    <div class=\"colab-df-buttons\">\n",
              "\n",
              "  <div class=\"colab-df-container\">\n",
              "    <button class=\"colab-df-convert\" onclick=\"convertToInteractive('df-1e7fc999-cdb5-4d97-aa76-168a2dde049c')\"\n",
              "            title=\"Convert this dataframe to an interactive table.\"\n",
              "            style=\"display:none;\">\n",
              "\n",
              "  <svg xmlns=\"http://www.w3.org/2000/svg\" height=\"24px\" viewBox=\"0 -960 960 960\">\n",
              "    <path d=\"M120-120v-720h720v720H120Zm60-500h600v-160H180v160Zm220 220h160v-160H400v160Zm0 220h160v-160H400v160ZM180-400h160v-160H180v160Zm440 0h160v-160H620v160ZM180-180h160v-160H180v160Zm440 0h160v-160H620v160Z\"/>\n",
              "  </svg>\n",
              "    </button>\n",
              "\n",
              "  <style>\n",
              "    .colab-df-container {\n",
              "      display:flex;\n",
              "      gap: 12px;\n",
              "    }\n",
              "\n",
              "    .colab-df-convert {\n",
              "      background-color: #E8F0FE;\n",
              "      border: none;\n",
              "      border-radius: 50%;\n",
              "      cursor: pointer;\n",
              "      display: none;\n",
              "      fill: #1967D2;\n",
              "      height: 32px;\n",
              "      padding: 0 0 0 0;\n",
              "      width: 32px;\n",
              "    }\n",
              "\n",
              "    .colab-df-convert:hover {\n",
              "      background-color: #E2EBFA;\n",
              "      box-shadow: 0px 1px 2px rgba(60, 64, 67, 0.3), 0px 1px 3px 1px rgba(60, 64, 67, 0.15);\n",
              "      fill: #174EA6;\n",
              "    }\n",
              "\n",
              "    .colab-df-buttons div {\n",
              "      margin-bottom: 4px;\n",
              "    }\n",
              "\n",
              "    [theme=dark] .colab-df-convert {\n",
              "      background-color: #3B4455;\n",
              "      fill: #D2E3FC;\n",
              "    }\n",
              "\n",
              "    [theme=dark] .colab-df-convert:hover {\n",
              "      background-color: #434B5C;\n",
              "      box-shadow: 0px 1px 3px 1px rgba(0, 0, 0, 0.15);\n",
              "      filter: drop-shadow(0px 1px 2px rgba(0, 0, 0, 0.3));\n",
              "      fill: #FFFFFF;\n",
              "    }\n",
              "  </style>\n",
              "\n",
              "    <script>\n",
              "      const buttonEl =\n",
              "        document.querySelector('#df-1e7fc999-cdb5-4d97-aa76-168a2dde049c button.colab-df-convert');\n",
              "      buttonEl.style.display =\n",
              "        google.colab.kernel.accessAllowed ? 'block' : 'none';\n",
              "\n",
              "      async function convertToInteractive(key) {\n",
              "        const element = document.querySelector('#df-1e7fc999-cdb5-4d97-aa76-168a2dde049c');\n",
              "        const dataTable =\n",
              "          await google.colab.kernel.invokeFunction('convertToInteractive',\n",
              "                                                    [key], {});\n",
              "        if (!dataTable) return;\n",
              "\n",
              "        const docLinkHtml = 'Like what you see? Visit the ' +\n",
              "          '<a target=\"_blank\" href=https://colab.research.google.com/notebooks/data_table.ipynb>data table notebook</a>'\n",
              "          + ' to learn more about interactive tables.';\n",
              "        element.innerHTML = '';\n",
              "        dataTable['output_type'] = 'display_data';\n",
              "        await google.colab.output.renderOutput(dataTable, element);\n",
              "        const docLink = document.createElement('div');\n",
              "        docLink.innerHTML = docLinkHtml;\n",
              "        element.appendChild(docLink);\n",
              "      }\n",
              "    </script>\n",
              "  </div>\n",
              "\n",
              "\n",
              "<div id=\"df-92185a75-5247-408f-a702-76319871f030\">\n",
              "  <button class=\"colab-df-quickchart\" onclick=\"quickchart('df-92185a75-5247-408f-a702-76319871f030')\"\n",
              "            title=\"Suggest charts\"\n",
              "            style=\"display:none;\">\n",
              "\n",
              "<svg xmlns=\"http://www.w3.org/2000/svg\" height=\"24px\"viewBox=\"0 0 24 24\"\n",
              "     width=\"24px\">\n",
              "    <g>\n",
              "        <path d=\"M19 3H5c-1.1 0-2 .9-2 2v14c0 1.1.9 2 2 2h14c1.1 0 2-.9 2-2V5c0-1.1-.9-2-2-2zM9 17H7v-7h2v7zm4 0h-2V7h2v10zm4 0h-2v-4h2v4z\"/>\n",
              "    </g>\n",
              "</svg>\n",
              "  </button>\n",
              "\n",
              "<style>\n",
              "  .colab-df-quickchart {\n",
              "      --bg-color: #E8F0FE;\n",
              "      --fill-color: #1967D2;\n",
              "      --hover-bg-color: #E2EBFA;\n",
              "      --hover-fill-color: #174EA6;\n",
              "      --disabled-fill-color: #AAA;\n",
              "      --disabled-bg-color: #DDD;\n",
              "  }\n",
              "\n",
              "  [theme=dark] .colab-df-quickchart {\n",
              "      --bg-color: #3B4455;\n",
              "      --fill-color: #D2E3FC;\n",
              "      --hover-bg-color: #434B5C;\n",
              "      --hover-fill-color: #FFFFFF;\n",
              "      --disabled-bg-color: #3B4455;\n",
              "      --disabled-fill-color: #666;\n",
              "  }\n",
              "\n",
              "  .colab-df-quickchart {\n",
              "    background-color: var(--bg-color);\n",
              "    border: none;\n",
              "    border-radius: 50%;\n",
              "    cursor: pointer;\n",
              "    display: none;\n",
              "    fill: var(--fill-color);\n",
              "    height: 32px;\n",
              "    padding: 0;\n",
              "    width: 32px;\n",
              "  }\n",
              "\n",
              "  .colab-df-quickchart:hover {\n",
              "    background-color: var(--hover-bg-color);\n",
              "    box-shadow: 0 1px 2px rgba(60, 64, 67, 0.3), 0 1px 3px 1px rgba(60, 64, 67, 0.15);\n",
              "    fill: var(--button-hover-fill-color);\n",
              "  }\n",
              "\n",
              "  .colab-df-quickchart-complete:disabled,\n",
              "  .colab-df-quickchart-complete:disabled:hover {\n",
              "    background-color: var(--disabled-bg-color);\n",
              "    fill: var(--disabled-fill-color);\n",
              "    box-shadow: none;\n",
              "  }\n",
              "\n",
              "  .colab-df-spinner {\n",
              "    border: 2px solid var(--fill-color);\n",
              "    border-color: transparent;\n",
              "    border-bottom-color: var(--fill-color);\n",
              "    animation:\n",
              "      spin 1s steps(1) infinite;\n",
              "  }\n",
              "\n",
              "  @keyframes spin {\n",
              "    0% {\n",
              "      border-color: transparent;\n",
              "      border-bottom-color: var(--fill-color);\n",
              "      border-left-color: var(--fill-color);\n",
              "    }\n",
              "    20% {\n",
              "      border-color: transparent;\n",
              "      border-left-color: var(--fill-color);\n",
              "      border-top-color: var(--fill-color);\n",
              "    }\n",
              "    30% {\n",
              "      border-color: transparent;\n",
              "      border-left-color: var(--fill-color);\n",
              "      border-top-color: var(--fill-color);\n",
              "      border-right-color: var(--fill-color);\n",
              "    }\n",
              "    40% {\n",
              "      border-color: transparent;\n",
              "      border-right-color: var(--fill-color);\n",
              "      border-top-color: var(--fill-color);\n",
              "    }\n",
              "    60% {\n",
              "      border-color: transparent;\n",
              "      border-right-color: var(--fill-color);\n",
              "    }\n",
              "    80% {\n",
              "      border-color: transparent;\n",
              "      border-right-color: var(--fill-color);\n",
              "      border-bottom-color: var(--fill-color);\n",
              "    }\n",
              "    90% {\n",
              "      border-color: transparent;\n",
              "      border-bottom-color: var(--fill-color);\n",
              "    }\n",
              "  }\n",
              "</style>\n",
              "\n",
              "  <script>\n",
              "    async function quickchart(key) {\n",
              "      const quickchartButtonEl =\n",
              "        document.querySelector('#' + key + ' button');\n",
              "      quickchartButtonEl.disabled = true;  // To prevent multiple clicks.\n",
              "      quickchartButtonEl.classList.add('colab-df-spinner');\n",
              "      try {\n",
              "        const charts = await google.colab.kernel.invokeFunction(\n",
              "            'suggestCharts', [key], {});\n",
              "      } catch (error) {\n",
              "        console.error('Error during call to suggestCharts:', error);\n",
              "      }\n",
              "      quickchartButtonEl.classList.remove('colab-df-spinner');\n",
              "      quickchartButtonEl.classList.add('colab-df-quickchart-complete');\n",
              "    }\n",
              "    (() => {\n",
              "      let quickchartButtonEl =\n",
              "        document.querySelector('#df-92185a75-5247-408f-a702-76319871f030 button');\n",
              "      quickchartButtonEl.style.display =\n",
              "        google.colab.kernel.accessAllowed ? 'block' : 'none';\n",
              "    })();\n",
              "  </script>\n",
              "</div>\n",
              "    </div>\n",
              "  </div>\n"
            ]
          },
          "metadata": {},
          "execution_count": 7
        }
      ]
    },
    {
      "cell_type": "code",
      "source": [
        "X_test.head(5)"
      ],
      "metadata": {
        "colab": {
          "base_uri": "https://localhost:8080/",
          "height": 325
        },
        "id": "hi-RF2tsURpL",
        "outputId": "914cf122-eaff-4c7d-a65b-f695564de1cc"
      },
      "execution_count": null,
      "outputs": [
        {
          "output_type": "execute_result",
          "data": {
            "text/plain": [
              "         track_name                   artist(s)_name  artist_count  \\\n",
              "199      Take On Me                             a-ha             1   \n",
              "420          Rumble  Skrillex, Flowdan, Fred again..             3   \n",
              "694  NEW MAGIC WAND               Tyler, The Creator             2   \n",
              "750         Falling                     Harry Styles             1   \n",
              "507           Pepas                          Farruko             1   \n",
              "\n",
              "     released_year  released_month  released_day  in_spotify_playlists  \\\n",
              "199           1984              10            19                 44927   \n",
              "420           2022               1            17                  2849   \n",
              "694           2019               5            16                  4708   \n",
              "750           2019              12            13                  7556   \n",
              "507           2021               6            24                 14114   \n",
              "\n",
              "     in_spotify_charts  in_apple_playlists  in_apple_charts  ...  bpm  key  \\\n",
              "199                 17                  34                0  ...   84   F#   \n",
              "420                  0                  39               45  ...  140   C#   \n",
              "694                  0                  13                7  ...  140    F   \n",
              "750                  0                 124               24  ...  110    E   \n",
              "507                 17                 252              109  ...  130    G   \n",
              "\n",
              "      mode  danceability_% valence_% energy_%  acousticness_%  \\\n",
              "199  Minor              57        86       90               2   \n",
              "420  Minor              81         6       84               5   \n",
              "694  Minor              62        46       73              10   \n",
              "750  Major              57         6       27              84   \n",
              "507  Major              76        44       77               1   \n",
              "\n",
              "     instrumentalness_%  liveness_%  speechiness_%  \n",
              "199                   0           9              5  \n",
              "420                  23           6              6  \n",
              "694                   0          67             11  \n",
              "750                   0           9              3  \n",
              "507                   0          13              3  \n",
              "\n",
              "[5 rows x 23 columns]"
            ],
            "text/html": [
              "\n",
              "  <div id=\"df-cc05e440-be4b-4e05-a7f1-e88ae259230b\" class=\"colab-df-container\">\n",
              "    <div>\n",
              "<style scoped>\n",
              "    .dataframe tbody tr th:only-of-type {\n",
              "        vertical-align: middle;\n",
              "    }\n",
              "\n",
              "    .dataframe tbody tr th {\n",
              "        vertical-align: top;\n",
              "    }\n",
              "\n",
              "    .dataframe thead th {\n",
              "        text-align: right;\n",
              "    }\n",
              "</style>\n",
              "<table border=\"1\" class=\"dataframe\">\n",
              "  <thead>\n",
              "    <tr style=\"text-align: right;\">\n",
              "      <th></th>\n",
              "      <th>track_name</th>\n",
              "      <th>artist(s)_name</th>\n",
              "      <th>artist_count</th>\n",
              "      <th>released_year</th>\n",
              "      <th>released_month</th>\n",
              "      <th>released_day</th>\n",
              "      <th>in_spotify_playlists</th>\n",
              "      <th>in_spotify_charts</th>\n",
              "      <th>in_apple_playlists</th>\n",
              "      <th>in_apple_charts</th>\n",
              "      <th>...</th>\n",
              "      <th>bpm</th>\n",
              "      <th>key</th>\n",
              "      <th>mode</th>\n",
              "      <th>danceability_%</th>\n",
              "      <th>valence_%</th>\n",
              "      <th>energy_%</th>\n",
              "      <th>acousticness_%</th>\n",
              "      <th>instrumentalness_%</th>\n",
              "      <th>liveness_%</th>\n",
              "      <th>speechiness_%</th>\n",
              "    </tr>\n",
              "  </thead>\n",
              "  <tbody>\n",
              "    <tr>\n",
              "      <th>199</th>\n",
              "      <td>Take On Me</td>\n",
              "      <td>a-ha</td>\n",
              "      <td>1</td>\n",
              "      <td>1984</td>\n",
              "      <td>10</td>\n",
              "      <td>19</td>\n",
              "      <td>44927</td>\n",
              "      <td>17</td>\n",
              "      <td>34</td>\n",
              "      <td>0</td>\n",
              "      <td>...</td>\n",
              "      <td>84</td>\n",
              "      <td>F#</td>\n",
              "      <td>Minor</td>\n",
              "      <td>57</td>\n",
              "      <td>86</td>\n",
              "      <td>90</td>\n",
              "      <td>2</td>\n",
              "      <td>0</td>\n",
              "      <td>9</td>\n",
              "      <td>5</td>\n",
              "    </tr>\n",
              "    <tr>\n",
              "      <th>420</th>\n",
              "      <td>Rumble</td>\n",
              "      <td>Skrillex, Flowdan, Fred again..</td>\n",
              "      <td>3</td>\n",
              "      <td>2022</td>\n",
              "      <td>1</td>\n",
              "      <td>17</td>\n",
              "      <td>2849</td>\n",
              "      <td>0</td>\n",
              "      <td>39</td>\n",
              "      <td>45</td>\n",
              "      <td>...</td>\n",
              "      <td>140</td>\n",
              "      <td>C#</td>\n",
              "      <td>Minor</td>\n",
              "      <td>81</td>\n",
              "      <td>6</td>\n",
              "      <td>84</td>\n",
              "      <td>5</td>\n",
              "      <td>23</td>\n",
              "      <td>6</td>\n",
              "      <td>6</td>\n",
              "    </tr>\n",
              "    <tr>\n",
              "      <th>694</th>\n",
              "      <td>NEW MAGIC WAND</td>\n",
              "      <td>Tyler, The Creator</td>\n",
              "      <td>2</td>\n",
              "      <td>2019</td>\n",
              "      <td>5</td>\n",
              "      <td>16</td>\n",
              "      <td>4708</td>\n",
              "      <td>0</td>\n",
              "      <td>13</td>\n",
              "      <td>7</td>\n",
              "      <td>...</td>\n",
              "      <td>140</td>\n",
              "      <td>F</td>\n",
              "      <td>Minor</td>\n",
              "      <td>62</td>\n",
              "      <td>46</td>\n",
              "      <td>73</td>\n",
              "      <td>10</td>\n",
              "      <td>0</td>\n",
              "      <td>67</td>\n",
              "      <td>11</td>\n",
              "    </tr>\n",
              "    <tr>\n",
              "      <th>750</th>\n",
              "      <td>Falling</td>\n",
              "      <td>Harry Styles</td>\n",
              "      <td>1</td>\n",
              "      <td>2019</td>\n",
              "      <td>12</td>\n",
              "      <td>13</td>\n",
              "      <td>7556</td>\n",
              "      <td>0</td>\n",
              "      <td>124</td>\n",
              "      <td>24</td>\n",
              "      <td>...</td>\n",
              "      <td>110</td>\n",
              "      <td>E</td>\n",
              "      <td>Major</td>\n",
              "      <td>57</td>\n",
              "      <td>6</td>\n",
              "      <td>27</td>\n",
              "      <td>84</td>\n",
              "      <td>0</td>\n",
              "      <td>9</td>\n",
              "      <td>3</td>\n",
              "    </tr>\n",
              "    <tr>\n",
              "      <th>507</th>\n",
              "      <td>Pepas</td>\n",
              "      <td>Farruko</td>\n",
              "      <td>1</td>\n",
              "      <td>2021</td>\n",
              "      <td>6</td>\n",
              "      <td>24</td>\n",
              "      <td>14114</td>\n",
              "      <td>17</td>\n",
              "      <td>252</td>\n",
              "      <td>109</td>\n",
              "      <td>...</td>\n",
              "      <td>130</td>\n",
              "      <td>G</td>\n",
              "      <td>Major</td>\n",
              "      <td>76</td>\n",
              "      <td>44</td>\n",
              "      <td>77</td>\n",
              "      <td>1</td>\n",
              "      <td>0</td>\n",
              "      <td>13</td>\n",
              "      <td>3</td>\n",
              "    </tr>\n",
              "  </tbody>\n",
              "</table>\n",
              "<p>5 rows × 23 columns</p>\n",
              "</div>\n",
              "    <div class=\"colab-df-buttons\">\n",
              "\n",
              "  <div class=\"colab-df-container\">\n",
              "    <button class=\"colab-df-convert\" onclick=\"convertToInteractive('df-cc05e440-be4b-4e05-a7f1-e88ae259230b')\"\n",
              "            title=\"Convert this dataframe to an interactive table.\"\n",
              "            style=\"display:none;\">\n",
              "\n",
              "  <svg xmlns=\"http://www.w3.org/2000/svg\" height=\"24px\" viewBox=\"0 -960 960 960\">\n",
              "    <path d=\"M120-120v-720h720v720H120Zm60-500h600v-160H180v160Zm220 220h160v-160H400v160Zm0 220h160v-160H400v160ZM180-400h160v-160H180v160Zm440 0h160v-160H620v160ZM180-180h160v-160H180v160Zm440 0h160v-160H620v160Z\"/>\n",
              "  </svg>\n",
              "    </button>\n",
              "\n",
              "  <style>\n",
              "    .colab-df-container {\n",
              "      display:flex;\n",
              "      gap: 12px;\n",
              "    }\n",
              "\n",
              "    .colab-df-convert {\n",
              "      background-color: #E8F0FE;\n",
              "      border: none;\n",
              "      border-radius: 50%;\n",
              "      cursor: pointer;\n",
              "      display: none;\n",
              "      fill: #1967D2;\n",
              "      height: 32px;\n",
              "      padding: 0 0 0 0;\n",
              "      width: 32px;\n",
              "    }\n",
              "\n",
              "    .colab-df-convert:hover {\n",
              "      background-color: #E2EBFA;\n",
              "      box-shadow: 0px 1px 2px rgba(60, 64, 67, 0.3), 0px 1px 3px 1px rgba(60, 64, 67, 0.15);\n",
              "      fill: #174EA6;\n",
              "    }\n",
              "\n",
              "    .colab-df-buttons div {\n",
              "      margin-bottom: 4px;\n",
              "    }\n",
              "\n",
              "    [theme=dark] .colab-df-convert {\n",
              "      background-color: #3B4455;\n",
              "      fill: #D2E3FC;\n",
              "    }\n",
              "\n",
              "    [theme=dark] .colab-df-convert:hover {\n",
              "      background-color: #434B5C;\n",
              "      box-shadow: 0px 1px 3px 1px rgba(0, 0, 0, 0.15);\n",
              "      filter: drop-shadow(0px 1px 2px rgba(0, 0, 0, 0.3));\n",
              "      fill: #FFFFFF;\n",
              "    }\n",
              "  </style>\n",
              "\n",
              "    <script>\n",
              "      const buttonEl =\n",
              "        document.querySelector('#df-cc05e440-be4b-4e05-a7f1-e88ae259230b button.colab-df-convert');\n",
              "      buttonEl.style.display =\n",
              "        google.colab.kernel.accessAllowed ? 'block' : 'none';\n",
              "\n",
              "      async function convertToInteractive(key) {\n",
              "        const element = document.querySelector('#df-cc05e440-be4b-4e05-a7f1-e88ae259230b');\n",
              "        const dataTable =\n",
              "          await google.colab.kernel.invokeFunction('convertToInteractive',\n",
              "                                                    [key], {});\n",
              "        if (!dataTable) return;\n",
              "\n",
              "        const docLinkHtml = 'Like what you see? Visit the ' +\n",
              "          '<a target=\"_blank\" href=https://colab.research.google.com/notebooks/data_table.ipynb>data table notebook</a>'\n",
              "          + ' to learn more about interactive tables.';\n",
              "        element.innerHTML = '';\n",
              "        dataTable['output_type'] = 'display_data';\n",
              "        await google.colab.output.renderOutput(dataTable, element);\n",
              "        const docLink = document.createElement('div');\n",
              "        docLink.innerHTML = docLinkHtml;\n",
              "        element.appendChild(docLink);\n",
              "      }\n",
              "    </script>\n",
              "  </div>\n",
              "\n",
              "\n",
              "<div id=\"df-972f38f1-dd16-4d95-8c90-884e7d3bdbd9\">\n",
              "  <button class=\"colab-df-quickchart\" onclick=\"quickchart('df-972f38f1-dd16-4d95-8c90-884e7d3bdbd9')\"\n",
              "            title=\"Suggest charts\"\n",
              "            style=\"display:none;\">\n",
              "\n",
              "<svg xmlns=\"http://www.w3.org/2000/svg\" height=\"24px\"viewBox=\"0 0 24 24\"\n",
              "     width=\"24px\">\n",
              "    <g>\n",
              "        <path d=\"M19 3H5c-1.1 0-2 .9-2 2v14c0 1.1.9 2 2 2h14c1.1 0 2-.9 2-2V5c0-1.1-.9-2-2-2zM9 17H7v-7h2v7zm4 0h-2V7h2v10zm4 0h-2v-4h2v4z\"/>\n",
              "    </g>\n",
              "</svg>\n",
              "  </button>\n",
              "\n",
              "<style>\n",
              "  .colab-df-quickchart {\n",
              "      --bg-color: #E8F0FE;\n",
              "      --fill-color: #1967D2;\n",
              "      --hover-bg-color: #E2EBFA;\n",
              "      --hover-fill-color: #174EA6;\n",
              "      --disabled-fill-color: #AAA;\n",
              "      --disabled-bg-color: #DDD;\n",
              "  }\n",
              "\n",
              "  [theme=dark] .colab-df-quickchart {\n",
              "      --bg-color: #3B4455;\n",
              "      --fill-color: #D2E3FC;\n",
              "      --hover-bg-color: #434B5C;\n",
              "      --hover-fill-color: #FFFFFF;\n",
              "      --disabled-bg-color: #3B4455;\n",
              "      --disabled-fill-color: #666;\n",
              "  }\n",
              "\n",
              "  .colab-df-quickchart {\n",
              "    background-color: var(--bg-color);\n",
              "    border: none;\n",
              "    border-radius: 50%;\n",
              "    cursor: pointer;\n",
              "    display: none;\n",
              "    fill: var(--fill-color);\n",
              "    height: 32px;\n",
              "    padding: 0;\n",
              "    width: 32px;\n",
              "  }\n",
              "\n",
              "  .colab-df-quickchart:hover {\n",
              "    background-color: var(--hover-bg-color);\n",
              "    box-shadow: 0 1px 2px rgba(60, 64, 67, 0.3), 0 1px 3px 1px rgba(60, 64, 67, 0.15);\n",
              "    fill: var(--button-hover-fill-color);\n",
              "  }\n",
              "\n",
              "  .colab-df-quickchart-complete:disabled,\n",
              "  .colab-df-quickchart-complete:disabled:hover {\n",
              "    background-color: var(--disabled-bg-color);\n",
              "    fill: var(--disabled-fill-color);\n",
              "    box-shadow: none;\n",
              "  }\n",
              "\n",
              "  .colab-df-spinner {\n",
              "    border: 2px solid var(--fill-color);\n",
              "    border-color: transparent;\n",
              "    border-bottom-color: var(--fill-color);\n",
              "    animation:\n",
              "      spin 1s steps(1) infinite;\n",
              "  }\n",
              "\n",
              "  @keyframes spin {\n",
              "    0% {\n",
              "      border-color: transparent;\n",
              "      border-bottom-color: var(--fill-color);\n",
              "      border-left-color: var(--fill-color);\n",
              "    }\n",
              "    20% {\n",
              "      border-color: transparent;\n",
              "      border-left-color: var(--fill-color);\n",
              "      border-top-color: var(--fill-color);\n",
              "    }\n",
              "    30% {\n",
              "      border-color: transparent;\n",
              "      border-left-color: var(--fill-color);\n",
              "      border-top-color: var(--fill-color);\n",
              "      border-right-color: var(--fill-color);\n",
              "    }\n",
              "    40% {\n",
              "      border-color: transparent;\n",
              "      border-right-color: var(--fill-color);\n",
              "      border-top-color: var(--fill-color);\n",
              "    }\n",
              "    60% {\n",
              "      border-color: transparent;\n",
              "      border-right-color: var(--fill-color);\n",
              "    }\n",
              "    80% {\n",
              "      border-color: transparent;\n",
              "      border-right-color: var(--fill-color);\n",
              "      border-bottom-color: var(--fill-color);\n",
              "    }\n",
              "    90% {\n",
              "      border-color: transparent;\n",
              "      border-bottom-color: var(--fill-color);\n",
              "    }\n",
              "  }\n",
              "</style>\n",
              "\n",
              "  <script>\n",
              "    async function quickchart(key) {\n",
              "      const quickchartButtonEl =\n",
              "        document.querySelector('#' + key + ' button');\n",
              "      quickchartButtonEl.disabled = true;  // To prevent multiple clicks.\n",
              "      quickchartButtonEl.classList.add('colab-df-spinner');\n",
              "      try {\n",
              "        const charts = await google.colab.kernel.invokeFunction(\n",
              "            'suggestCharts', [key], {});\n",
              "      } catch (error) {\n",
              "        console.error('Error during call to suggestCharts:', error);\n",
              "      }\n",
              "      quickchartButtonEl.classList.remove('colab-df-spinner');\n",
              "      quickchartButtonEl.classList.add('colab-df-quickchart-complete');\n",
              "    }\n",
              "    (() => {\n",
              "      let quickchartButtonEl =\n",
              "        document.querySelector('#df-972f38f1-dd16-4d95-8c90-884e7d3bdbd9 button');\n",
              "      quickchartButtonEl.style.display =\n",
              "        google.colab.kernel.accessAllowed ? 'block' : 'none';\n",
              "    })();\n",
              "  </script>\n",
              "</div>\n",
              "    </div>\n",
              "  </div>\n"
            ]
          },
          "metadata": {},
          "execution_count": 8
        }
      ]
    },
    {
      "cell_type": "markdown",
      "source": [
        "Обратите внимание на то, что в некоторых колонках названия треков и артистов от ображаются не совсем корректно. Это связано с тем, что названия указаны на языке исполнителя. Такие тексты могут отображаться некорректно. В принципе, можно работать и с такими некорретными названиями как с обычными строками."
      ],
      "metadata": {
        "id": "cdYcFs8QUVZP"
      }
    },
    {
      "cell_type": "markdown",
      "source": [
        "Теперь посмотрим на значения целевой переменной для тренировочной выборки:"
      ],
      "metadata": {
        "id": "Cp8B5gZHUv-k"
      }
    },
    {
      "cell_type": "code",
      "source": [
        "y_train = y_train['streams']\n",
        "y_train"
      ],
      "metadata": {
        "colab": {
          "base_uri": "https://localhost:8080/"
        },
        "id": "legDq_V9U0q8",
        "outputId": "26dd6fa8-f3f1-41c3-8098-37fd2a2b921c"
      },
      "execution_count": null,
      "outputs": [
        {
          "output_type": "execute_result",
          "data": {
            "text/plain": [
              "316     367814306\n",
              "695    1439191367\n",
              "212      43522589\n",
              "79       43857627\n",
              "148     411747614\n",
              "          ...    \n",
              "106    1605224506\n",
              "270     185240616\n",
              "860     184807630\n",
              "435     181831132\n",
              "102     172825906\n",
              "Name: streams, Length: 667, dtype: object"
            ]
          },
          "metadata": {},
          "execution_count": 9
        }
      ]
    },
    {
      "cell_type": "markdown",
      "source": [
        "Обратите внимание, что тип колонки был распознан как object. Подумайте, почему это произошло и в ячейке ниже приведите значение целевой переменной к числовому виду:"
      ],
      "metadata": {
        "id": "KTIFTy0MU6du"
      }
    },
    {
      "cell_type": "code",
      "source": [
        "y_train.unique()"
      ],
      "metadata": {
        "colab": {
          "base_uri": "https://localhost:8080/"
        },
        "id": "5yO_mw4Pw1JS",
        "outputId": "1ea33e1d-ce1b-425d-95fe-51284b2bd71d"
      },
      "execution_count": null,
      "outputs": [
        {
          "output_type": "execute_result",
          "data": {
            "text/plain": [
              "array(['367814306', '1439191367', '43522589', '43857627', '411747614',\n",
              "       '42485571', '1929770265', '77377503', '1802514301', '80758350',\n",
              "       '721975598', '267758538', '167076418', '184308753', '141381703',\n",
              "       '918915401', '1735441776', '154863153', '614555082', '838586769',\n",
              "       '116599790', '1788326445', '601863821', '56533272', '203436468',\n",
              "       '137070925', '157058870', '887906111', '307370144', '1302184087',\n",
              "       '187703102', '39578178', '304118600', '430977451', '117206995',\n",
              "       '909001996', '11599388', '37307967', '109276132', '1591223784',\n",
              "       '429829812', '582981380', '30343206', '1056760045', '236872197',\n",
              "       '1661187319', '462791599', '2594040133', '1840364617', '725980112',\n",
              "       '355219175', '1159176109', '2282771485', '246376690', '147538971',\n",
              "       '32761689', '611700552', '197643795', '115010040', '127026613',\n",
              "       '428685680', '663832097', '284819874', '112436403', '331511413',\n",
              "       '47956378', '2808096550', '1127468248', '838079900', '110649992',\n",
              "       '256483385', '362361576', '690104769', '1858144199', '115364561',\n",
              "       '530511203', '49262961', '326792833', '105062254', '177740666',\n",
              "       '73981293', '189476119', '951637566', '123132751', '720825549',\n",
              "       '1210599487', '540539717', '465959382', '335222234', '154119539',\n",
              "       '221752937', '2197010679', '263453310', '39228929', '156338624',\n",
              "       '327498031', '104992946', '61105704', '70069745', '380726517',\n",
              "       '646886885', '782369383', '1316855716', '1271293243', '1435127549',\n",
              "       '1479264469', '579395142', '60350538', '287201015', '185408548',\n",
              "       '239411309', '481697415', '1445941661', '363467642', '1113838873',\n",
              "       '2159346687', '498960285', '421040617', '71095708', '621660989',\n",
              "       '24975653', '956865266', '233671263', '309483971', '1356565093',\n",
              "       '36912123', '41924466', '611994237', '1065580332', '29562220',\n",
              "       '1205951614', '202677468', '222612678', '250305248', '240684449',\n",
              "       '58054811', '88791109', '177503916', '176103902', '171788484',\n",
              "       '723894473', '1202722675', '60680939', '38411956', '58255150',\n",
              "       '323358833', '247737946', '1047101291', '1109433169', '471819764',\n",
              "       '1410088830', '741301563', '136676504', '610045621', '1970673297',\n",
              "       '882831184', '199386237', '726307468', '163284000', '489945871',\n",
              "       '311482393', '75476209', '1267333350', '789753877', '226897599',\n",
              "       '807015863', '305650299', '301051721', '118810253', '933815613',\n",
              "       '497225336', '154797871', '1163093654', '800840817', '235549288',\n",
              "       '92035115', '850608354', '263779030', '244891912', '380319238',\n",
              "       '1365184', '288101651', '3562543890', '34502215', '345903614',\n",
              "       '2420461338', '203680270', '553634067', '145458418', '1297026226',\n",
              "       '175399345', '345031710', '211372494', '1284942608', '218320587',\n",
              "       '209106362', '144584800', '227918678', '74601456', '582863434',\n",
              "       '252871192', '463564958', '263894529', '807561936', '488386797',\n",
              "       '685032533', '656013912', '131746175', '1472799873', '41210087',\n",
              "       '357580552', '841749534', '237351106', '344055883', '1329090101',\n",
              "       '191333656', '233801632', '1592909789', '485285717', '368646862',\n",
              "       '1699402402', '137123880', '14780425', '834129063', '1062345656',\n",
              "       '323437194', '1641426668', '885093467', '57089066', '317726339',\n",
              "       '248088961', '300983101', '130655803', '539595276', '665765558',\n",
              "       '1953533826', '201660859', '67540165', '240769997', '1214083358',\n",
              "       '382199619', '263280370', '236857112', '190490915', '1085685420',\n",
              "       '156777415', '1145727611', '96007391', '58687425', '238350348',\n",
              "       '139681964', '769213520', '54937991', '58473276', '298063749',\n",
              "       '159240673', '255932395', '330346424', '176290831', '107753850',\n",
              "       '372476382', '219196651', '11956641', '429504768', '338564981',\n",
              "       '783706581', '1357608774', '363369738', '313113297', '212234990',\n",
              "       '187701588', '2303033973', '583687007', '1608045237', '786181836',\n",
              "       '684675814', '573633020', '212351890', '651732901', '1200808494',\n",
              "       '185550869', '1481349984', '168448603', '61739839', '261414174',\n",
              "       '94616487', '30546883', '2322580122', '972164968', '39893489',\n",
              "       '593917618', '225093344', '367316268', '1791000570', '124407432',\n",
              "       '1131090940', '100409613', '339473453', '209768491', '283359161',\n",
              "       '146789379', '1806617704', '91656026', '141720999', '570515054',\n",
              "       '279717388', '2011464183', '394030335', '94186466', '496795686',\n",
              "       '200660871', '2565529693', '247689123', '244741137', '101114984',\n",
              "       '843309044', '356709897', '466231982', '143139338', '76767396',\n",
              "       '899183384', '118381354', '348647203', '277132266', '93587665',\n",
              "       '138517666', '1355959075', '84697729', '403097450', '395591396',\n",
              "       '170709584', '184622518', '64787943', '405136812', '106919680',\n",
              "       '132171975', '349585590', '723043854', '1304313953', '824420218',\n",
              "       '154356956', '2713922350', '675039469', '1279434863', '273005485',\n",
              "       '245400167', '189236868', '179659294', '46065667', '107255472',\n",
              "       '1241559043', '195516622', '168684524', '153240879', '198883004',\n",
              "       '178512385', '607123776', '57876440', '95053634', '1897517891',\n",
              "       '284216603', '161460990', '254218729', '295307001', '95217315',\n",
              "       '212109195', '188933502', '476244795', '496311364', '988515741',\n",
              "       '325592432', '299648208', '1115880852', '2086124197', '924193303',\n",
              "       '278920007', '293186992', '1138474110', '655466831', '174006928',\n",
              "       '31873544', '106933107', '1695712020', '383835984', '383550148',\n",
              "       '1714490998', '116144341', '1089402494', '1133865788', '317622165',\n",
              "       '179061440', '121913181', '343197054', '81419389', '110073250',\n",
              "       '1947371785', '806397070', '2762', '190625045', '777765388',\n",
              "       '1687664027', '148461629', '57312735', '412795151', '502574952',\n",
              "       '173627354', '1606986953', '342897938', '265882712', '123124076',\n",
              "       '366599607', '1406111294', '284785823', '164856284', '349746291',\n",
              "       '91781263', '66902503', '608334048', '140187018', '115331792',\n",
              "       '190981339', '213505179', '401036314', '1759567999', '155795783',\n",
              "       '312622938', '417230415', '191448892', '1690192927', '231657891',\n",
              "       '160845341', '309653982', '176474912', '116903579', '91221625',\n",
              "       '86176890', '1449779435', '178660459', '39058561', '282883169',\n",
              "       '51985779', '334733572', '624515457', '231996128', '34450974',\n",
              "       '223064273', '37778188', '57945987', '123216717', '685071800',\n",
              "       '477033549', '716591492', '1814349763', '445590495', '193443895',\n",
              "       '1624165576', '77233241', '200972675', '528544703', '381161027',\n",
              "       '319566866', '335074782', '222410722', '121189256', '65362788',\n",
              "       '58890931', '674772936', '797402345', '186104310', '170732845',\n",
              "       '73513683', '1223481149', '136996305', '258316038', '164163229',\n",
              "       '374191487', '624101957', '31959571', '223633238', '457184829',\n",
              "       '299634472', '929964809', '920797189', '123122413', '236940480',\n",
              "       '1374581173', '500340342', '236060709', '229497852', '37091576',\n",
              "       '191873381', '255120451', '144565150', '311395144', '153454328',\n",
              "       '187772591',\n",
              "       'BPM110KeyAModeMajorDanceability53Valence75Energy69Acousticness7Instrumentalness0Liveness17Speechiness3',\n",
              "       '81350745', '389771964', '510876816', '79095270', '68616963',\n",
              "       '445763624', '606361689', '461558540', '284249832', '538115192',\n",
              "       '303236322', '156898322', '223319934', '138334433', '290228626',\n",
              "       '89566512', '342779426', '2591224264', '181328253', '983637508',\n",
              "       '53603447', '1457139296', '566954746', '556585270', '391251368',\n",
              "       '1647990401', '843957510', '68895644', '86773632', '1217120710',\n",
              "       '61245289', '333146475', '822633917', '328207708', '271666301',\n",
              "       '1061966512', '705469769', '482257456', '1180896317', '122763672',\n",
              "       '506778838', '78139948', '2559529074', '720434240', '242767149',\n",
              "       '177129919', '2355719893', '146223492', '726837877', '674072710',\n",
              "       '121077868', '2513188493', '618885532', '354495408', '809306935',\n",
              "       '32526947', '2132335812', '301242089', '532336353', '150500965',\n",
              "       '153372011', '125917280', '157990698', '797196073', '2204080728',\n",
              "       '652704649', '546191065', '231332117', '135444283', '403939487',\n",
              "       '98709329', '121871870', '65719930', '96180277', '133753727',\n",
              "       '657723613', '1763363713', '694525298', '1301799902', '229473310',\n",
              "       '295998468', '71423324', '173702135', '77309611', '1256880657',\n",
              "       '480507035', '133716286', '97610446', '170413877', '354065229',\n",
              "       '2009094673', '65496046', '618990393', '479655659', '119238316',\n",
              "       '972509632', '404664135', '1022258230', '95131998', '95623148',\n",
              "       '672656250', '303216294', '126191104', '217672943', '387570742',\n",
              "       '165584767', '851070493', '297328960', '147290338', '1593270737',\n",
              "       '195918494', '93367537', '596152090', '54682594', '57144458',\n",
              "       '253650850', '339659802', '290833204', '939844851', '1692897992',\n",
              "       '85924992', '1143647827', '563902868', '2135158446', '319546754',\n",
              "       '756907987', '135723538', '50746620', '888046992', '16011326',\n",
              "       '62019074', '501541661', '1122364376', '126443991', '415932686',\n",
              "       '52135248', '116334601', '436027885', '76910644', '350381515',\n",
              "       '152850295', '160035717', '304079786', '180577478', '83021468',\n",
              "       '127309180', '743693613', '426204830', '96273746', '554875730',\n",
              "       '1553497987', '118482347', '1440757818', '94005786', '272377463',\n",
              "       '37126685', '473248298', '211050784', '1180094974', '86444842',\n",
              "       '682475162', '2557975762', '1605224506', '185240616', '184807630',\n",
              "       '181831132', '172825906'], dtype=object)"
            ]
          },
          "metadata": {},
          "execution_count": 10
        }
      ]
    },
    {
      "cell_type": "markdown",
      "source": [
        "Видим, что есть строка, не являющаяся числом. Заметим, что она содержит значения признаков. Вероятно, в тренировочной выборке есть пропуск данных, которые можно было бы заполнить этой строкой. Рассмотрим соответствующую этой строке строку X_train."
      ],
      "metadata": {
        "id": "ce17upRexSZ4"
      }
    },
    {
      "cell_type": "code",
      "source": [
        "#эта строка намного длиннее остальных, значит, она максимальная из значений, не приведённых к числовому значению\n",
        "print(y_train.loc[y_train==max(y_train.unique())])\n",
        "X_train.loc[y_train[y_train==max(y_train.unique())].index]"
      ],
      "metadata": {
        "colab": {
          "base_uri": "https://localhost:8080/",
          "height": 217
        },
        "id": "HV7heqdPxvqu",
        "outputId": "0e67a118-cf65-4818-d0d2-b383eee28bb6"
      },
      "execution_count": null,
      "outputs": [
        {
          "output_type": "stream",
          "name": "stdout",
          "text": [
            "574    BPM110KeyAModeMajorDanceability53Valence75Ener...\n",
            "Name: streams, dtype: object\n"
          ]
        },
        {
          "output_type": "execute_result",
          "data": {
            "text/plain": [
              "                              track_name     artist(s)_name  artist_count  \\\n",
              "574  Love Grows (Where My Rosemary Goes)  Edison Lighthouse             1   \n",
              "\n",
              "     released_year  released_month  released_day  in_spotify_playlists  \\\n",
              "574           1970               1             1                  2877   \n",
              "\n",
              "     in_spotify_charts  in_apple_playlists  in_apple_charts  ...  bpm  key  \\\n",
              "574                  0                  16                0  ...  110    A   \n",
              "\n",
              "      mode  danceability_% valence_% energy_%  acousticness_%  \\\n",
              "574  Major              53        75       69               7   \n",
              "\n",
              "     instrumentalness_%  liveness_%  speechiness_%  \n",
              "574                   0          17              3  \n",
              "\n",
              "[1 rows x 23 columns]"
            ],
            "text/html": [
              "\n",
              "  <div id=\"df-4d5fd199-e703-4138-9ce3-2e77fe7d8822\" class=\"colab-df-container\">\n",
              "    <div>\n",
              "<style scoped>\n",
              "    .dataframe tbody tr th:only-of-type {\n",
              "        vertical-align: middle;\n",
              "    }\n",
              "\n",
              "    .dataframe tbody tr th {\n",
              "        vertical-align: top;\n",
              "    }\n",
              "\n",
              "    .dataframe thead th {\n",
              "        text-align: right;\n",
              "    }\n",
              "</style>\n",
              "<table border=\"1\" class=\"dataframe\">\n",
              "  <thead>\n",
              "    <tr style=\"text-align: right;\">\n",
              "      <th></th>\n",
              "      <th>track_name</th>\n",
              "      <th>artist(s)_name</th>\n",
              "      <th>artist_count</th>\n",
              "      <th>released_year</th>\n",
              "      <th>released_month</th>\n",
              "      <th>released_day</th>\n",
              "      <th>in_spotify_playlists</th>\n",
              "      <th>in_spotify_charts</th>\n",
              "      <th>in_apple_playlists</th>\n",
              "      <th>in_apple_charts</th>\n",
              "      <th>...</th>\n",
              "      <th>bpm</th>\n",
              "      <th>key</th>\n",
              "      <th>mode</th>\n",
              "      <th>danceability_%</th>\n",
              "      <th>valence_%</th>\n",
              "      <th>energy_%</th>\n",
              "      <th>acousticness_%</th>\n",
              "      <th>instrumentalness_%</th>\n",
              "      <th>liveness_%</th>\n",
              "      <th>speechiness_%</th>\n",
              "    </tr>\n",
              "  </thead>\n",
              "  <tbody>\n",
              "    <tr>\n",
              "      <th>574</th>\n",
              "      <td>Love Grows (Where My Rosemary Goes)</td>\n",
              "      <td>Edison Lighthouse</td>\n",
              "      <td>1</td>\n",
              "      <td>1970</td>\n",
              "      <td>1</td>\n",
              "      <td>1</td>\n",
              "      <td>2877</td>\n",
              "      <td>0</td>\n",
              "      <td>16</td>\n",
              "      <td>0</td>\n",
              "      <td>...</td>\n",
              "      <td>110</td>\n",
              "      <td>A</td>\n",
              "      <td>Major</td>\n",
              "      <td>53</td>\n",
              "      <td>75</td>\n",
              "      <td>69</td>\n",
              "      <td>7</td>\n",
              "      <td>0</td>\n",
              "      <td>17</td>\n",
              "      <td>3</td>\n",
              "    </tr>\n",
              "  </tbody>\n",
              "</table>\n",
              "<p>1 rows × 23 columns</p>\n",
              "</div>\n",
              "    <div class=\"colab-df-buttons\">\n",
              "\n",
              "  <div class=\"colab-df-container\">\n",
              "    <button class=\"colab-df-convert\" onclick=\"convertToInteractive('df-4d5fd199-e703-4138-9ce3-2e77fe7d8822')\"\n",
              "            title=\"Convert this dataframe to an interactive table.\"\n",
              "            style=\"display:none;\">\n",
              "\n",
              "  <svg xmlns=\"http://www.w3.org/2000/svg\" height=\"24px\" viewBox=\"0 -960 960 960\">\n",
              "    <path d=\"M120-120v-720h720v720H120Zm60-500h600v-160H180v160Zm220 220h160v-160H400v160Zm0 220h160v-160H400v160ZM180-400h160v-160H180v160Zm440 0h160v-160H620v160ZM180-180h160v-160H180v160Zm440 0h160v-160H620v160Z\"/>\n",
              "  </svg>\n",
              "    </button>\n",
              "\n",
              "  <style>\n",
              "    .colab-df-container {\n",
              "      display:flex;\n",
              "      gap: 12px;\n",
              "    }\n",
              "\n",
              "    .colab-df-convert {\n",
              "      background-color: #E8F0FE;\n",
              "      border: none;\n",
              "      border-radius: 50%;\n",
              "      cursor: pointer;\n",
              "      display: none;\n",
              "      fill: #1967D2;\n",
              "      height: 32px;\n",
              "      padding: 0 0 0 0;\n",
              "      width: 32px;\n",
              "    }\n",
              "\n",
              "    .colab-df-convert:hover {\n",
              "      background-color: #E2EBFA;\n",
              "      box-shadow: 0px 1px 2px rgba(60, 64, 67, 0.3), 0px 1px 3px 1px rgba(60, 64, 67, 0.15);\n",
              "      fill: #174EA6;\n",
              "    }\n",
              "\n",
              "    .colab-df-buttons div {\n",
              "      margin-bottom: 4px;\n",
              "    }\n",
              "\n",
              "    [theme=dark] .colab-df-convert {\n",
              "      background-color: #3B4455;\n",
              "      fill: #D2E3FC;\n",
              "    }\n",
              "\n",
              "    [theme=dark] .colab-df-convert:hover {\n",
              "      background-color: #434B5C;\n",
              "      box-shadow: 0px 1px 3px 1px rgba(0, 0, 0, 0.15);\n",
              "      filter: drop-shadow(0px 1px 2px rgba(0, 0, 0, 0.3));\n",
              "      fill: #FFFFFF;\n",
              "    }\n",
              "  </style>\n",
              "\n",
              "    <script>\n",
              "      const buttonEl =\n",
              "        document.querySelector('#df-4d5fd199-e703-4138-9ce3-2e77fe7d8822 button.colab-df-convert');\n",
              "      buttonEl.style.display =\n",
              "        google.colab.kernel.accessAllowed ? 'block' : 'none';\n",
              "\n",
              "      async function convertToInteractive(key) {\n",
              "        const element = document.querySelector('#df-4d5fd199-e703-4138-9ce3-2e77fe7d8822');\n",
              "        const dataTable =\n",
              "          await google.colab.kernel.invokeFunction('convertToInteractive',\n",
              "                                                    [key], {});\n",
              "        if (!dataTable) return;\n",
              "\n",
              "        const docLinkHtml = 'Like what you see? Visit the ' +\n",
              "          '<a target=\"_blank\" href=https://colab.research.google.com/notebooks/data_table.ipynb>data table notebook</a>'\n",
              "          + ' to learn more about interactive tables.';\n",
              "        element.innerHTML = '';\n",
              "        dataTable['output_type'] = 'display_data';\n",
              "        await google.colab.output.renderOutput(dataTable, element);\n",
              "        const docLink = document.createElement('div');\n",
              "        docLink.innerHTML = docLinkHtml;\n",
              "        element.appendChild(docLink);\n",
              "      }\n",
              "    </script>\n",
              "  </div>\n",
              "\n",
              "    </div>\n",
              "  </div>\n"
            ]
          },
          "metadata": {},
          "execution_count": 11
        }
      ]
    },
    {
      "cell_type": "markdown",
      "source": [
        "Пропусков в строке нет, данные по признакам совпадают с данными в аномальной строке y_train. Осталось заменить эту строку в y_train. Заменим его медианным значением (мы могли бы просто удалить эту строку, но у нас не так много тренировочной выборки, чтобы так делать)"
      ],
      "metadata": {
        "id": "N6BK3WrE0-m0"
      }
    },
    {
      "cell_type": "markdown",
      "source": [],
      "metadata": {
        "id": "tmVhCbH9w0MD"
      }
    },
    {
      "cell_type": "code",
      "source": [
        "y_median=int(y_train.loc[y_train != max(y_train.unique())].astype(int).median())\n",
        "y_train.loc[y_train==max(y_train.unique())]=y_median\n",
        "y_train=y_train.astype(int)\n",
        "y_train"
      ],
      "metadata": {
        "id": "P9cEJfJQVLQY",
        "colab": {
          "base_uri": "https://localhost:8080/"
        },
        "outputId": "4f98ab79-65b5-4bf2-cac5-42daf7c40f2e"
      },
      "execution_count": null,
      "outputs": [
        {
          "output_type": "execute_result",
          "data": {
            "text/plain": [
              "316     367814306\n",
              "695    1439191367\n",
              "212      43522589\n",
              "79       43857627\n",
              "148     411747614\n",
              "          ...    \n",
              "106    1605224506\n",
              "270     185240616\n",
              "860     184807630\n",
              "435     181831132\n",
              "102     172825906\n",
              "Name: streams, Length: 667, dtype: int64"
            ]
          },
          "metadata": {},
          "execution_count": 12
        }
      ]
    },
    {
      "cell_type": "markdown",
      "source": [
        "Далее, до пункта 9 мы будем работать **только с тренировочной выборкой**, считая, что тестовая выборка нам неизвестна. В пункте 9 мы будем применять все алгоритмы, обученные в дальнейших пунктах."
      ],
      "metadata": {
        "id": "-QoJdeDKgI_d"
      }
    },
    {
      "cell_type": "markdown",
      "source": [
        "## 3. Знакомство с признаками"
      ],
      "metadata": {
        "id": "Gk2vEv3VuhtD"
      }
    },
    {
      "cell_type": "markdown",
      "source": [
        "Постройте описание признаков. Здесь можно пользоваться любыми знаниями и материалами. Можно использовать информацию из описания данных и примеров кода на [странице набора на сайте Kaggle](https://www.kaggle.com/datasets/nelgiriyewithana/top-spotify-songs-2023/data). В этом случае обязательно укажите ссылки на используемые материалы."
      ],
      "metadata": {
        "id": "qXuAxRiOtWpA"
      }
    },
    {
      "cell_type": "code",
      "source": [
        "print(X_train.nunique())"
      ],
      "metadata": {
        "colab": {
          "base_uri": "https://localhost:8080/"
        },
        "id": "9VVYP4JOcM9c",
        "outputId": "193b99f7-9026-4832-f953-0c9f3c341c56"
      },
      "execution_count": null,
      "outputs": [
        {
          "output_type": "stream",
          "name": "stdout",
          "text": [
            "track_name              664\n",
            "artist(s)_name          477\n",
            "artist_count              8\n",
            "released_year            46\n",
            "released_month           12\n",
            "released_day             31\n",
            "in_spotify_playlists    632\n",
            "in_spotify_charts        77\n",
            "in_apple_playlists      199\n",
            "in_apple_charts         159\n",
            "in_deezer_playlists     282\n",
            "in_deezer_charts         32\n",
            "in_shazam_charts        152\n",
            "bpm                     118\n",
            "key                      11\n",
            "mode                      2\n",
            "danceability_%           69\n",
            "valence_%                92\n",
            "energy_%                 79\n",
            "acousticness_%           95\n",
            "instrumentalness_%       31\n",
            "liveness_%               63\n",
            "speechiness_%            45\n",
            "dtype: int64\n"
          ]
        }
      ]
    },
    {
      "cell_type": "markdown",
      "source": [
        "***В этой ячейке вставьте описания признаков с указанием их типа и обоснованием выбора. Дополнительно можно использовать любую визуализацию признаков (можно ниже добавлять любое количество ячеек с кодом) и любые материалы (при этом обязательно указывать ссылки на используемые источники).***"
      ],
      "metadata": {
        "id": "WQTMnFXdtv_6"
      }
    },
    {
      "cell_type": "markdown",
      "source": [
        "Название песни уникально для каждой позиции, а любые совпадения случайны\\\n",
        "Количество уникальных значений признака artist(s)_name слишком велико, чтобы считать его категориальным признаком, но известно, что есть коллективные записи. Проверим, сколько всего уникальных артистов"
      ],
      "metadata": {
        "id": "ybUHy1CAeKbP"
      }
    },
    {
      "cell_type": "code",
      "source": [
        "artists=set()\n",
        "list=X_train['artist(s)_name'].to_list()\n",
        "for char in list:\n",
        "  char=char.split(sep=', ')\n",
        "  artists=artists.union(set(char))\n",
        "print(len(artists))"
      ],
      "metadata": {
        "colab": {
          "base_uri": "https://localhost:8080/"
        },
        "id": "xa0E6r1MoVf9",
        "outputId": "a559489f-8ead-4022-9f56-d61bf28d7bea"
      },
      "execution_count": null,
      "outputs": [
        {
          "output_type": "stream",
          "name": "stdout",
          "text": [
            "523\n"
          ]
        }
      ]
    },
    {
      "cell_type": "markdown",
      "source": [
        "Видим, что количество уникальных артистов даже больше, чем уникаьных значений artist(s)_name, то есть этот признак нельзя считать категориальным"
      ],
      "metadata": {
        "id": "jUjBH5FZvylh"
      }
    },
    {
      "cell_type": "markdown",
      "source": [
        "Рассмотрим самых часто встречающихся артистов:"
      ],
      "metadata": {
        "id": "pU45uJw0wE4n"
      }
    },
    {
      "cell_type": "code",
      "source": [
        "X_train['artist(s)_name'].value_counts().head(20).plot.bar()"
      ],
      "metadata": {
        "colab": {
          "base_uri": "https://localhost:8080/",
          "height": 556
        },
        "id": "DyIx5YWIjQYM",
        "outputId": "b4cc1b46-9ccd-4775-9013-3e5671884b31"
      },
      "execution_count": null,
      "outputs": [
        {
          "output_type": "execute_result",
          "data": {
            "text/plain": [
              "<Axes: >"
            ]
          },
          "metadata": {},
          "execution_count": 15
        },
        {
          "output_type": "display_data",
          "data": {
            "text/plain": [
              "<Figure size 640x480 with 1 Axes>"
            ],
            "image/png": "[encoded data removed]"
          },
          "metadata": {}
        }
      ]
    },
    {
      "cell_type": "markdown",
      "source": [
        "Даже самый часто встречающийся артист встречается малое количество раз по сравнению со всей выборкой, так что признак можно считать не влияющим на целевую переменную."
      ],
      "metadata": {
        "id": "yxTaUPsO5YTy"
      }
    },
    {
      "cell_type": "markdown",
      "source": [
        "**Количество артистов, принявших участие в песне**.\\\n",
        " Это категориальный признак, так как мало значений. Видим, что больше, чем в половине случаев один исполнитель, при этом более 3 исполнителей почти никогда не встречается"
      ],
      "metadata": {
        "id": "2Rh53rttjtAg"
      }
    },
    {
      "cell_type": "code",
      "source": [
        "X_train['artist_count'].hist()"
      ],
      "metadata": {
        "colab": {
          "base_uri": "https://localhost:8080/",
          "height": 447
        },
        "id": "_dzH35L0jrpW",
        "outputId": "b945226f-fcd3-49a3-c5d2-7e8b101030d7"
      },
      "execution_count": null,
      "outputs": [
        {
          "output_type": "execute_result",
          "data": {
            "text/plain": [
              "<Axes: >"
            ]
          },
          "metadata": {},
          "execution_count": 16
        },
        {
          "output_type": "display_data",
          "data": {
            "text/plain": [
              "<Figure size 640x480 with 1 Axes>"
            ],
            "image/png": "[encoded data removed]"
          },
          "metadata": {}
        }
      ]
    },
    {
      "cell_type": "markdown",
      "source": [
        "**Released_year** -- категориальный признак, так как немного значений."
      ],
      "metadata": {
        "id": "_sUUP09kwett"
      }
    },
    {
      "cell_type": "code",
      "source": [
        "X_train['released_year'].hist(bins=46)"
      ],
      "metadata": {
        "colab": {
          "base_uri": "https://localhost:8080/",
          "height": 447
        },
        "id": "S6wiWMmXwxb1",
        "outputId": "edac6e14-d15c-44c4-e697-87c08bc34a58"
      },
      "execution_count": null,
      "outputs": [
        {
          "output_type": "execute_result",
          "data": {
            "text/plain": [
              "<Axes: >"
            ]
          },
          "metadata": {},
          "execution_count": 17
        },
        {
          "output_type": "display_data",
          "data": {
            "text/plain": [
              "<Figure size 640x480 with 1 Axes>"
            ],
            "image/png": "[encoded data removed]"
          },
          "metadata": {}
        }
      ]
    },
    {
      "cell_type": "markdown",
      "source": [
        "В выборке участвуют в основном песни, вышедшие в 2020 году и позже, при этом максимальное количество песен, вышедших в 2023"
      ],
      "metadata": {
        "id": "bKYV5qGJxMfj"
      }
    },
    {
      "cell_type": "code",
      "source": [
        "#гистограмма признака bpm\n",
        "X_train['bpm'].hist()"
      ],
      "metadata": {
        "colab": {
          "base_uri": "https://localhost:8080/",
          "height": 447
        },
        "id": "2a85c0R99oNo",
        "outputId": "537f1927-c52c-405b-f53d-073852f9b344"
      },
      "execution_count": null,
      "outputs": [
        {
          "output_type": "execute_result",
          "data": {
            "text/plain": [
              "<Axes: >"
            ]
          },
          "metadata": {},
          "execution_count": 18
        },
        {
          "output_type": "display_data",
          "data": {
            "text/plain": [
              "<Figure size 640x480 with 1 Axes>"
            ],
            "image/png": "[encoded data removed]"
          },
          "metadata": {}
        }
      ]
    },
    {
      "cell_type": "markdown",
      "source": [
        "\n",
        "\n",
        "---\n",
        "\n",
        "\n",
        "Признаки key, mode, danceability_%, valence_%, energy_%, acousticness_%, instrumentalness_%, liveness_%, speechiness_% можно считать категориальными, так как они все принимают значения из конечного множества значений, при этом в несколько раз меньшего, чем вся выборка:\n",
        "\n",
        "danceability_%, valence_%, energy_%, acousticness_%, instrumentalness_%, liveness_%, speechiness_% - целый процент, то есть целое от 1 до 100 \\\n",
        "mode - major, minor, следовательно, это бинарный признак \\\n",
        "key - всего 11 уникальных значений\n",
        "\n",
        "Признаки _charts_, _playlists_ так же можно считать категориальными, так как они принимают конечное количество значений (много меньшее, чем количество песен в мире, например), в отличие от целевой переменной. С другой стороны, с ними удобнее работать как с непрерывными, так что будем считать их именно такими\n",
        "\n",
        "\n",
        "\n",
        "---\n",
        "\n"
      ],
      "metadata": {
        "id": "JaUVkJqK1-ru"
      }
    },
    {
      "cell_type": "markdown",
      "source": [
        "## 4. Отбор признаков.\n",
        "\n",
        "В используемом наборе данных присутствует много признаков. Но необязательно все будут влиять на целевую переменную. Подумайте, какие признаки в исходном наборе данных следует оставить для обучения модели.\n",
        "\n",
        "Можно использовать любые доступные знания (дисперсионный, корелляционный анализ, материалы с Kaggle).\n",
        "\n",
        "Обратите внимание, что мы пользуемся **только тренировочной выборкой**. Тестовая выборка считается неизвестной нам."
      ],
      "metadata": {
        "id": "g-IMiTlfzXIP"
      }
    },
    {
      "cell_type": "markdown",
      "source": [
        "***В этой ячейке укажите, какие признаки вы решили оставить и почему. Можно пользоваться любыми материалами и знаниями. Можно добавлять любое количество ячеек с кодом и текстом. При использовании сторонних ресурсов нужно указать ссылки на используемые источники.***"
      ],
      "metadata": {
        "id": "ynp5re2PzbbA"
      }
    },
    {
      "cell_type": "markdown",
      "source": [],
      "metadata": {
        "id": "7j3w9UD4FbuB"
      }
    },
    {
      "cell_type": "markdown",
      "source": [
        "\n",
        "\n",
        "---\n",
        "Оставим признаки, показывающие количество плейлистов и чартов на разных платформах, в которых появляется трек (признаки in__charts,\tin__playlists). \\\n",
        "Частота появления того или иного значения признаков artist_count, bpm, key, danceability_%, valence_%, energy_%, acousticness_%, instrumentalness_%, liveness_%, speechiness_% скорее зависит от того, насколько часто записывают треки с этим значением (так, bpm чаще всего в пределах от 60 до 240, из гистограммы признака для выборки видно, что он как раз в этих пределах), поэтому эти признаки будем считать не влияющими на целевую переменную. \\\n",
        "Название трека и имя артиста (артистов) не влияют на значение целевой переменной, так как они почти что уникальны (безусловно, есть артисты, треки которых более популярны, но выборка показывает, что даже у самого популярного артиста треков в выборке много меньше, чем общее количество треков). released_year, released_month, released_day очевидно не влияют на количество прослушиваний песни.\n",
        "\n",
        "\n",
        "---\n",
        "\n",
        "\n",
        "\n"
      ],
      "metadata": {
        "id": "Ax0I-t8N6JY8"
      }
    },
    {
      "cell_type": "code",
      "source": [
        "#для примера посмотрим влияние key, bpm, dancebility_% на целевую переменную\n",
        "from scipy.stats import f_oneway\n",
        "\n",
        "Xy_train=X_train\n",
        "Xy_train['streams']=y_train\n",
        "\n",
        "pair_bpm=Xy_train[['bpm', 'streams']]\n",
        "print('корреляция bpm \\n', pair_bpm.corr(), '\\n')\n",
        "\n",
        "pair_danceability=Xy_train[['danceability_%', 'streams']]\n",
        "print('корреляция danceability_% \\n', pair_danceability.corr(), '\\n')\n",
        "\n",
        "key_lst = []\n",
        "for char in Xy_train['key'].value_counts().index:\n",
        "  key_val=Xy_train.loc[Xy_train['key']==char]['streams']\n",
        "  key_val=key_val.dropna()\n",
        "  key_lst.append(key_val)\n",
        "\n",
        "print('key -', f_oneway(*key_lst))"
      ],
      "metadata": {
        "colab": {
          "base_uri": "https://localhost:8080/"
        },
        "id": "-FAzTGkK60Ru",
        "outputId": "6d31dd73-c1bd-4bc5-8ed5-bb09d758c2b3"
      },
      "execution_count": null,
      "outputs": [
        {
          "output_type": "stream",
          "name": "stdout",
          "text": [
            "корреляция bpm \n",
            "               bpm   streams\n",
            "bpm      1.000000 -0.020669\n",
            "streams -0.020669  1.000000 \n",
            "\n",
            "корреляция danceability_% \n",
            "                 danceability_%   streams\n",
            "danceability_%        1.000000 -0.091025\n",
            "streams              -0.091025  1.000000 \n",
            "\n",
            "key - F_onewayResult(statistic=0.6935508235736403, pvalue=0.7309357974478017)\n"
          ]
        }
      ]
    },
    {
      "cell_type": "markdown",
      "source": [
        "Видим, что эти признаки действительно не влияют на целевую переменную.\n",
        "\n",
        "Напротив, отобранные признаки влияют на целевую переменную (pvalue << 0.05):"
      ],
      "metadata": {
        "id": "QAULXN3FLk7M"
      }
    },
    {
      "cell_type": "code",
      "source": [
        "#для примера посмотрим на признак in_spotify_playlists, in_spotify_charts\n",
        "\n",
        "_lst = []\n",
        "for char in Xy_train['in_spotify_playlists'].value_counts().index:\n",
        "  _val=Xy_train.loc[Xy_train['in_spotify_playlists']==char]['streams']\n",
        "  _val=_val.dropna()\n",
        "  _lst.append(_val)\n",
        "\n",
        "chart_lst = []\n",
        "for char in Xy_train['in_spotify_playlists'].value_counts().index:\n",
        "  chart_val=Xy_train.loc[Xy_train['in_spotify_playlists']==char]['streams']\n",
        "  chart_val=chart_val.dropna()\n",
        "  chart_lst.append(chart_val)\n",
        "\n",
        "print('in_spotify_playlists -', f_oneway(*_lst))\n",
        "print('in_spotify_charts -', f_oneway(*chart_lst))"
      ],
      "metadata": {
        "colab": {
          "base_uri": "https://localhost:8080/"
        },
        "id": "nnP1inZYL_9b",
        "outputId": "fa928043-7296-4b9e-c700-e159fdfbabeb"
      },
      "execution_count": null,
      "outputs": [
        {
          "output_type": "stream",
          "name": "stdout",
          "text": [
            "in_spotify_playlists - F_onewayResult(statistic=8.76262736650903, pvalue=2.605708258810674e-11)\n",
            "in_spotify_charts - F_onewayResult(statistic=8.76262736650903, pvalue=2.605708258810674e-11)\n"
          ]
        }
      ]
    },
    {
      "cell_type": "markdown",
      "source": [
        "В ячейке ниже выполните отбор признаков, сохранив в переменную `X_train` только те столбцы, которые вы отобрали:"
      ],
      "metadata": {
        "id": "zTc0b7ULXYfj"
      }
    },
    {
      "cell_type": "code",
      "source": [
        "X_train=X_train[['in_spotify_playlists', 'in_spotify_charts', 'in_apple_playlists', 'in_apple_charts',\n",
        "                 'in_deezer_playlists', 'in_deezer_charts', 'in_shazam_charts']]\n",
        "X_train\n",
        "\n",
        "#тут заметила, что в некоторх столбцах тысячи считались с ','\n",
        "#переписала в самом начале считывание файла, чтобы не менять отдельно в каждой колонке...\n",
        "#нужны ведь целые значения всё-таки, а не строки"
      ],
      "metadata": {
        "id": "Gmvxd1-8XhDQ",
        "colab": {
          "base_uri": "https://localhost:8080/",
          "height": 423
        },
        "outputId": "ac1a845e-c0f7-4267-df1e-1adcb23a25e7"
      },
      "execution_count": null,
      "outputs": [
        {
          "output_type": "execute_result",
          "data": {
            "text/plain": [
              "     in_spotify_playlists  in_spotify_charts  in_apple_playlists  \\\n",
              "316                  2128                  9                  37   \n",
              "695                 13454                  1                 246   \n",
              "212                   185                  3                   5   \n",
              "79                    370                 20                  12   \n",
              "148                  1507                 14                  24   \n",
              "..                    ...                ...                 ...   \n",
              "106                 21097                 52                 384   \n",
              "270                  1282                  6                  26   \n",
              "860                   220                  4                  16   \n",
              "435                   713                  7                   2   \n",
              "102                  2528                 39                  56   \n",
              "\n",
              "     in_apple_charts  in_deezer_playlists  in_deezer_charts  in_shazam_charts  \n",
              "316               88                    9                 0              14.0  \n",
              "695               71                  519                 2               5.0  \n",
              "212                6                    4                 1              33.0  \n",
              "79                16                   18                 4              93.0  \n",
              "148               71                   44                 1             195.0  \n",
              "..               ...                  ...               ...               ...  \n",
              "106              135                 1034                37             312.0  \n",
              "270                6                   19                 0               5.0  \n",
              "860                5                    0                 0               6.0  \n",
              "435                4                    6                 0               0.0  \n",
              "102               91                   59                 3             486.0  \n",
              "\n",
              "[667 rows x 7 columns]"
            ],
            "text/html": [
              "\n",
              "  <div id=\"df-8d26abdd-aab2-4efa-8277-e3bb9a21332d\" class=\"colab-df-container\">\n",
              "    <div>\n",
              "<style scoped>\n",
              "    .dataframe tbody tr th:only-of-type {\n",
              "        vertical-align: middle;\n",
              "    }\n",
              "\n",
              "    .dataframe tbody tr th {\n",
              "        vertical-align: top;\n",
              "    }\n",
              "\n",
              "    .dataframe thead th {\n",
              "        text-align: right;\n",
              "    }\n",
              "</style>\n",
              "<table border=\"1\" class=\"dataframe\">\n",
              "  <thead>\n",
              "    <tr style=\"text-align: right;\">\n",
              "      <th></th>\n",
              "      <th>in_spotify_playlists</th>\n",
              "      <th>in_spotify_charts</th>\n",
              "      <th>in_apple_playlists</th>\n",
              "      <th>in_apple_charts</th>\n",
              "      <th>in_deezer_playlists</th>\n",
              "      <th>in_deezer_charts</th>\n",
              "      <th>in_shazam_charts</th>\n",
              "    </tr>\n",
              "  </thead>\n",
              "  <tbody>\n",
              "    <tr>\n",
              "      <th>316</th>\n",
              "      <td>2128</td>\n",
              "      <td>9</td>\n",
              "      <td>37</td>\n",
              "      <td>88</td>\n",
              "      <td>9</td>\n",
              "      <td>0</td>\n",
              "      <td>14.0</td>\n",
              "    </tr>\n",
              "    <tr>\n",
              "      <th>695</th>\n",
              "      <td>13454</td>\n",
              "      <td>1</td>\n",
              "      <td>246</td>\n",
              "      <td>71</td>\n",
              "      <td>519</td>\n",
              "      <td>2</td>\n",
              "      <td>5.0</td>\n",
              "    </tr>\n",
              "    <tr>\n",
              "      <th>212</th>\n",
              "      <td>185</td>\n",
              "      <td>3</td>\n",
              "      <td>5</td>\n",
              "      <td>6</td>\n",
              "      <td>4</td>\n",
              "      <td>1</td>\n",
              "      <td>33.0</td>\n",
              "    </tr>\n",
              "    <tr>\n",
              "      <th>79</th>\n",
              "      <td>370</td>\n",
              "      <td>20</td>\n",
              "      <td>12</td>\n",
              "      <td>16</td>\n",
              "      <td>18</td>\n",
              "      <td>4</td>\n",
              "      <td>93.0</td>\n",
              "    </tr>\n",
              "    <tr>\n",
              "      <th>148</th>\n",
              "      <td>1507</td>\n",
              "      <td>14</td>\n",
              "      <td>24</td>\n",
              "      <td>71</td>\n",
              "      <td>44</td>\n",
              "      <td>1</td>\n",
              "      <td>195.0</td>\n",
              "    </tr>\n",
              "    <tr>\n",
              "      <th>...</th>\n",
              "      <td>...</td>\n",
              "      <td>...</td>\n",
              "      <td>...</td>\n",
              "      <td>...</td>\n",
              "      <td>...</td>\n",
              "      <td>...</td>\n",
              "      <td>...</td>\n",
              "    </tr>\n",
              "    <tr>\n",
              "      <th>106</th>\n",
              "      <td>21097</td>\n",
              "      <td>52</td>\n",
              "      <td>384</td>\n",
              "      <td>135</td>\n",
              "      <td>1034</td>\n",
              "      <td>37</td>\n",
              "      <td>312.0</td>\n",
              "    </tr>\n",
              "    <tr>\n",
              "      <th>270</th>\n",
              "      <td>1282</td>\n",
              "      <td>6</td>\n",
              "      <td>26</td>\n",
              "      <td>6</td>\n",
              "      <td>19</td>\n",
              "      <td>0</td>\n",
              "      <td>5.0</td>\n",
              "    </tr>\n",
              "    <tr>\n",
              "      <th>860</th>\n",
              "      <td>220</td>\n",
              "      <td>4</td>\n",
              "      <td>16</td>\n",
              "      <td>5</td>\n",
              "      <td>0</td>\n",
              "      <td>0</td>\n",
              "      <td>6.0</td>\n",
              "    </tr>\n",
              "    <tr>\n",
              "      <th>435</th>\n",
              "      <td>713</td>\n",
              "      <td>7</td>\n",
              "      <td>2</td>\n",
              "      <td>4</td>\n",
              "      <td>6</td>\n",
              "      <td>0</td>\n",
              "      <td>0.0</td>\n",
              "    </tr>\n",
              "    <tr>\n",
              "      <th>102</th>\n",
              "      <td>2528</td>\n",
              "      <td>39</td>\n",
              "      <td>56</td>\n",
              "      <td>91</td>\n",
              "      <td>59</td>\n",
              "      <td>3</td>\n",
              "      <td>486.0</td>\n",
              "    </tr>\n",
              "  </tbody>\n",
              "</table>\n",
              "<p>667 rows × 7 columns</p>\n",
              "</div>\n",
              "    <div class=\"colab-df-buttons\">\n",
              "\n",
              "  <div class=\"colab-df-container\">\n",
              "    <button class=\"colab-df-convert\" onclick=\"convertToInteractive('df-8d26abdd-aab2-4efa-8277-e3bb9a21332d')\"\n",
              "            title=\"Convert this dataframe to an interactive table.\"\n",
              "            style=\"display:none;\">\n",
              "\n",
              "  <svg xmlns=\"http://www.w3.org/2000/svg\" height=\"24px\" viewBox=\"0 -960 960 960\">\n",
              "    <path d=\"M120-120v-720h720v720H120Zm60-500h600v-160H180v160Zm220 220h160v-160H400v160Zm0 220h160v-160H400v160ZM180-400h160v-160H180v160Zm440 0h160v-160H620v160ZM180-180h160v-160H180v160Zm440 0h160v-160H620v160Z\"/>\n",
              "  </svg>\n",
              "    </button>\n",
              "\n",
              "  <style>\n",
              "    .colab-df-container {\n",
              "      display:flex;\n",
              "      gap: 12px;\n",
              "    }\n",
              "\n",
              "    .colab-df-convert {\n",
              "      background-color: #E8F0FE;\n",
              "      border: none;\n",
              "      border-radius: 50%;\n",
              "      cursor: pointer;\n",
              "      display: none;\n",
              "      fill: #1967D2;\n",
              "      height: 32px;\n",
              "      padding: 0 0 0 0;\n",
              "      width: 32px;\n",
              "    }\n",
              "\n",
              "    .colab-df-convert:hover {\n",
              "      background-color: #E2EBFA;\n",
              "      box-shadow: 0px 1px 2px rgba(60, 64, 67, 0.3), 0px 1px 3px 1px rgba(60, 64, 67, 0.15);\n",
              "      fill: #174EA6;\n",
              "    }\n",
              "\n",
              "    .colab-df-buttons div {\n",
              "      margin-bottom: 4px;\n",
              "    }\n",
              "\n",
              "    [theme=dark] .colab-df-convert {\n",
              "      background-color: #3B4455;\n",
              "      fill: #D2E3FC;\n",
              "    }\n",
              "\n",
              "    [theme=dark] .colab-df-convert:hover {\n",
              "      background-color: #434B5C;\n",
              "      box-shadow: 0px 1px 3px 1px rgba(0, 0, 0, 0.15);\n",
              "      filter: drop-shadow(0px 1px 2px rgba(0, 0, 0, 0.3));\n",
              "      fill: #FFFFFF;\n",
              "    }\n",
              "  </style>\n",
              "\n",
              "    <script>\n",
              "      const buttonEl =\n",
              "        document.querySelector('#df-8d26abdd-aab2-4efa-8277-e3bb9a21332d button.colab-df-convert');\n",
              "      buttonEl.style.display =\n",
              "        google.colab.kernel.accessAllowed ? 'block' : 'none';\n",
              "\n",
              "      async function convertToInteractive(key) {\n",
              "        const element = document.querySelector('#df-8d26abdd-aab2-4efa-8277-e3bb9a21332d');\n",
              "        const dataTable =\n",
              "          await google.colab.kernel.invokeFunction('convertToInteractive',\n",
              "                                                    [key], {});\n",
              "        if (!dataTable) return;\n",
              "\n",
              "        const docLinkHtml = 'Like what you see? Visit the ' +\n",
              "          '<a target=\"_blank\" href=https://colab.research.google.com/notebooks/data_table.ipynb>data table notebook</a>'\n",
              "          + ' to learn more about interactive tables.';\n",
              "        element.innerHTML = '';\n",
              "        dataTable['output_type'] = 'display_data';\n",
              "        await google.colab.output.renderOutput(dataTable, element);\n",
              "        const docLink = document.createElement('div');\n",
              "        docLink.innerHTML = docLinkHtml;\n",
              "        element.appendChild(docLink);\n",
              "      }\n",
              "    </script>\n",
              "  </div>\n",
              "\n",
              "\n",
              "<div id=\"df-c10c4b1a-83a5-4634-b686-231b8a835471\">\n",
              "  <button class=\"colab-df-quickchart\" onclick=\"quickchart('df-c10c4b1a-83a5-4634-b686-231b8a835471')\"\n",
              "            title=\"Suggest charts\"\n",
              "            style=\"display:none;\">\n",
              "\n",
              "<svg xmlns=\"http://www.w3.org/2000/svg\" height=\"24px\"viewBox=\"0 0 24 24\"\n",
              "     width=\"24px\">\n",
              "    <g>\n",
              "        <path d=\"M19 3H5c-1.1 0-2 .9-2 2v14c0 1.1.9 2 2 2h14c1.1 0 2-.9 2-2V5c0-1.1-.9-2-2-2zM9 17H7v-7h2v7zm4 0h-2V7h2v10zm4 0h-2v-4h2v4z\"/>\n",
              "    </g>\n",
              "</svg>\n",
              "  </button>\n",
              "\n",
              "<style>\n",
              "  .colab-df-quickchart {\n",
              "      --bg-color: #E8F0FE;\n",
              "      --fill-color: #1967D2;\n",
              "      --hover-bg-color: #E2EBFA;\n",
              "      --hover-fill-color: #174EA6;\n",
              "      --disabled-fill-color: #AAA;\n",
              "      --disabled-bg-color: #DDD;\n",
              "  }\n",
              "\n",
              "  [theme=dark] .colab-df-quickchart {\n",
              "      --bg-color: #3B4455;\n",
              "      --fill-color: #D2E3FC;\n",
              "      --hover-bg-color: #434B5C;\n",
              "      --hover-fill-color: #FFFFFF;\n",
              "      --disabled-bg-color: #3B4455;\n",
              "      --disabled-fill-color: #666;\n",
              "  }\n",
              "\n",
              "  .colab-df-quickchart {\n",
              "    background-color: var(--bg-color);\n",
              "    border: none;\n",
              "    border-radius: 50%;\n",
              "    cursor: pointer;\n",
              "    display: none;\n",
              "    fill: var(--fill-color);\n",
              "    height: 32px;\n",
              "    padding: 0;\n",
              "    width: 32px;\n",
              "  }\n",
              "\n",
              "  .colab-df-quickchart:hover {\n",
              "    background-color: var(--hover-bg-color);\n",
              "    box-shadow: 0 1px 2px rgba(60, 64, 67, 0.3), 0 1px 3px 1px rgba(60, 64, 67, 0.15);\n",
              "    fill: var(--button-hover-fill-color);\n",
              "  }\n",
              "\n",
              "  .colab-df-quickchart-complete:disabled,\n",
              "  .colab-df-quickchart-complete:disabled:hover {\n",
              "    background-color: var(--disabled-bg-color);\n",
              "    fill: var(--disabled-fill-color);\n",
              "    box-shadow: none;\n",
              "  }\n",
              "\n",
              "  .colab-df-spinner {\n",
              "    border: 2px solid var(--fill-color);\n",
              "    border-color: transparent;\n",
              "    border-bottom-color: var(--fill-color);\n",
              "    animation:\n",
              "      spin 1s steps(1) infinite;\n",
              "  }\n",
              "\n",
              "  @keyframes spin {\n",
              "    0% {\n",
              "      border-color: transparent;\n",
              "      border-bottom-color: var(--fill-color);\n",
              "      border-left-color: var(--fill-color);\n",
              "    }\n",
              "    20% {\n",
              "      border-color: transparent;\n",
              "      border-left-color: var(--fill-color);\n",
              "      border-top-color: var(--fill-color);\n",
              "    }\n",
              "    30% {\n",
              "      border-color: transparent;\n",
              "      border-left-color: var(--fill-color);\n",
              "      border-top-color: var(--fill-color);\n",
              "      border-right-color: var(--fill-color);\n",
              "    }\n",
              "    40% {\n",
              "      border-color: transparent;\n",
              "      border-right-color: var(--fill-color);\n",
              "      border-top-color: var(--fill-color);\n",
              "    }\n",
              "    60% {\n",
              "      border-color: transparent;\n",
              "      border-right-color: var(--fill-color);\n",
              "    }\n",
              "    80% {\n",
              "      border-color: transparent;\n",
              "      border-right-color: var(--fill-color);\n",
              "      border-bottom-color: var(--fill-color);\n",
              "    }\n",
              "    90% {\n",
              "      border-color: transparent;\n",
              "      border-bottom-color: var(--fill-color);\n",
              "    }\n",
              "  }\n",
              "</style>\n",
              "\n",
              "  <script>\n",
              "    async function quickchart(key) {\n",
              "      const quickchartButtonEl =\n",
              "        document.querySelector('#' + key + ' button');\n",
              "      quickchartButtonEl.disabled = true;  // To prevent multiple clicks.\n",
              "      quickchartButtonEl.classList.add('colab-df-spinner');\n",
              "      try {\n",
              "        const charts = await google.colab.kernel.invokeFunction(\n",
              "            'suggestCharts', [key], {});\n",
              "      } catch (error) {\n",
              "        console.error('Error during call to suggestCharts:', error);\n",
              "      }\n",
              "      quickchartButtonEl.classList.remove('colab-df-spinner');\n",
              "      quickchartButtonEl.classList.add('colab-df-quickchart-complete');\n",
              "    }\n",
              "    (() => {\n",
              "      let quickchartButtonEl =\n",
              "        document.querySelector('#df-c10c4b1a-83a5-4634-b686-231b8a835471 button');\n",
              "      quickchartButtonEl.style.display =\n",
              "        google.colab.kernel.accessAllowed ? 'block' : 'none';\n",
              "    })();\n",
              "  </script>\n",
              "</div>\n",
              "    </div>\n",
              "  </div>\n"
            ]
          },
          "metadata": {},
          "execution_count": 21
        }
      ]
    },
    {
      "cell_type": "markdown",
      "source": [
        "## 5. Очистка данных и заполнение пропусков.\n",
        "\n",
        "Определите, в каких из отобранных признаков присутствуют пропуски. Предложите свой способ заполнения пропусков в данных.\n",
        "\n",
        "Еще раз обращаем внимание, что пока мы работаем **только с тренировочной выборкой**. Тестовая выборка будет обрабатываться в пункте 9."
      ],
      "metadata": {
        "id": "F52r8wkh_J8U"
      }
    },
    {
      "cell_type": "code",
      "source": [
        "X_train.isna().any()"
      ],
      "metadata": {
        "colab": {
          "base_uri": "https://localhost:8080/"
        },
        "id": "nuf4EWNUO00k",
        "outputId": "377e041b-6976-4b23-ffe5-602f0fb30720"
      },
      "execution_count": null,
      "outputs": [
        {
          "output_type": "execute_result",
          "data": {
            "text/plain": [
              "in_spotify_playlists    False\n",
              "in_spotify_charts       False\n",
              "in_apple_playlists      False\n",
              "in_apple_charts         False\n",
              "in_deezer_playlists     False\n",
              "in_deezer_charts        False\n",
              "in_shazam_charts         True\n",
              "dtype: bool"
            ]
          },
          "metadata": {},
          "execution_count": 22
        }
      ]
    },
    {
      "cell_type": "markdown",
      "source": [
        "Пропусков виде Nan почти нет, но посмотрим, есть ли неправильные данные, пропуки в виде -, ? и тп."
      ],
      "metadata": {
        "id": "m8k8I6auO-y0"
      }
    },
    {
      "cell_type": "code",
      "source": [
        "X_train['in_spotify_playlists']"
      ],
      "metadata": {
        "colab": {
          "base_uri": "https://localhost:8080/"
        },
        "id": "e5s2Oo1fP3VU",
        "outputId": "9f889892-7f32-42be-c7e0-401a25cb33df"
      },
      "execution_count": null,
      "outputs": [
        {
          "output_type": "execute_result",
          "data": {
            "text/plain": [
              "316     2128\n",
              "695    13454\n",
              "212      185\n",
              "79       370\n",
              "148     1507\n",
              "       ...  \n",
              "106    21097\n",
              "270     1282\n",
              "860      220\n",
              "435      713\n",
              "102     2528\n",
              "Name: in_spotify_playlists, Length: 667, dtype: int64"
            ]
          },
          "metadata": {},
          "execution_count": 23
        }
      ]
    },
    {
      "cell_type": "code",
      "source": [
        "X_train['in_spotify_charts']"
      ],
      "metadata": {
        "colab": {
          "base_uri": "https://localhost:8080/"
        },
        "id": "9qcecHMpP27q",
        "outputId": "88adce91-1954-453d-e022-359e1ca38bb1"
      },
      "execution_count": null,
      "outputs": [
        {
          "output_type": "execute_result",
          "data": {
            "text/plain": [
              "316     9\n",
              "695     1\n",
              "212     3\n",
              "79     20\n",
              "148    14\n",
              "       ..\n",
              "106    52\n",
              "270     6\n",
              "860     4\n",
              "435     7\n",
              "102    39\n",
              "Name: in_spotify_charts, Length: 667, dtype: int64"
            ]
          },
          "metadata": {},
          "execution_count": 24
        }
      ]
    },
    {
      "cell_type": "code",
      "source": [
        "X_train['in_apple_playlists']"
      ],
      "metadata": {
        "colab": {
          "base_uri": "https://localhost:8080/"
        },
        "id": "wi2MhBclP2UW",
        "outputId": "221567aa-1e20-4be0-edd0-59c5106c9922"
      },
      "execution_count": null,
      "outputs": [
        {
          "output_type": "execute_result",
          "data": {
            "text/plain": [
              "316     37\n",
              "695    246\n",
              "212      5\n",
              "79      12\n",
              "148     24\n",
              "      ... \n",
              "106    384\n",
              "270     26\n",
              "860     16\n",
              "435      2\n",
              "102     56\n",
              "Name: in_apple_playlists, Length: 667, dtype: int64"
            ]
          },
          "metadata": {},
          "execution_count": 25
        }
      ]
    },
    {
      "cell_type": "code",
      "source": [
        "X_train['in_apple_charts']"
      ],
      "metadata": {
        "colab": {
          "base_uri": "https://localhost:8080/"
        },
        "id": "baDUMGFIP1uI",
        "outputId": "15fe7ea9-01a2-4eda-9093-954d57485345"
      },
      "execution_count": null,
      "outputs": [
        {
          "output_type": "execute_result",
          "data": {
            "text/plain": [
              "316     88\n",
              "695     71\n",
              "212      6\n",
              "79      16\n",
              "148     71\n",
              "      ... \n",
              "106    135\n",
              "270      6\n",
              "860      5\n",
              "435      4\n",
              "102     91\n",
              "Name: in_apple_charts, Length: 667, dtype: int64"
            ]
          },
          "metadata": {},
          "execution_count": 26
        }
      ]
    },
    {
      "cell_type": "code",
      "source": [
        "X_train['in_deezer_playlists']"
      ],
      "metadata": {
        "colab": {
          "base_uri": "https://localhost:8080/"
        },
        "id": "zbnHtwE1Pzi5",
        "outputId": "a9a11b8a-a6cb-421e-f087-34fd00f98a81"
      },
      "execution_count": null,
      "outputs": [
        {
          "output_type": "execute_result",
          "data": {
            "text/plain": [
              "316       9\n",
              "695     519\n",
              "212       4\n",
              "79       18\n",
              "148      44\n",
              "       ... \n",
              "106    1034\n",
              "270      19\n",
              "860       0\n",
              "435       6\n",
              "102      59\n",
              "Name: in_deezer_playlists, Length: 667, dtype: int64"
            ]
          },
          "metadata": {},
          "execution_count": 27
        }
      ]
    },
    {
      "cell_type": "code",
      "source": [
        "X_train['in_deezer_charts']"
      ],
      "metadata": {
        "colab": {
          "base_uri": "https://localhost:8080/"
        },
        "id": "ikUYMqV7PeVC",
        "outputId": "297785b6-bb56-4ac0-abbb-04229e1de893"
      },
      "execution_count": null,
      "outputs": [
        {
          "output_type": "execute_result",
          "data": {
            "text/plain": [
              "316     0\n",
              "695     2\n",
              "212     1\n",
              "79      4\n",
              "148     1\n",
              "       ..\n",
              "106    37\n",
              "270     0\n",
              "860     0\n",
              "435     0\n",
              "102     3\n",
              "Name: in_deezer_charts, Length: 667, dtype: int64"
            ]
          },
          "metadata": {},
          "execution_count": 28
        }
      ]
    },
    {
      "cell_type": "code",
      "source": [
        "X_train['in_shazam_charts']"
      ],
      "metadata": {
        "colab": {
          "base_uri": "https://localhost:8080/"
        },
        "id": "xwNZLMmKPM0k",
        "outputId": "ec54d1ff-048d-4c6d-f80c-61afeb31c2d8"
      },
      "execution_count": null,
      "outputs": [
        {
          "output_type": "execute_result",
          "data": {
            "text/plain": [
              "316     14.0\n",
              "695      5.0\n",
              "212     33.0\n",
              "79      93.0\n",
              "148    195.0\n",
              "       ...  \n",
              "106    312.0\n",
              "270      5.0\n",
              "860      6.0\n",
              "435      0.0\n",
              "102    486.0\n",
              "Name: in_shazam_charts, Length: 667, dtype: float64"
            ]
          },
          "metadata": {},
          "execution_count": 29
        }
      ]
    },
    {
      "cell_type": "markdown",
      "source": [
        "\n",
        "---\n",
        "\n",
        "Данные корректны, нет строковых значений в числовых признаках \\\n",
        "Пропуски есть только в признаке in_shazam_charts. Заполним пропуски медианным значением признака для выборки"
      ],
      "metadata": {
        "id": "2hZyDmRvXtxe"
      }
    },
    {
      "cell_type": "markdown",
      "source": [
        "В ячейке ниже приведите нужное заполнение признаков.\n",
        "\n",
        "Обратите внимание, что мы предполагаем, что нам неизвестна никакая информация по тестовой выборке! Т.е. при заполнении признаков можно пользоваться **только обучающей выборкой**. Например, средние значения и самые частые значения нужно вычислять **только на тренировочной выборке**. К тестовой выборке мы должны только **применять нужные преобразования** (например, заполнять пропуски только средним по тренировочной выборке, не по тестовой!). Применение обученных моделей к тестовой выборке будет выполняться далее (см. пункт 9)."
      ],
      "metadata": {
        "id": "YTqTA14yX01G"
      }
    },
    {
      "cell_type": "code",
      "source": [
        "shazam_charts_mean=int(X_train['in_shazam_charts'].loc[(X_train['in_shazam_charts'].isna() != True)].mean())\n",
        "X_train['in_shazam_charts']=X_train['in_shazam_charts'].fillna(shazam_charts_mean).astype(int)\n",
        "print(X_train['in_shazam_charts'])\n",
        "X_train['in_shazam_charts'].isna().any()"
      ],
      "metadata": {
        "id": "4mkXJg7lYc2B",
        "colab": {
          "base_uri": "https://localhost:8080/"
        },
        "outputId": "e50f4839-8fae-44fe-951e-fbbe684b1a43"
      },
      "execution_count": null,
      "outputs": [
        {
          "output_type": "stream",
          "name": "stdout",
          "text": [
            "316     14\n",
            "695      5\n",
            "212     33\n",
            "79      93\n",
            "148    195\n",
            "      ... \n",
            "106    312\n",
            "270      5\n",
            "860      6\n",
            "435      0\n",
            "102    486\n",
            "Name: in_shazam_charts, Length: 667, dtype: int64\n"
          ]
        },
        {
          "output_type": "stream",
          "name": "stderr",
          "text": [
            "<ipython-input-30-737fc00a19f3>:2: SettingWithCopyWarning: \n",
            "A value is trying to be set on a copy of a slice from a DataFrame.\n",
            "Try using .loc[row_indexer,col_indexer] = value instead\n",
            "\n",
            "See the caveats in the documentation: https://pandas.pydata.org/pandas-docs/stable/user_guide/indexing.html#returning-a-view-versus-a-copy\n",
            "  X_train['in_shazam_charts']=X_train['in_shazam_charts'].fillna(shazam_charts_mean).astype(int)\n"
          ]
        },
        {
          "output_type": "execute_result",
          "data": {
            "text/plain": [
              "False"
            ]
          },
          "metadata": {},
          "execution_count": 30
        }
      ]
    },
    {
      "cell_type": "markdown",
      "source": [
        "## 6. Построение новых признаков.\n",
        "\n",
        "Подумайте, какие новые признаки можно получить из исходного набора данных.\n",
        "\n",
        "Можно создавать любые признаки, которые могут вычисляться с помощью любой функции `f(X_train)` (например, можно вычислять квадраты отдельных признаков или любые другие преобразования). Также нужно векторизовать текстовые признаки.\n",
        "\n",
        "**Обратите внимание** на 2 момента:\n",
        "\n",
        "1. Любые алгоритмы создания признаков можно обучать (подбирать параметры) **только** на тренировочной выборке. К тестовой выборке нужно только **применять** обученные алгоритмы (например, polyfit нужно обучать на тренировочной, а к тестовой только применять. То же самое с векторизацией текстов. Мы строим словарь токенов **только** по тренировочной выборке, а к тестовой применяем - но нужно подумать, как поступать в случае, когда в тестовой выборке встречаются токены, которых не было в тренировочной выборке. В простом случае можно заменять такие неизвестные токены в тестовой выборке на самый частый токен. За доп. баллы можно дополнительно изучить документацию к TFIDFVectorizer и понять, как обрабатываются такие ситуации). Применение обученных алгоритмов к тестовой выборке будет выполняться далее, в пункте 9. Пока нужно только обучить и применить алгоритмы обработки на тренировочной выборке.\n",
        "\n",
        "2. Число признаков не должно превышать или быть близким к размеру тренировочной выборки! Иначе модель не обучится...\n"
      ],
      "metadata": {
        "id": "8730kSXjYnys"
      }
    },
    {
      "cell_type": "markdown",
      "source": [
        "\n",
        "\n",
        "---\n",
        "Можем добавить такие признаки: \\\n",
        "1) среднее между energy_% и danceability_% (назовём его \"клубностью\" , так как в клубах танцуют под более энергичную музыку, вероятно... clubbing_%) \\\n",
        "2) среднее между acousticness_%, liveness_% (приближенность к жизни proximaty_to_life_%)\n",
        "\n",
        "\n",
        "\n",
        "\n",
        "\n",
        "\n"
      ],
      "metadata": {
        "id": "Hsry2-l4qcFv"
      }
    },
    {
      "cell_type": "code",
      "source": [
        "X_train_copy = pd.read_csv('train_features.csv', index_col=0, encoding='ISO-8859-1', header=0, thousands=',')\n",
        "new_1=['energy_%', 'danceability_%']\n",
        "new_2=['acousticness_%', 'liveness_%']\n",
        "X_train_1=X_train_copy[new_1]\n",
        "X_train_2=X_train_copy[new_2]\n",
        "X_train_1=pd.DataFrame(X_train_1.mean(axis=1).astype(int), columns=['clubbing_%'])\n",
        "X_train_2=pd.DataFrame(X_train_2.mean(axis=1).astype(int), columns=['poximaty_to_life_%'])\n",
        "X_train_add=pd.concat([X_train, X_train_1, X_train_2], axis=1)\n",
        "X_train_add"
      ],
      "metadata": {
        "id": "IfRPDck9aeWa",
        "colab": {
          "base_uri": "https://localhost:8080/",
          "height": 443
        },
        "outputId": "8a4c6207-aaeb-4b44-ed94-b4d28943e696"
      },
      "execution_count": null,
      "outputs": [
        {
          "output_type": "execute_result",
          "data": {
            "text/plain": [
              "     in_spotify_playlists  in_spotify_charts  in_apple_playlists  \\\n",
              "316                  2128                  9                  37   \n",
              "695                 13454                  1                 246   \n",
              "212                   185                  3                   5   \n",
              "79                    370                 20                  12   \n",
              "148                  1507                 14                  24   \n",
              "..                    ...                ...                 ...   \n",
              "106                 21097                 52                 384   \n",
              "270                  1282                  6                  26   \n",
              "860                   220                  4                  16   \n",
              "435                   713                  7                   2   \n",
              "102                  2528                 39                  56   \n",
              "\n",
              "     in_apple_charts  in_deezer_playlists  in_deezer_charts  in_shazam_charts  \\\n",
              "316               88                    9                 0                14   \n",
              "695               71                  519                 2                 5   \n",
              "212                6                    4                 1                33   \n",
              "79                16                   18                 4                93   \n",
              "148               71                   44                 1               195   \n",
              "..               ...                  ...               ...               ...   \n",
              "106              135                 1034                37               312   \n",
              "270                6                   19                 0                 5   \n",
              "860                5                    0                 0                 6   \n",
              "435                4                    6                 0                 0   \n",
              "102               91                   59                 3               486   \n",
              "\n",
              "     clubbing_%  poximaty_to_life_%  \n",
              "316          79                  43  \n",
              "695          72                   6  \n",
              "212          67                  20  \n",
              "79           73                  31  \n",
              "148          47                  52  \n",
              "..          ...                 ...  \n",
              "106          80                   7  \n",
              "270          59                  42  \n",
              "860          44                  46  \n",
              "435          56                  21  \n",
              "102          70                   6  \n",
              "\n",
              "[667 rows x 9 columns]"
            ],
            "text/html": [
              "\n",
              "  <div id=\"df-a92e7f4c-7db1-419f-8601-79d7d857fe19\" class=\"colab-df-container\">\n",
              "    <div>\n",
              "<style scoped>\n",
              "    .dataframe tbody tr th:only-of-type {\n",
              "        vertical-align: middle;\n",
              "    }\n",
              "\n",
              "    .dataframe tbody tr th {\n",
              "        vertical-align: top;\n",
              "    }\n",
              "\n",
              "    .dataframe thead th {\n",
              "        text-align: right;\n",
              "    }\n",
              "</style>\n",
              "<table border=\"1\" class=\"dataframe\">\n",
              "  <thead>\n",
              "    <tr style=\"text-align: right;\">\n",
              "      <th></th>\n",
              "      <th>in_spotify_playlists</th>\n",
              "      <th>in_spotify_charts</th>\n",
              "      <th>in_apple_playlists</th>\n",
              "      <th>in_apple_charts</th>\n",
              "      <th>in_deezer_playlists</th>\n",
              "      <th>in_deezer_charts</th>\n",
              "      <th>in_shazam_charts</th>\n",
              "      <th>clubbing_%</th>\n",
              "      <th>poximaty_to_life_%</th>\n",
              "    </tr>\n",
              "  </thead>\n",
              "  <tbody>\n",
              "    <tr>\n",
              "      <th>316</th>\n",
              "      <td>2128</td>\n",
              "      <td>9</td>\n",
              "      <td>37</td>\n",
              "      <td>88</td>\n",
              "      <td>9</td>\n",
              "      <td>0</td>\n",
              "      <td>14</td>\n",
              "      <td>79</td>\n",
              "      <td>43</td>\n",
              "    </tr>\n",
              "    <tr>\n",
              "      <th>695</th>\n",
              "      <td>13454</td>\n",
              "      <td>1</td>\n",
              "      <td>246</td>\n",
              "      <td>71</td>\n",
              "      <td>519</td>\n",
              "      <td>2</td>\n",
              "      <td>5</td>\n",
              "      <td>72</td>\n",
              "      <td>6</td>\n",
              "    </tr>\n",
              "    <tr>\n",
              "      <th>212</th>\n",
              "      <td>185</td>\n",
              "      <td>3</td>\n",
              "      <td>5</td>\n",
              "      <td>6</td>\n",
              "      <td>4</td>\n",
              "      <td>1</td>\n",
              "      <td>33</td>\n",
              "      <td>67</td>\n",
              "      <td>20</td>\n",
              "    </tr>\n",
              "    <tr>\n",
              "      <th>79</th>\n",
              "      <td>370</td>\n",
              "      <td>20</td>\n",
              "      <td>12</td>\n",
              "      <td>16</td>\n",
              "      <td>18</td>\n",
              "      <td>4</td>\n",
              "      <td>93</td>\n",
              "      <td>73</td>\n",
              "      <td>31</td>\n",
              "    </tr>\n",
              "    <tr>\n",
              "      <th>148</th>\n",
              "      <td>1507</td>\n",
              "      <td>14</td>\n",
              "      <td>24</td>\n",
              "      <td>71</td>\n",
              "      <td>44</td>\n",
              "      <td>1</td>\n",
              "      <td>195</td>\n",
              "      <td>47</td>\n",
              "      <td>52</td>\n",
              "    </tr>\n",
              "    <tr>\n",
              "      <th>...</th>\n",
              "      <td>...</td>\n",
              "      <td>...</td>\n",
              "      <td>...</td>\n",
              "      <td>...</td>\n",
              "      <td>...</td>\n",
              "      <td>...</td>\n",
              "      <td>...</td>\n",
              "      <td>...</td>\n",
              "      <td>...</td>\n",
              "    </tr>\n",
              "    <tr>\n",
              "      <th>106</th>\n",
              "      <td>21097</td>\n",
              "      <td>52</td>\n",
              "      <td>384</td>\n",
              "      <td>135</td>\n",
              "      <td>1034</td>\n",
              "      <td>37</td>\n",
              "      <td>312</td>\n",
              "      <td>80</td>\n",
              "      <td>7</td>\n",
              "    </tr>\n",
              "    <tr>\n",
              "      <th>270</th>\n",
              "      <td>1282</td>\n",
              "      <td>6</td>\n",
              "      <td>26</td>\n",
              "      <td>6</td>\n",
              "      <td>19</td>\n",
              "      <td>0</td>\n",
              "      <td>5</td>\n",
              "      <td>59</td>\n",
              "      <td>42</td>\n",
              "    </tr>\n",
              "    <tr>\n",
              "      <th>860</th>\n",
              "      <td>220</td>\n",
              "      <td>4</td>\n",
              "      <td>16</td>\n",
              "      <td>5</td>\n",
              "      <td>0</td>\n",
              "      <td>0</td>\n",
              "      <td>6</td>\n",
              "      <td>44</td>\n",
              "      <td>46</td>\n",
              "    </tr>\n",
              "    <tr>\n",
              "      <th>435</th>\n",
              "      <td>713</td>\n",
              "      <td>7</td>\n",
              "      <td>2</td>\n",
              "      <td>4</td>\n",
              "      <td>6</td>\n",
              "      <td>0</td>\n",
              "      <td>0</td>\n",
              "      <td>56</td>\n",
              "      <td>21</td>\n",
              "    </tr>\n",
              "    <tr>\n",
              "      <th>102</th>\n",
              "      <td>2528</td>\n",
              "      <td>39</td>\n",
              "      <td>56</td>\n",
              "      <td>91</td>\n",
              "      <td>59</td>\n",
              "      <td>3</td>\n",
              "      <td>486</td>\n",
              "      <td>70</td>\n",
              "      <td>6</td>\n",
              "    </tr>\n",
              "  </tbody>\n",
              "</table>\n",
              "<p>667 rows × 9 columns</p>\n",
              "</div>\n",
              "    <div class=\"colab-df-buttons\">\n",
              "\n",
              "  <div class=\"colab-df-container\">\n",
              "    <button class=\"colab-df-convert\" onclick=\"convertToInteractive('df-a92e7f4c-7db1-419f-8601-79d7d857fe19')\"\n",
              "            title=\"Convert this dataframe to an interactive table.\"\n",
              "            style=\"display:none;\">\n",
              "\n",
              "  <svg xmlns=\"http://www.w3.org/2000/svg\" height=\"24px\" viewBox=\"0 -960 960 960\">\n",
              "    <path d=\"M120-120v-720h720v720H120Zm60-500h600v-160H180v160Zm220 220h160v-160H400v160Zm0 220h160v-160H400v160ZM180-400h160v-160H180v160Zm440 0h160v-160H620v160ZM180-180h160v-160H180v160Zm440 0h160v-160H620v160Z\"/>\n",
              "  </svg>\n",
              "    </button>\n",
              "\n",
              "  <style>\n",
              "    .colab-df-container {\n",
              "      display:flex;\n",
              "      gap: 12px;\n",
              "    }\n",
              "\n",
              "    .colab-df-convert {\n",
              "      background-color: #E8F0FE;\n",
              "      border: none;\n",
              "      border-radius: 50%;\n",
              "      cursor: pointer;\n",
              "      display: none;\n",
              "      fill: #1967D2;\n",
              "      height: 32px;\n",
              "      padding: 0 0 0 0;\n",
              "      width: 32px;\n",
              "    }\n",
              "\n",
              "    .colab-df-convert:hover {\n",
              "      background-color: #E2EBFA;\n",
              "      box-shadow: 0px 1px 2px rgba(60, 64, 67, 0.3), 0px 1px 3px 1px rgba(60, 64, 67, 0.15);\n",
              "      fill: #174EA6;\n",
              "    }\n",
              "\n",
              "    .colab-df-buttons div {\n",
              "      margin-bottom: 4px;\n",
              "    }\n",
              "\n",
              "    [theme=dark] .colab-df-convert {\n",
              "      background-color: #3B4455;\n",
              "      fill: #D2E3FC;\n",
              "    }\n",
              "\n",
              "    [theme=dark] .colab-df-convert:hover {\n",
              "      background-color: #434B5C;\n",
              "      box-shadow: 0px 1px 3px 1px rgba(0, 0, 0, 0.15);\n",
              "      filter: drop-shadow(0px 1px 2px rgba(0, 0, 0, 0.3));\n",
              "      fill: #FFFFFF;\n",
              "    }\n",
              "  </style>\n",
              "\n",
              "    <script>\n",
              "      const buttonEl =\n",
              "        document.querySelector('#df-a92e7f4c-7db1-419f-8601-79d7d857fe19 button.colab-df-convert');\n",
              "      buttonEl.style.display =\n",
              "        google.colab.kernel.accessAllowed ? 'block' : 'none';\n",
              "\n",
              "      async function convertToInteractive(key) {\n",
              "        const element = document.querySelector('#df-a92e7f4c-7db1-419f-8601-79d7d857fe19');\n",
              "        const dataTable =\n",
              "          await google.colab.kernel.invokeFunction('convertToInteractive',\n",
              "                                                    [key], {});\n",
              "        if (!dataTable) return;\n",
              "\n",
              "        const docLinkHtml = 'Like what you see? Visit the ' +\n",
              "          '<a target=\"_blank\" href=https://colab.research.google.com/notebooks/data_table.ipynb>data table notebook</a>'\n",
              "          + ' to learn more about interactive tables.';\n",
              "        element.innerHTML = '';\n",
              "        dataTable['output_type'] = 'display_data';\n",
              "        await google.colab.output.renderOutput(dataTable, element);\n",
              "        const docLink = document.createElement('div');\n",
              "        docLink.innerHTML = docLinkHtml;\n",
              "        element.appendChild(docLink);\n",
              "      }\n",
              "    </script>\n",
              "  </div>\n",
              "\n",
              "\n",
              "<div id=\"df-193c89f6-245f-4275-966e-185936affbd5\">\n",
              "  <button class=\"colab-df-quickchart\" onclick=\"quickchart('df-193c89f6-245f-4275-966e-185936affbd5')\"\n",
              "            title=\"Suggest charts\"\n",
              "            style=\"display:none;\">\n",
              "\n",
              "<svg xmlns=\"http://www.w3.org/2000/svg\" height=\"24px\"viewBox=\"0 0 24 24\"\n",
              "     width=\"24px\">\n",
              "    <g>\n",
              "        <path d=\"M19 3H5c-1.1 0-2 .9-2 2v14c0 1.1.9 2 2 2h14c1.1 0 2-.9 2-2V5c0-1.1-.9-2-2-2zM9 17H7v-7h2v7zm4 0h-2V7h2v10zm4 0h-2v-4h2v4z\"/>\n",
              "    </g>\n",
              "</svg>\n",
              "  </button>\n",
              "\n",
              "<style>\n",
              "  .colab-df-quickchart {\n",
              "      --bg-color: #E8F0FE;\n",
              "      --fill-color: #1967D2;\n",
              "      --hover-bg-color: #E2EBFA;\n",
              "      --hover-fill-color: #174EA6;\n",
              "      --disabled-fill-color: #AAA;\n",
              "      --disabled-bg-color: #DDD;\n",
              "  }\n",
              "\n",
              "  [theme=dark] .colab-df-quickchart {\n",
              "      --bg-color: #3B4455;\n",
              "      --fill-color: #D2E3FC;\n",
              "      --hover-bg-color: #434B5C;\n",
              "      --hover-fill-color: #FFFFFF;\n",
              "      --disabled-bg-color: #3B4455;\n",
              "      --disabled-fill-color: #666;\n",
              "  }\n",
              "\n",
              "  .colab-df-quickchart {\n",
              "    background-color: var(--bg-color);\n",
              "    border: none;\n",
              "    border-radius: 50%;\n",
              "    cursor: pointer;\n",
              "    display: none;\n",
              "    fill: var(--fill-color);\n",
              "    height: 32px;\n",
              "    padding: 0;\n",
              "    width: 32px;\n",
              "  }\n",
              "\n",
              "  .colab-df-quickchart:hover {\n",
              "    background-color: var(--hover-bg-color);\n",
              "    box-shadow: 0 1px 2px rgba(60, 64, 67, 0.3), 0 1px 3px 1px rgba(60, 64, 67, 0.15);\n",
              "    fill: var(--button-hover-fill-color);\n",
              "  }\n",
              "\n",
              "  .colab-df-quickchart-complete:disabled,\n",
              "  .colab-df-quickchart-complete:disabled:hover {\n",
              "    background-color: var(--disabled-bg-color);\n",
              "    fill: var(--disabled-fill-color);\n",
              "    box-shadow: none;\n",
              "  }\n",
              "\n",
              "  .colab-df-spinner {\n",
              "    border: 2px solid var(--fill-color);\n",
              "    border-color: transparent;\n",
              "    border-bottom-color: var(--fill-color);\n",
              "    animation:\n",
              "      spin 1s steps(1) infinite;\n",
              "  }\n",
              "\n",
              "  @keyframes spin {\n",
              "    0% {\n",
              "      border-color: transparent;\n",
              "      border-bottom-color: var(--fill-color);\n",
              "      border-left-color: var(--fill-color);\n",
              "    }\n",
              "    20% {\n",
              "      border-color: transparent;\n",
              "      border-left-color: var(--fill-color);\n",
              "      border-top-color: var(--fill-color);\n",
              "    }\n",
              "    30% {\n",
              "      border-color: transparent;\n",
              "      border-left-color: var(--fill-color);\n",
              "      border-top-color: var(--fill-color);\n",
              "      border-right-color: var(--fill-color);\n",
              "    }\n",
              "    40% {\n",
              "      border-color: transparent;\n",
              "      border-right-color: var(--fill-color);\n",
              "      border-top-color: var(--fill-color);\n",
              "    }\n",
              "    60% {\n",
              "      border-color: transparent;\n",
              "      border-right-color: var(--fill-color);\n",
              "    }\n",
              "    80% {\n",
              "      border-color: transparent;\n",
              "      border-right-color: var(--fill-color);\n",
              "      border-bottom-color: var(--fill-color);\n",
              "    }\n",
              "    90% {\n",
              "      border-color: transparent;\n",
              "      border-bottom-color: var(--fill-color);\n",
              "    }\n",
              "  }\n",
              "</style>\n",
              "\n",
              "  <script>\n",
              "    async function quickchart(key) {\n",
              "      const quickchartButtonEl =\n",
              "        document.querySelector('#' + key + ' button');\n",
              "      quickchartButtonEl.disabled = true;  // To prevent multiple clicks.\n",
              "      quickchartButtonEl.classList.add('colab-df-spinner');\n",
              "      try {\n",
              "        const charts = await google.colab.kernel.invokeFunction(\n",
              "            'suggestCharts', [key], {});\n",
              "      } catch (error) {\n",
              "        console.error('Error during call to suggestCharts:', error);\n",
              "      }\n",
              "      quickchartButtonEl.classList.remove('colab-df-spinner');\n",
              "      quickchartButtonEl.classList.add('colab-df-quickchart-complete');\n",
              "    }\n",
              "    (() => {\n",
              "      let quickchartButtonEl =\n",
              "        document.querySelector('#df-193c89f6-245f-4275-966e-185936affbd5 button');\n",
              "      quickchartButtonEl.style.display =\n",
              "        google.colab.kernel.accessAllowed ? 'block' : 'none';\n",
              "    })();\n",
              "  </script>\n",
              "</div>\n",
              "    </div>\n",
              "  </div>\n"
            ]
          },
          "metadata": {},
          "execution_count": 31
        }
      ]
    },
    {
      "cell_type": "markdown",
      "source": [
        "## 7. Выбор моделей регрессии.\n",
        "\n",
        "Подумайте, какие модели регрессии можно применить для решения поставленной задачи.\n",
        "\n",
        "Необходимо рассмотреть модели из семинаров и лекций, также можно пользоваться любыми другими моделями, доступными в `sklearn` (за это будут доп. баллы)."
      ],
      "metadata": {
        "id": "CzJasD5mans1"
      }
    },
    {
      "cell_type": "markdown",
      "source": [
        "## 8. Отбор моделей.\n",
        "\n",
        "Произведите отбор моделей, показывающих лучший результат на тренировочной выборке.\n",
        "\n",
        "Для отбора моделей используйте кросс-валидацию с вычислением усредненного значения R^2. Параметры кросс-валидации подберите самостоятельно.\n",
        "\n",
        "**Дополнительно** можно использовать Pipeline, за который будут начисляться бонусные баллы."
      ],
      "metadata": {
        "id": "AC2VFOPvbHBd"
      }
    },
    {
      "cell_type": "markdown",
      "source": [
        "\n",
        "\n",
        "1.   **Linear regression, PolynomialFeatures**\n",
        "\n"
      ],
      "metadata": {
        "id": "n9H-1pA9CRNt"
      }
    },
    {
      "cell_type": "code",
      "source": [
        "from sklearn.pipeline import Pipeline\n",
        "from sklearn.model_selection import GridSearchCV\n",
        "from sklearn.preprocessing import StandardScaler\n",
        "from sklearn.preprocessing import normalize, QuantileTransformer\n",
        "from sklearn.linear_model import LinearRegression\n",
        "from sklearn.preprocessing import PolynomialFeatures\n",
        "from sklearn.neighbors import KNeighborsRegressor\n",
        "\n",
        "lin_reg=LinearRegression()\n",
        "poly=PolynomialFeatures()\n",
        "\n",
        "pipe_1 = Pipeline(steps=[(\"poly\", poly), ('lin_reg', lin_reg)])\n",
        "\n",
        "param_grid_1={\n",
        "    \"poly__degree\": [1,2,3,4,5]\n",
        "}\n",
        "\n",
        "search_1 = GridSearchCV(pipe_1, param_grid_1, cv=3, scoring='r2')\n",
        "search_1.fit(X_train, y_train)\n",
        "print(\"R2 исходного:\", search_1.best_score_)\n",
        "print('Лучший параметр:', search_1.best_params_)\n",
        "\n",
        "search_1 = GridSearchCV(pipe_1, param_grid_1, cv=3, scoring='r2')\n",
        "search_1.fit(X_train, y_train)\n",
        "print(\"R2 для X_train:\", search_1.best_score_)\n",
        "print('Лучший параметр для X_train:', search_1.best_params_)\n",
        "\n",
        "search_1.fit(X_train_add, y_train)\n",
        "print(\"R2 для X_train_add:\", search_1.best_score_)\n",
        "print('Лучший параметр для X_train_add:', search_1.best_params_)"
      ],
      "metadata": {
        "colab": {
          "base_uri": "https://localhost:8080/"
        },
        "id": "x9HI0r5-8A9A",
        "outputId": "2701da6b-4e48-49d2-c4b5-248702ef42e5"
      },
      "execution_count": null,
      "outputs": [
        {
          "output_type": "stream",
          "name": "stdout",
          "text": [
            "R2 исходного: 0.709213519289342\n",
            "Лучший параметр: {'poly__degree': 1}\n",
            "R2 для X_train: 0.709213519289342\n",
            "Лучший параметр для X_train: {'poly__degree': 1}\n",
            "R2 для X_train_add: 0.7128091364543024\n",
            "Лучший параметр для X_train_add: {'poly__degree': 1}\n"
          ]
        }
      ]
    },
    {
      "cell_type": "markdown",
      "source": [
        "\n",
        "\n",
        "2.  **LinearRegression, scaler**\n",
        "\n"
      ],
      "metadata": {
        "id": "HzNNSV7ZVKKH"
      }
    },
    {
      "cell_type": "code",
      "source": [
        "sc=StandardScaler()\n",
        "\n",
        "pipe_2=Pipeline(steps=[('sc', sc ), ('lin_reg', lin_reg)])\n",
        "param_grid_2={\n",
        "    'lin_reg__fit_intercept':[True, False]\n",
        "}\n",
        "\n",
        "search_2 = GridSearchCV(pipe_2, param_grid_2, cv=3, scoring='r2')\n",
        "search_2.fit(X_train, y_train)\n",
        "print(\"R2 для X_train:\", search_2.best_score_)\n",
        "print('Лучший параметр для X_train:', search_2.best_params_)\n",
        "\n",
        "search_2 = GridSearchCV(pipe_2, param_grid_2, cv=3, scoring='r2')\n",
        "search_2.fit(X_train, y_train)\n",
        "print(\"R2 для X_train:\", search_2.best_score_)\n",
        "print('Лучший параметр для X_train:', search_2.best_params_)\n",
        "\n",
        "search_2.fit(X_train_add, y_train)\n",
        "print(\"R2 для X_train_add:\", search_2.best_score_)\n",
        "print('Лучший параметр для X_train_add:', search_2.best_params_)"
      ],
      "metadata": {
        "colab": {
          "base_uri": "https://localhost:8080/"
        },
        "id": "liZnBcxfWfMh",
        "outputId": "90e73b3a-b0f1-4a51-81ab-3d655f34990f"
      },
      "execution_count": null,
      "outputs": [
        {
          "output_type": "stream",
          "name": "stdout",
          "text": [
            "R2 для X_train: 0.709213519289342\n",
            "Лучший параметр для X_train: {'lin_reg__fit_intercept': True}\n",
            "R2 для X_train: 0.709213519289342\n",
            "Лучший параметр для X_train: {'lin_reg__fit_intercept': True}\n",
            "R2 для X_train_add: 0.7128091364543024\n",
            "Лучший параметр для X_train_add: {'lin_reg__fit_intercept': True}\n"
          ]
        }
      ]
    },
    {
      "cell_type": "markdown",
      "source": [
        "\n",
        "\n",
        "3.   **LinearRegression, quantiles**\n",
        "\n"
      ],
      "metadata": {
        "id": "1Z5LZO3fZLKt"
      }
    },
    {
      "cell_type": "code",
      "source": [
        "qt=QuantileTransformer()\n",
        "\n",
        "pipe_3=Pipeline(steps=[('qt', qt), ('lin_reg', lin_reg)])\n",
        "param_grid_3={\n",
        "    'qt__n_quantiles': [5,10,20,40,100],\n",
        "    'qt__random_state':[20],\n",
        "    'lin_reg__fit_intercept':[True, False]\n",
        "}\n",
        "\n",
        "search_3 = GridSearchCV(pipe_3, param_grid_3, cv=3, scoring='r2')\n",
        "search_3.fit(X_train, y_train)\n",
        "print(\"R2 для X_train:\", search_3.best_score_)\n",
        "print('Лучший параметр для X_train:', search_3.best_params_)\n",
        "#значения для выборки с добавленными данными\n",
        "search_3.fit(X_train_add, y_train)\n",
        "print(\"R2 для X_trainadd_:\", search_3.best_score_)\n",
        "print('Лучший параметр для X_train_add:', search_3.best_params_)"
      ],
      "metadata": {
        "colab": {
          "base_uri": "https://localhost:8080/"
        },
        "id": "yL45EjOxfDnA",
        "outputId": "ba226383-7204-4eb8-8a94-e4965a0a524a"
      },
      "execution_count": null,
      "outputs": [
        {
          "output_type": "stream",
          "name": "stdout",
          "text": [
            "R2 для X_train: 0.6013345746029226\n",
            "Лучший параметр для X_train: {'lin_reg__fit_intercept': True, 'qt__n_quantiles': 100, 'qt__random_state': 20}\n",
            "R2 для X_trainadd_: 0.600646174519273\n",
            "Лучший параметр для X_train_add: {'lin_reg__fit_intercept': True, 'qt__n_quantiles': 100, 'qt__random_state': 20}\n"
          ]
        }
      ]
    },
    {
      "cell_type": "markdown",
      "source": [
        "\n",
        "\n",
        "4.  **KNN, quantile**\n",
        "\n"
      ],
      "metadata": {
        "id": "tbHkTWn2jyqN"
      }
    },
    {
      "cell_type": "code",
      "source": [
        "knn=KNeighborsRegressor()\n",
        "\n",
        "pipe_4=Pipeline(steps=[('qt', qt), ('knn', knn)])\n",
        "param_grid_4={\n",
        "    'qt__n_quantiles': [5,10,20,30,40],\n",
        "    'knn__n_neighbors':[1,2,3,5,10,15,20,25],\n",
        "    'knn__metric':['euclidean', 'manhattan', 'cosine' ]\n",
        "}\n",
        "\n",
        "search_4 = GridSearchCV(pipe_4, param_grid_4, cv=3, scoring='r2')\n",
        "search_4.fit(X_train, y_train)\n",
        "print(\"R2 для X_train:\", search_4.best_score_)\n",
        "print('Лучший параметр для X_train:', search_4.best_params_)\n",
        "\n",
        "search_4.fit(X_train_add, y_train)\n",
        "print(\"R2 для X_train_add:\", search_4.best_score_)\n",
        "print('Лучший параметр для X_train_add:', search_4.best_params_)"
      ],
      "metadata": {
        "colab": {
          "base_uri": "https://localhost:8080/"
        },
        "id": "cDw_Cqb5dl7U",
        "outputId": "16c7f29a-4210-4cff-9499-ba2fa5472f18"
      },
      "execution_count": null,
      "outputs": [
        {
          "output_type": "stream",
          "name": "stdout",
          "text": [
            "R2 для X_train: 0.7508870491465979\n",
            "Лучший параметр для X_train: {'knn__metric': 'manhattan', 'knn__n_neighbors': 3, 'qt__n_quantiles': 40}\n",
            "R2 для X_train_add: 0.7303081318898362\n",
            "Лучший параметр для X_train_add: {'knn__metric': 'manhattan', 'knn__n_neighbors': 5, 'qt__n_quantiles': 20}\n"
          ]
        }
      ]
    },
    {
      "cell_type": "markdown",
      "source": [
        "\n",
        "\n",
        "5. KNN  \n",
        "\n"
      ],
      "metadata": {
        "id": "bEFReeKNcr9j"
      }
    },
    {
      "cell_type": "code",
      "source": [
        "pipe_5=Pipeline(steps=[('knn', knn)])\n",
        "param_grid_5={\n",
        "    'knn__n_neighbors':[1,2,3,5,10,15,20,25],\n",
        "    'knn__metric':['euclidean', 'manhattan', 'cosine' ]\n",
        "}\n",
        "\n",
        "search_5 = GridSearchCV(pipe_5, param_grid_5, cv=3, scoring='r2')\n",
        "search_5.fit(X_train, y_train)\n",
        "print(\"R2 для X_train:\", search_5.best_score_)\n",
        "print('Лучший параметр для X_train:', search_5.best_params_)\n",
        "\n",
        "search_5.fit(X_train_add, y_train)\n",
        "print(\"R2 для X_train_add:\", search_5.best_score_)\n",
        "print('Лучший параметр для X_train_add:', search_5.best_params_)"
      ],
      "metadata": {
        "colab": {
          "base_uri": "https://localhost:8080/"
        },
        "id": "WynabLpH0e3H",
        "outputId": "46825600-4c45-4e35-f577-979a0533941e"
      },
      "execution_count": null,
      "outputs": [
        {
          "output_type": "stream",
          "name": "stdout",
          "text": [
            "R2 для X_train: 0.7206749971019031\n",
            "Лучший параметр для X_train: {'knn__metric': 'manhattan', 'knn__n_neighbors': 5}\n",
            "R2 для X_train_add: 0.7218999734590689\n",
            "Лучший параметр для X_train_add: {'knn__metric': 'manhattan', 'knn__n_neighbors': 5}\n"
          ]
        }
      ]
    },
    {
      "cell_type": "markdown",
      "source": [
        "\n",
        "\n",
        "---\n",
        "Выше рассмотрены модели с семинаров. Рассмотрим ещё несколько моделей с https://scikit-learn.org/stable/modules/linear_model.html#\n",
        "\n",
        "\n",
        "\n",
        "---\n",
        "\n"
      ],
      "metadata": {
        "id": "ga-s-DjcedtQ"
      }
    },
    {
      "cell_type": "markdown",
      "source": [
        "\n",
        "\n",
        "6. **Lasso**\n",
        "\n"
      ],
      "metadata": {
        "id": "zCHrPGJberzC"
      }
    },
    {
      "cell_type": "code",
      "source": [
        "from sklearn.linear_model import Lasso\n",
        "\n",
        "lasso=Lasso()\n",
        "\n",
        "pipe_6=Pipeline(steps=[('lasso', lasso)])\n",
        "param_grid_6={\n",
        "    'lasso__alpha':[1, 2, 5, 10, 15, 20]\n",
        "}\n",
        "\n",
        "search_6 = GridSearchCV(pipe_6, param_grid_6, cv=3, scoring='r2')\n",
        "search_6.fit(X_train, y_train)\n",
        "print(\"R2 для X_train:\", search_6.best_score_)\n",
        "print('Лучший параметр для X_train:', search_6.best_params_)\n",
        "\n",
        "search_6.fit(X_train_add, y_train)\n",
        "print(\"R2 для X_train_add:\", search_6.best_score_)\n",
        "print('Лучший параметр для X_train_add:', search_6.best_params_)"
      ],
      "metadata": {
        "colab": {
          "base_uri": "https://localhost:8080/"
        },
        "id": "GZeiE-ONck4i",
        "outputId": "2c32236a-f98a-4e5e-a7d8-db1a5884ebb1"
      },
      "execution_count": null,
      "outputs": [
        {
          "output_type": "stream",
          "name": "stdout",
          "text": [
            "R2 для X_train: 0.7092135195679526\n",
            "Лучший параметр для X_train: {'lasso__alpha': 20}\n",
            "R2 для X_train_add: 0.7128091367083219\n",
            "Лучший параметр для X_train_add: {'lasso__alpha': 20}\n"
          ]
        }
      ]
    },
    {
      "cell_type": "code",
      "source": [
        "pipe_6=Pipeline(steps=[('qt', qt),('lasso', lasso)])\n",
        "param_grid_6={\n",
        "    'qt__n_quantiles': [5,10,20,30,40],\n",
        "    'lasso__alpha':[1, 2, 5, 10, 15, 20]\n",
        "}\n",
        "\n",
        "search_6 = GridSearchCV(pipe_6, param_grid_6, cv=3, scoring='r2')\n",
        "search_6.fit(X_train, y_train)\n",
        "print(\"R2 для X_train:\", search_6.best_score_)\n",
        "print('Лучший параметр для X_train:', search_6.best_params_)\n",
        "\n",
        "search_6.fit(X_train_add, y_train)\n",
        "print(\"R2 для X_train_add:\", search_6.best_score_)\n",
        "print('Лучший параметр для X_train_add:', search_6.best_params_)"
      ],
      "metadata": {
        "colab": {
          "base_uri": "https://localhost:8080/"
        },
        "id": "mJCEEFBJhedq",
        "outputId": "4c7a7256-bbe4-4d73-ef6d-6ad2a3263f9b"
      },
      "execution_count": null,
      "outputs": [
        {
          "output_type": "stream",
          "name": "stdout",
          "text": [
            "R2 для X_train: 0.6011230136863016\n",
            "Лучший параметр для X_train: {'lasso__alpha': 1, 'qt__n_quantiles': 40}\n",
            "R2 для X_train_add: 0.6002799558315501\n",
            "Лучший параметр для X_train_add: {'lasso__alpha': 1, 'qt__n_quantiles': 40}\n"
          ]
        }
      ]
    },
    {
      "cell_type": "code",
      "source": [
        "from sklearn.linear_model import BayesianRidge\n",
        "\n",
        "br=BayesianRidge()\n",
        "\n",
        "pipe_7=Pipeline(steps=[('br', br)])\n",
        "param_grid_7={\n",
        "    'br__alpha_1':[1e-6, 2e-6, 5e-6],\n",
        "    'br__alpha_2':[1e-6, 2e-6, 5e-6],\n",
        "    'br__lambda_1':[1e-6, 2e-6, 5e-6],\n",
        "    'br__lambda_2':[1e-6, 2e-6, 5e-6]\n",
        "}\n",
        "\n",
        "search_7 = GridSearchCV(pipe_7, param_grid_7, cv=3, scoring='r2')\n",
        "search_7.fit(X_train, y_train)\n",
        "print(\"R2 для X_train:\", search_7.best_score_)\n",
        "print('Лучший параметр для X_train:', search_7.best_params_)\n",
        "\n",
        "search_7.fit(X_train_add, y_train)\n",
        "print(\"R2 для X_train_add:\", search_7.best_score_)\n",
        "print('Лучший параметр для X_train_add:', search_7.best_params_)"
      ],
      "metadata": {
        "colab": {
          "base_uri": "https://localhost:8080/"
        },
        "id": "HiokNUbWk2SO",
        "outputId": "6f446a93-2250-41cb-815a-6a53093bf5db"
      },
      "execution_count": null,
      "outputs": [
        {
          "output_type": "stream",
          "name": "stdout",
          "text": [
            "R2 для X_train: 0.7081302520430987\n",
            "Лучший параметр для X_train: {'br__alpha_1': 5e-06, 'br__alpha_2': 1e-06, 'br__lambda_1': 1e-06, 'br__lambda_2': 5e-06}\n",
            "R2 для X_train_add: 0.7123501082518858\n",
            "Лучший параметр для X_train_add: {'br__alpha_1': 5e-06, 'br__alpha_2': 1e-06, 'br__lambda_1': 1e-06, 'br__lambda_2': 1e-06}\n"
          ]
        }
      ]
    },
    {
      "cell_type": "markdown",
      "source": [],
      "metadata": {
        "id": "NQ6eEhShc9rP"
      }
    },
    {
      "cell_type": "markdown",
      "source": [
        "## 9. Применение лучшей модели к тестовой выборке.\n",
        "\n",
        "Перенесите весь код по применению лучшей модели к данным тестовой выборки `X_test` (включая отбор и используемую обработку признаков, добавление новых признаков и применение обученной модели). Не забывайте указать import-ы всех библиотек и модулей, которые вы используете!\n",
        "\n",
        "В конце нужно будет выполнить predict для обученной модели на `X_test` (после выполнения всей обработки для тестовой выборки). В результате получится некоторый список `pred`. Его нужно будет отправить в качестве ответа на задание. Далее Яндекс. Контест автоматически сравнит ваши значения с эталонными на основании метрики R^2 и выдаст полученную точность. Нужно постараться достичь наилучшей точности.\n",
        "\n",
        "Баллы за задание будут выставляться на основании полученной лучшей точности. Необходимо будет достичь определенной точности, которая будет оглашена отдельно после отпарвки всех решений. Также дополнительно будут начисляться баллы за попадание в TOP-1, TOP-3, TOP-5 и TOP-10 по группе. Также полагаются дополнительные баллы за используемые модели (см. пояснения к каждым этапам задания)."
      ],
      "metadata": {
        "id": "ngEh3nNScbS9"
      }
    },
    {
      "cell_type": "code",
      "source": [
        "#библиотеки\n",
        "import pandas as pd\n",
        "from scipy.stats import f_oneway\n",
        "from sklearn.pipeline import Pipeline\n",
        "from sklearn.model_selection import GridSearchCV\n",
        "from sklearn.preprocessing import StandardScaler\n",
        "from sklearn.preprocessing import normalize, QuantileTransformer\n",
        "from sklearn.neighbors import KNeighborsRegressor\n",
        "\n",
        "#отбор признаков\n",
        "X_test=X_test[['in_spotify_playlists', 'in_spotify_charts', 'in_apple_playlists', 'in_apple_charts',\n",
        "                 'in_deezer_playlists', 'in_deezer_charts', 'in_shazam_charts']]\n",
        "\n",
        "#для выборки с добавленными признаками модели работают хуже, поэтому не берём добавленные признаки\n",
        "\n",
        "# заполнение пропусков\n",
        "for col in X_test.columns:\n",
        "  if X_test[col].isna().any()==True:\n",
        "    X_test[col]=X_test[col].fillna(X_train[col].mean())\n",
        "\n",
        "mdl=Pipeline(steps=[('qt', QuantileTransformer(n_quantiles=40)), ('knn', KNeighborsRegressor(metric='manhattan', n_neighbors=3))])\n",
        "mdl.fit(X_train, y_train)\n",
        "mdl.score(X_train, y_train)"
      ],
      "metadata": {
        "id": "6inK--qqjgFy",
        "colab": {
          "base_uri": "https://localhost:8080/"
        },
        "outputId": "44bbd156-5fa9-4325-c338-ee8593b55cb0"
      },
      "execution_count": null,
      "outputs": [
        {
          "output_type": "execute_result",
          "data": {
            "text/plain": [
              "0.8601996823754647"
            ]
          },
          "metadata": {},
          "execution_count": 126
        }
      ]
    },
    {
      "cell_type": "markdown",
      "source": [
        "Теперь сохраните результаты применения модели в файл `submission_res.npy`:"
      ],
      "metadata": {
        "id": "nyjNHSHVjhwD"
      }
    },
    {
      "cell_type": "code",
      "source": [
        "# Исправьте код в этой ячейке (если нужно) и запустите его\n",
        "# mdl - обученная модель (например, LinearRegression или Pipeline)\n",
        "\n",
        "import numpy as np\n",
        "\n",
        "y_pred = mdl.predict(X_test)\n",
        "np.save('submission_res.npy', y_pred)"
      ],
      "metadata": {
        "id": "QTl98WUwjlgK"
      },
      "execution_count": null,
      "outputs": []
    },
    {
      "cell_type": "markdown",
      "source": [
        "Теперь скачайте файл `submission_res.npy` из Google Colab (файл можно найти слева, нажав на кнопку папки) и приложите его в качестве ответа на задание в Яндекс. Контест."
      ],
      "metadata": {
        "id": "arbYC2KGjmI5"
      }
    }
  ]
}